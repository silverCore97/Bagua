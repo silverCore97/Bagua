{
  "cells": [
    {
      "cell_type": "markdown",
      "metadata": {
        "id": "view-in-github",
        "colab_type": "text"
      },
      "source": [
        "<a href=\"https://colab.research.google.com/github/silverCore97/Bagua/blob/main/QSparseLocal_MNIST_5_5_comp_step_clean.ipynb\" target=\"_parent\"><img src=\"https://colab.research.google.com/assets/colab-badge.svg\" alt=\"Open In Colab\"/></a>"
      ]
    },
    {
      "cell_type": "markdown",
      "metadata": {
        "id": "FidgI73Gc8m7"
      },
      "source": [
        "##**Check CUDA version**"
      ]
    },
    {
      "cell_type": "code",
      "execution_count": 1,
      "metadata": {
        "colab": {
          "base_uri": "https://localhost:8080/"
        },
        "id": "biBKGSXi6Chp",
        "outputId": "f9cfebbb-826f-4e05-c866-3c6067431b28"
      },
      "outputs": [
        {
          "output_type": "stream",
          "name": "stdout",
          "text": [
            "nvcc: NVIDIA (R) Cuda compiler driver\n",
            "Copyright (c) 2005-2020 NVIDIA Corporation\n",
            "Built on Mon_Oct_12_20:09:46_PDT_2020\n",
            "Cuda compilation tools, release 11.1, V11.1.105\n",
            "Build cuda_11.1.TC455_06.29190527_0\n"
          ]
        }
      ],
      "source": [
        "!nvcc --version"
      ]
    },
    {
      "cell_type": "markdown",
      "metadata": {
        "id": "H1UzpVrNc3wO"
      },
      "source": [
        "##**Install Bagua**"
      ]
    },
    {
      "cell_type": "code",
      "execution_count": 2,
      "metadata": {
        "colab": {
          "base_uri": "https://localhost:8080/"
        },
        "id": "-qCGqkkr5mr4",
        "outputId": "b5248f37-d247-4388-92d8-4b16a3ec9ead"
      },
      "outputs": [
        {
          "output_type": "stream",
          "name": "stdout",
          "text": [
            "Requirement already satisfied: bagua-cuda111 in /usr/local/lib/python3.7/dist-packages (0.9.0)\n",
            "Requirement already satisfied: setuptools-rust in /usr/local/lib/python3.7/dist-packages (from bagua-cuda111) (1.3.0)\n",
            "Requirement already satisfied: pydantic>=1.8 in /usr/local/lib/python3.7/dist-packages (from bagua-cuda111) (1.9.0)\n",
            "Requirement already satisfied: gorilla==0.4.0 in /usr/local/lib/python3.7/dist-packages (from bagua-cuda111) (0.4.0)\n",
            "Requirement already satisfied: requests>=2.25 in /usr/local/lib/python3.7/dist-packages (from bagua-cuda111) (2.27.1)\n",
            "Requirement already satisfied: flask>=2.0 in /usr/local/lib/python3.7/dist-packages (from bagua-cuda111) (2.1.2)\n",
            "Requirement already satisfied: xxhash>=2.0 in /usr/local/lib/python3.7/dist-packages (from bagua-cuda111) (3.0.0)\n",
            "Requirement already satisfied: colorama in /usr/local/lib/python3.7/dist-packages (from bagua-cuda111) (0.4.4)\n",
            "Requirement already satisfied: deprecation>=2.1 in /usr/local/lib/python3.7/dist-packages (from bagua-cuda111) (2.1.0)\n",
            "Requirement already satisfied: gevent>=21.8 in /usr/local/lib/python3.7/dist-packages (from bagua-cuda111) (21.12.0)\n",
            "Requirement already satisfied: prometheus-client>=0.11 in /usr/local/lib/python3.7/dist-packages (from bagua-cuda111) (0.14.1)\n",
            "Requirement already satisfied: scikit-optimize>=0.8.1 in /usr/local/lib/python3.7/dist-packages (from bagua-cuda111) (0.9.0)\n",
            "Requirement already satisfied: parallel-ssh==2.8.0 in /usr/local/lib/python3.7/dist-packages (from bagua-cuda111) (2.8.0)\n",
            "Requirement already satisfied: pytest-benchmark>=3.4 in /usr/local/lib/python3.7/dist-packages (from bagua-cuda111) (3.4.1)\n",
            "Requirement already satisfied: scikit-learn!=1.0,<=1.0.1,>=0.24 in /usr/local/lib/python3.7/dist-packages (from bagua-cuda111) (1.0.1)\n",
            "Requirement already satisfied: numpy in /usr/local/lib/python3.7/dist-packages (from bagua-cuda111) (1.21.6)\n",
            "Requirement already satisfied: tqdm in /usr/local/lib/python3.7/dist-packages (from bagua-cuda111) (4.64.0)\n",
            "Requirement already satisfied: ssh2-python>=0.22.0 in /usr/local/lib/python3.7/dist-packages (from parallel-ssh==2.8.0->bagua-cuda111) (0.27.0)\n",
            "Requirement already satisfied: ssh-python>=0.9.0 in /usr/local/lib/python3.7/dist-packages (from parallel-ssh==2.8.0->bagua-cuda111) (0.10.0)\n",
            "Requirement already satisfied: packaging in /usr/local/lib/python3.7/dist-packages (from deprecation>=2.1->bagua-cuda111) (21.3)\n",
            "Requirement already satisfied: click>=8.0 in /usr/local/lib/python3.7/dist-packages (from flask>=2.0->bagua-cuda111) (8.1.3)\n",
            "Requirement already satisfied: itsdangerous>=2.0 in /usr/local/lib/python3.7/dist-packages (from flask>=2.0->bagua-cuda111) (2.1.2)\n",
            "Requirement already satisfied: importlib-metadata>=3.6.0 in /usr/local/lib/python3.7/dist-packages (from flask>=2.0->bagua-cuda111) (4.11.3)\n",
            "Requirement already satisfied: Jinja2>=3.0 in /usr/local/lib/python3.7/dist-packages (from flask>=2.0->bagua-cuda111) (3.1.2)\n",
            "Requirement already satisfied: Werkzeug>=2.0 in /usr/local/lib/python3.7/dist-packages (from flask>=2.0->bagua-cuda111) (2.1.2)\n",
            "Requirement already satisfied: setuptools in /usr/local/lib/python3.7/dist-packages (from gevent>=21.8->bagua-cuda111) (62.1.0)\n",
            "Requirement already satisfied: greenlet<2.0,>=1.1.0 in /usr/local/lib/python3.7/dist-packages (from gevent>=21.8->bagua-cuda111) (1.1.2)\n",
            "Requirement already satisfied: zope.interface in /usr/local/lib/python3.7/dist-packages (from gevent>=21.8->bagua-cuda111) (5.4.0)\n",
            "Requirement already satisfied: zope.event in /usr/local/lib/python3.7/dist-packages (from gevent>=21.8->bagua-cuda111) (4.5.0)\n",
            "Requirement already satisfied: zipp>=0.5 in /usr/local/lib/python3.7/dist-packages (from importlib-metadata>=3.6.0->flask>=2.0->bagua-cuda111) (3.8.0)\n",
            "Requirement already satisfied: typing-extensions>=3.6.4 in /usr/local/lib/python3.7/dist-packages (from importlib-metadata>=3.6.0->flask>=2.0->bagua-cuda111) (4.2.0)\n",
            "Requirement already satisfied: MarkupSafe>=2.0 in /usr/local/lib/python3.7/dist-packages (from Jinja2>=3.0->flask>=2.0->bagua-cuda111) (2.0.1)\n",
            "Requirement already satisfied: pytest>=3.8 in /usr/local/lib/python3.7/dist-packages (from pytest-benchmark>=3.4->bagua-cuda111) (7.1.2)\n",
            "Requirement already satisfied: py-cpuinfo in /usr/local/lib/python3.7/dist-packages (from pytest-benchmark>=3.4->bagua-cuda111) (8.0.0)\n",
            "Requirement already satisfied: attrs>=19.2.0 in /usr/local/lib/python3.7/dist-packages (from pytest>=3.8->pytest-benchmark>=3.4->bagua-cuda111) (21.4.0)\n",
            "Requirement already satisfied: tomli>=1.0.0 in /usr/local/lib/python3.7/dist-packages (from pytest>=3.8->pytest-benchmark>=3.4->bagua-cuda111) (2.0.1)\n",
            "Requirement already satisfied: iniconfig in /usr/local/lib/python3.7/dist-packages (from pytest>=3.8->pytest-benchmark>=3.4->bagua-cuda111) (1.1.1)\n",
            "Requirement already satisfied: py>=1.8.2 in /usr/local/lib/python3.7/dist-packages (from pytest>=3.8->pytest-benchmark>=3.4->bagua-cuda111) (1.11.0)\n",
            "Requirement already satisfied: pluggy<2.0,>=0.12 in /usr/local/lib/python3.7/dist-packages (from pytest>=3.8->pytest-benchmark>=3.4->bagua-cuda111) (1.0.0)\n",
            "Requirement already satisfied: urllib3<1.27,>=1.21.1 in /usr/local/lib/python3.7/dist-packages (from requests>=2.25->bagua-cuda111) (1.24.3)\n",
            "Requirement already satisfied: idna<4,>=2.5 in /usr/local/lib/python3.7/dist-packages (from requests>=2.25->bagua-cuda111) (2.10)\n",
            "Requirement already satisfied: certifi>=2017.4.17 in /usr/local/lib/python3.7/dist-packages (from requests>=2.25->bagua-cuda111) (2021.10.8)\n",
            "Requirement already satisfied: charset-normalizer~=2.0.0 in /usr/local/lib/python3.7/dist-packages (from requests>=2.25->bagua-cuda111) (2.0.12)\n",
            "Requirement already satisfied: joblib>=0.11 in /usr/local/lib/python3.7/dist-packages (from scikit-learn!=1.0,<=1.0.1,>=0.24->bagua-cuda111) (1.1.0)\n",
            "Requirement already satisfied: threadpoolctl>=2.0.0 in /usr/local/lib/python3.7/dist-packages (from scikit-learn!=1.0,<=1.0.1,>=0.24->bagua-cuda111) (3.1.0)\n",
            "Requirement already satisfied: scipy>=1.1.0 in /usr/local/lib/python3.7/dist-packages (from scikit-learn!=1.0,<=1.0.1,>=0.24->bagua-cuda111) (1.4.1)\n",
            "Requirement already satisfied: pyaml>=16.9 in /usr/local/lib/python3.7/dist-packages (from scikit-optimize>=0.8.1->bagua-cuda111) (21.10.1)\n",
            "Requirement already satisfied: PyYAML in /usr/local/lib/python3.7/dist-packages (from pyaml>=16.9->scikit-optimize>=0.8.1->bagua-cuda111) (3.13)\n",
            "Requirement already satisfied: pyparsing!=3.0.5,>=2.0.2 in /usr/local/lib/python3.7/dist-packages (from packaging->deprecation>=2.1->bagua-cuda111) (3.0.8)\n",
            "Requirement already satisfied: semantic-version<3,>=2.8.2 in /usr/local/lib/python3.7/dist-packages (from setuptools-rust->bagua-cuda111) (2.9.0)\n"
          ]
        }
      ],
      "source": [
        "!pip install bagua-cuda111"
      ]
    },
    {
      "cell_type": "markdown",
      "metadata": {
        "id": "IThXKxGEcv4z"
      },
      "source": [
        "## **Import environment variables**"
      ]
    },
    {
      "cell_type": "code",
      "execution_count": 3,
      "metadata": {
        "id": "ykSOeQsnTLCz"
      },
      "outputs": [],
      "source": [
        "import os\n",
        "os.environ['RANK'] = '0'\n",
        "os.environ['WORLD_SIZE'] = '1'\n",
        "os.environ['MASTER_ADDR'] = 'localhost'\n",
        "os.environ['MASTER_PORT'] = '29500'"
      ]
    },
    {
      "cell_type": "markdown",
      "metadata": {
        "id": "1M-JsrdWcjzj"
      },
      "source": [
        "## **QSparseLocal Algorithm Implementation**"
      ]
    },
    {
      "cell_type": "code",
      "execution_count": 4,
      "metadata": {
        "id": "_TpSXZaAd8r8",
        "colab": {
          "base_uri": "https://localhost:8080/"
        },
        "outputId": "56e172c7-cae4-42bd-edf4-a4da7ef9621e"
      },
      "outputs": [
        {
          "output_type": "stream",
          "name": "stderr",
          "text": [
            "WARNING:root:Bagua cannot detect bundled NCCL library, Bagua will try to use system NCCL instead. If you encounter any error, please run `import bagua_core; bagua_core.install_deps()` or the `bagua_install_deps.py` script to install bundled libraries.\n"
          ]
        }
      ],
      "source": [
        "#!/usr/bin/env python3\n",
        "from bagua.torch_api.bucket import BaguaBucket\n",
        "from bagua.torch_api.tensor import BaguaTensor\n",
        "from bagua.torch_api.data_parallel.bagua_distributed import BaguaDistributedDataParallel\n",
        "from bagua.torch_api.algorithms import Algorithm, AlgorithmImpl\n",
        "from bagua.torch_api.communication import BaguaProcessGroup\n",
        "from torch.optim.optimizer import Optimizer\n",
        "import torch\n",
        "import math\n",
        "import numpy as np\n",
        "from typing import List, Tuple\n",
        "\n",
        "sparsify = True\n",
        "use_memory = True\n",
        "quantization_scheme = 'sign'\n",
        "quantization_levels = 256\n",
        "top_k_sparsification = True\n",
        "k = 1000\n",
        "use_normalization = True\n",
        "\n",
        "\n",
        "## input: Uncompressed Gradient tensor\n",
        "## Output: Quantized and sparsified Gradient tensor\n",
        "def qsl(eta_grad,\n",
        "        memory,\n",
        "        qsl_grad,   # No output, instead change in function\n",
        "        topK_flag,\n",
        "        s,\n",
        "        # sparsify,\n",
        "        # use_memory,\n",
        "        # quantization_scheme,\n",
        "        # use_normalization\n",
        "        ):\n",
        "    ###To do: Allow other quantization\n",
        "    def signq(var):\n",
        "        # Normalization according to input\n",
        "        # ||var||_1 * sign(var)/\n",
        "        one_norm = torch.norm(var, p=1)\n",
        "        return one_norm * torch.sign(var + 1e-13) / float(torch.numel(var))\n",
        "        # return torch.sign(var)  # Returns a new tensor with the signs of the elements of input\n",
        "\n",
        "    def qsgd(var):\n",
        "        level_float = s * torch.abs(var) / norm1\n",
        "        previous_level = torch.floor(level_float)\n",
        "        is_next_level = (torch.rand(var.size(), dtype=torch.float32, device = 'cuda') < (level_float - previous_level))\n",
        "        is_next_level = is_next_level.float()\n",
        "        new_level = previous_level + is_next_level\n",
        "        unnormalized = torch.sign(var) * new_level * norm1 / s\n",
        "        beta = float(torch.numel(var)) / float(s * s)\n",
        "        return unnormalized / (1.0 + beta) if use_normalization else unnormalized\n",
        "\n",
        "    def get_quantization(q):\n",
        "        if q == 'qsgd':\n",
        "            return qsgd\n",
        "        elif q == 'sign':\n",
        "            return signq\n",
        "        else:\n",
        "            return lambda x: x\n",
        "\n",
        "    if not sparsify:\n",
        "        norm1 = torch.norm(eta_grad) + torch.constant(1e-5, dtype=torch.float32)\n",
        "        if use_memory:\n",
        "            input = memory + eta_grad\n",
        "        else:\n",
        "            input = eta_grad\n",
        "\n",
        "        func = get_quantization(quantization_scheme)\n",
        "        q = func(input)\n",
        "\n",
        "        return q, input - q\n",
        "\n",
        "    input = memory + eta_grad\n",
        "\n",
        "    org_shape = input.size()\n",
        "    numel = torch.numel(input)\n",
        "    K = min(numel, k)  # k is the optimizer's k,\n",
        "    # K is the actual value used for sparsification\n",
        "\n",
        "    if topK_flag:\n",
        "        # Get values and index tensor of chosen components\n",
        "        # flat shape with absolute values\n",
        "        _, indices = torch.topk(torch.reshape(torch.abs(input), [-1]), K)\n",
        "    else:\n",
        "        indices = torch.from_numpy(np.random.choice(torch.range(numel), K, False))\n",
        "\n",
        "    # Flatten input\n",
        "    flat_input = torch.reshape(input, [-1])\n",
        "    values = torch.gather(flat_input, 0, indices)  # dim=0\n",
        "    norm1 = torch.norm(values)\n",
        "    quantization_func = get_quantization(quantization_scheme)\n",
        "    flattened_quantized = torch.zeros_like(flat_input).scatter(0, indices,\n",
        "                                                               quantization_func(values))\n",
        "    quantization = torch.reshape(flattened_quantized, shape=org_shape)\n",
        "\n",
        "    q_func = lambda: quantization\n",
        "    zero_tensor = lambda: torch.zeros_like(input, dtype=torch.float32)\n",
        "\n",
        "    # q = torch.where( float(0)<norm1, q_func, zero_tensor)    # Where not applicable for choosing functions\n",
        "    if float(0) < norm1:\n",
        "        q = q_func()\n",
        "    else:\n",
        "        q = zero_tensor()\n",
        "\n",
        "    err = input - q\n",
        "\n",
        "    #print(\"\\n\\n input in qsl\",\"of shape\",input.size(),\"\\n\", torch.reshape(input, [-1])[:3])\n",
        "    #print(\"q:\",torch.reshape(q, [-1])[:3])\n",
        "    #print(\"err:\", torch.reshape(err, [-1])[:3])\n",
        "\n",
        "    memory.mul_(0).add_(err)\n",
        "    qsl_grad.mul_(0).add_(q)\n",
        "\n",
        "\n",
        "class QSparseLocalOptimizer(Optimizer):\n",
        "    def __init__(\n",
        "            self,\n",
        "            params,\n",
        "            lr: float = 1e-3,  ## Later step dependent learning rate\n",
        "            k: int = 1000,\n",
        "            schedule: int = 1\n",
        "    ):\n",
        "        \"\"\"\n",
        "        Create a dedicated optimizer used for\n",
        "        `QSparseLocal <https://tutorials.baguasys.com/algorithms/q-adam>`_ algorithm.\n",
        "\n",
        "        Args:\n",
        "            params (iterable): Iterable of parameters to optimize or dicts defining\n",
        "                parameter groups.\n",
        "            lr: Learning rate.\n",
        "            k: How many tensor components are kept during sparsification\n",
        "            schedule: Description of synchronization schedule\n",
        "        \"\"\"\n",
        "        if not 0.0 <= lr:\n",
        "            raise ValueError(\"Invalid learning rate: {}\".format(lr))\n",
        "        if not 0 < schedule:\n",
        "            raise ValueError(\"Invalid schedule: {}\".format(lr))\n",
        "\n",
        "        defaults = dict(lr=lr, k=k, schedule=schedule)\n",
        "        super(QSparseLocalOptimizer, self).__init__(params, defaults)\n",
        "        # TODO: QSparseLocal optimizer maintain `step_id` in its state\n",
        "        self.step_id = 0\n",
        "        self.schedule = schedule\n",
        "        self.k = k\n",
        "        self.lr = lr\n",
        "        self.sync = False\n",
        "\n",
        "        # initialize global and local model, and memory for error compensation\n",
        "        for group_id, group in enumerate(self.param_groups):\n",
        "            params_with_grad = []\n",
        "            for p in group[\"params\"]:\n",
        "                params_with_grad.append(p)\n",
        "                state = self.state[p]\n",
        "                if len(state) == 0:\n",
        "\n",
        "                    state[\"global\"] = torch.zeros_like(\n",
        "                        p, memory_format=torch.preserve_format\n",
        "                    )\n",
        "                    # Set global to initialized value of local weights\n",
        "                    state[\"global\"].add_(p.data)\n",
        "\n",
        "                    state[\"memory\"] = torch.zeros_like(\n",
        "                        p, memory_format=torch.preserve_format\n",
        "                    )\n",
        "\n",
        "                    state[\"qsl_grad\"] = torch.zeros_like(\n",
        "                        p, memory_format=torch.preserve_format\n",
        "                    )\n",
        "\n",
        "                    \"\"\"\n",
        "                    Local parameter vector inside p.data\n",
        "                    global: Global paramenter vector (same for all workers)\n",
        "                    error_comp: Term for error compensation for quantization and sparsification of gradient tensor\n",
        "                    qsl_grad: The quantized and sparsified gradient tensor to be sent to master (to allreduce)\n",
        "                    \"\"\"\n",
        "\n",
        "\n",
        "    def __setstate__(self, state):\n",
        "        super(QSparseLocalOptimizer, self).__setstate__(state)\n",
        "\n",
        "    def step(self, closure=None):\n",
        "        self.step_id += 1\n",
        "\n",
        "        # Now schedule defines the number of round per synchronization round\n",
        "        self.sync = self.step_id % self.schedule == 0\n",
        "\n",
        "        for group_id, group in enumerate(self.param_groups):\n",
        "            for param_id, param in enumerate(group[\"params\"]):\n",
        "                state = self.state[param]\n",
        "\n",
        "                #Calculate new global and local weights\n",
        "                if self.sync:\n",
        "                    # Adjust global and local weights after synchronzation\n",
        "                    state[\"global\"].add_(state[\"qsl_grad\"])\n",
        "                    param.data.mul_(0).add_(state[\"global\"])\n",
        "            \n",
        "                ##### Before allreduce operation\n",
        "                # Compute temporary local parameter vector\n",
        "                # Compute compressed gradient and new error compensation term\n",
        "                # Horovod: eta local-global\n",
        "                param.data.add_(param.grad,alpha=-self.lr) \n",
        "                if self.sync:\n",
        "                    # No output, new values assigned inside the function\n",
        "                    qsl(param.data - state[\"global\"], state[\"memory\"],state[\"qsl_grad\"],\n",
        "                                                topK_flag=top_k_sparsification, s=quantization_levels)\n",
        "                    \n",
        "                \n",
        "\n",
        "class QSparseLocalAlgorithmImpl(AlgorithmImpl):\n",
        "    def __init__(\n",
        "            self,\n",
        "            process_group: BaguaProcessGroup,\n",
        "            q_sparse_local_optimizer: QSparseLocalOptimizer,\n",
        "            hierarchical: bool = True,\n",
        "    ):\n",
        "        \"\"\"\n",
        "        Implementation of the\n",
        "        `QSparseLocal Algorithm <https://tutorials.baguasys.com/algorithms/q-adam>`_\n",
        "        .\n",
        "        Args:\n",
        "            process_group: The process group to work on.\n",
        "            q_sparse_local_optimizer: A QSparseLocalOptimizer initialized with model parameters.\n",
        "            hierarchical: Enable hierarchical communication.\n",
        "        \"\"\"\n",
        "        super(QSparseLocalAlgorithmImpl, self).__init__(process_group)\n",
        "        self.hierarchical = hierarchical\n",
        "        self.optimizer = q_sparse_local_optimizer\n",
        "        self.sync = self.optimizer.sync\n",
        "\n",
        "    # Needed to switch between synchronization aand local rounds\n",
        "    def need_reset(self):\n",
        "        return True\n",
        "\n",
        "    def init_tensors(self, bagua_distributed_data_parallel: BaguaDistributedDataParallel):\n",
        "        parameters = bagua_distributed_data_parallel.bagua_build_params()\n",
        "\n",
        "        for idx, (name, param) in enumerate(parameters.__reversed__()):\n",
        "            param._q_sparse_local_name = name\n",
        "            param._q_sparse_local_idx = idx\n",
        "\n",
        "        tensor_groups = []\n",
        "        for group in self.optimizer.param_groups:\n",
        "            for param in group[\"params\"]:\n",
        "                #if self.sync:\n",
        "\n",
        "                # Second half Step 4\n",
        "                def set_weights(param, t):\n",
        "                    # Set compressed gradient to mean of all workers compressed gradients\n",
        "                    self.optimizer.state[param][\"qsl_grad\"] = t\n",
        "\n",
        "                registered_tensor = param.bagua_ensure_grad().ensure_bagua_tensor(\n",
        "                    param._q_sparse_local_name,\n",
        "                    bagua_distributed_data_parallel.bagua_module_name,\n",
        "                    getter_closure=lambda param: self.optimizer.state[param][\"qsl_grad\"],\n",
        "                    setter_closure=set_weights,\n",
        "                )\n",
        "                tensor_groups.append(registered_tensor)\n",
        "                #else:\n",
        "                    # Nothing happens\n",
        "                    #pass\n",
        "\n",
        "        tensor_groups.sort(key=lambda x: x._q_sparse_local_idx)\n",
        "        return tensor_groups\n",
        "\n",
        "    def tensors_to_buckets(\n",
        "            self, tensors: List[List[BaguaTensor]], do_flatten: bool\n",
        "    ) -> List[BaguaBucket]:\n",
        "        bagua_buckets = []\n",
        "\n",
        "        for idx, bucket in enumerate(tensors):\n",
        "            bagua_bucket = BaguaBucket(\n",
        "                bucket,\n",
        "                flatten=do_flatten,\n",
        "                # flatten=True,\n",
        "                name=str(idx),\n",
        "                alignment=self.process_group.get_global_communicator().nranks(),\n",
        "            )\n",
        "            bagua_buckets.append(bagua_bucket)\n",
        "        return bagua_buckets\n",
        "\n",
        "    def init_operations(\n",
        "            self,\n",
        "            bagua_distributed_data_parallel: BaguaDistributedDataParallel,\n",
        "            bucket: BaguaBucket,\n",
        "    ):\n",
        "        bucket.clear_ops()\n",
        "        \n",
        "        # For synchronization round we utilize allreduce, else no synchronization takes place\n",
        "        if self.sync:\n",
        "            # Compression is done by Bagua\n",
        "            bucket.append_centralized_synchronous_op(\n",
        "                hierarchical=self.hierarchical,\n",
        "                average=True,  # Maybe try false and then average it manually to preserve ints\n",
        "                scattergather=True,\n",
        "                compression=\"MinMaxUInt8\",    \n",
        "                group=self.process_group,\n",
        "            )\n",
        "        else:  # Nothing happens\n",
        "            pass\n",
        "\n",
        "    # Instead of momentum hook, we use a qsl_gradient hook\n",
        "    def init_backward_hook(self, bagua_distributed_data_parallel: BaguaDistributedDataParallel):\n",
        "\n",
        "        def hook_qsl_grad(parameter_name, parameter):\n",
        "            assert (\n",
        "                    parameter.bagua_backend_tensor().data_ptr()\n",
        "                    == self.optimizer.state[parameter][\"qsl_grad\"].data_ptr()\n",
        "            ), \"bagua backend tensor data_ptr should match _q_sparse_local_grad data_ptr\"\n",
        "            parameter.bagua_mark_communication_ready()\n",
        "\n",
        "        return hook_qsl_grad\n",
        "\n",
        "\n",
        "class QSparseLocalAlgorithm(Algorithm):\n",
        "    def __init__(self, q_sparse_local_optimizer: QSparseLocalOptimizer, hierarchical: bool = True):\n",
        "        \"\"\"\n",
        "        Create an instance of the `QSparseLocal Algorithm' .\n",
        "\n",
        "        Args:\n",
        "            q_sparse_local_optimizer: A QSparseLocalOptimizer initialized with model parameters.\n",
        "            hierarchical: Enable hierarchical communication.\n",
        "        \"\"\"\n",
        "        self.hierarchical = hierarchical\n",
        "        self.optimizer = q_sparse_local_optimizer\n",
        "\n",
        "    def reify(self, process_group: BaguaProcessGroup) -> QSparseLocalAlgorithmImpl:\n",
        "        return QSparseLocalAlgorithmImpl(\n",
        "            process_group,\n",
        "            q_sparse_local_optimizer=self.optimizer,\n",
        "            hierarchical=self.hierarchical,\n",
        "        )\n"
      ]
    },
    {
      "cell_type": "markdown",
      "metadata": {
        "id": "mPIWQ8CvcZ0G"
      },
      "source": [
        "## **MNIST example**"
      ]
    },
    {
      "cell_type": "code",
      "execution_count": 5,
      "metadata": {
        "colab": {
          "base_uri": "https://localhost:8080/",
          "height": 1000,
          "referenced_widgets": [
            "8ecdeaad9cbd47d8bac63aa12973650a",
            "f6c8c82deb934fc183bbc98fef171f03",
            "1378e227658448be97b4e4dcbadbb29a",
            "31c139333f164a73a9bab091b29c9e2e",
            "b78c1ffe481d4e5d97596252c5c8ce51",
            "42b3a1bf3ddd4aa79a45f85bb5b5b8da",
            "766be618dddd4f2d9b0f4178237f73ec",
            "3127a1cda3fa43c98483767fdabd33f6",
            "bb3bc87eb4c44d5896bb6f85f17059a0",
            "c597ebe29bd5469a8e4051174224b654",
            "224d77424c3b425b92a325ef4da8bc0b",
            "184d8103f1db4e8eb1b6221c8e47e7ae",
            "6e9287ae0090442a935058a3c23cb3bb",
            "63c9189207cc4b979a7299a442961eda",
            "dbb7c7d48fd14c71927cc5e3bc28408e",
            "51506abd8d1947abb72036c1aa1ce6c2",
            "a78f7c00f3dc49cdb23c2f9d908200ed",
            "b48810b65eda4dceb6b5ec7465e270ea",
            "0533eb5ca00b4f109bd0b7280a308a4f",
            "7e81415d9543463295c3da0a548c875a",
            "e87a448c3733454782bb84cd18fcf58f",
            "bb15ae32a1574a17b6b4cb43a7fa702f",
            "a80393f1641648898eb0617851ed2c09",
            "a528f891ef3d4836b09659a18efc4d53",
            "50bd5672e8474f6c90f59e987000afaa",
            "3ba0b0c5f7964f19acb9fef9f5b336b6",
            "7ff0fb4728e24468b762bda4a4efad9f",
            "7d585d5b600f4f82a95c5f616e0438d2",
            "c58817a9c5694d888a9fa1d855eea1c9",
            "c4034cbe6045455cb5fe9ab5a51d8e53",
            "08ecabe870e945c0990ef2830a52d817",
            "658b9f78439c457384258165fa968c3c",
            "2d8a78183df046238d892e6b0910d69d",
            "b826775e72e249acafe0a668c5edf14a",
            "a2a94f9f76594bfcb8ed89a517ee2a51",
            "37b3b003929b496faa467bb4ed8b8296",
            "093cb865f64d40c98395611385ca3186",
            "8cab8f8ba9234adea3a6121c1d99be9d",
            "1ec0e44391d74f7083bbf08f352a0961",
            "aad61096bdf443d6b56bf20d6f486fd1",
            "7436e68a0e3643dc96cfb76f9f3bac19",
            "cb48784a8d0841a791e4a1f58571b973",
            "710dee6beed04908ae694bacd084d6c4",
            "5584948198894e0a807865d0b959cbd5"
          ]
        },
        "id": "9tjsC05-5qV_",
        "outputId": "2e344c20-c5b8-4910-9897-9e40a833e2c2"
      },
      "outputs": [
        {
          "output_type": "stream",
          "name": "stdout",
          "text": [
            "nvcc_version:  11.1\n",
            "Installing nccl 2.10.3 for CUDA 11.1 to: /root/.local/share/bagua/nccl\n",
            "Downloading https://developer.download.nvidia.com/compute/redist/nccl/v2.10/nccl_2.10.3-1+cuda11.0_x86_64.txz...\n"
          ]
        },
        {
          "output_type": "stream",
          "name": "stderr",
          "text": [
            "nccl_2.10.3-1+cuda11.0_x86_64.txz: 138MB [00:01, 138MB/s]                           \n"
          ]
        },
        {
          "output_type": "stream",
          "name": "stdout",
          "text": [
            "Extracting...\n",
            "Installing...\n",
            "Cleaning up...\n",
            "Done!\n"
          ]
        },
        {
          "output_type": "stream",
          "name": "stderr",
          "text": [
            "\n",
            "PYDEV DEBUGGER WARNING:\n",
            "sys.settrace() should not be used when the debugger is being used.\n",
            "This may cause the debugger to stop working correctly.\n",
            "If this is needed, please check: \n",
            "http://pydev.blogspot.com/2007/06/why-cant-pydev-debugger-work-with.html\n",
            "to see how to restore the debug tracing back correctly.\n",
            "Call Location:\n",
            "  File \"/usr/local/lib/python3.7/dist-packages/gevent/threadpool.py\", line 157, in _before_run_task\n",
            "    _sys.settrace(_get_thread_trace())\n",
            "\n",
            "\n",
            "PYDEV DEBUGGER WARNING:\n",
            "sys.settrace() should not be used when the debugger is being used.\n",
            "This may cause the debugger to stop working correctly.\n",
            "If this is needed, please check: \n",
            "http://pydev.blogspot.com/2007/06/why-cant-pydev-debugger-work-with.html\n",
            "to see how to restore the debug tracing back correctly.\n",
            "Call Location:\n",
            "  File \"/usr/local/lib/python3.7/dist-packages/gevent/threadpool.py\", line 162, in _after_run_task\n",
            "    _sys.settrace(None)\n",
            "\n"
          ]
        },
        {
          "output_type": "stream",
          "name": "stdout",
          "text": [
            "Downloading http://yann.lecun.com/exdb/mnist/train-images-idx3-ubyte.gz\n",
            "Downloading http://yann.lecun.com/exdb/mnist/train-images-idx3-ubyte.gz to ../data/MNIST/raw/train-images-idx3-ubyte.gz\n"
          ]
        },
        {
          "output_type": "display_data",
          "data": {
            "text/plain": [
              "  0%|          | 0/9912422 [00:00<?, ?it/s]"
            ],
            "application/vnd.jupyter.widget-view+json": {
              "version_major": 2,
              "version_minor": 0,
              "model_id": "8ecdeaad9cbd47d8bac63aa12973650a"
            }
          },
          "metadata": {}
        },
        {
          "output_type": "stream",
          "name": "stdout",
          "text": [
            "Extracting ../data/MNIST/raw/train-images-idx3-ubyte.gz to ../data/MNIST/raw\n",
            "\n",
            "Downloading http://yann.lecun.com/exdb/mnist/train-labels-idx1-ubyte.gz\n",
            "Downloading http://yann.lecun.com/exdb/mnist/train-labels-idx1-ubyte.gz to ../data/MNIST/raw/train-labels-idx1-ubyte.gz\n"
          ]
        },
        {
          "output_type": "display_data",
          "data": {
            "text/plain": [
              "  0%|          | 0/28881 [00:00<?, ?it/s]"
            ],
            "application/vnd.jupyter.widget-view+json": {
              "version_major": 2,
              "version_minor": 0,
              "model_id": "184d8103f1db4e8eb1b6221c8e47e7ae"
            }
          },
          "metadata": {}
        },
        {
          "output_type": "stream",
          "name": "stdout",
          "text": [
            "Extracting ../data/MNIST/raw/train-labels-idx1-ubyte.gz to ../data/MNIST/raw\n",
            "\n",
            "Downloading http://yann.lecun.com/exdb/mnist/t10k-images-idx3-ubyte.gz\n",
            "Downloading http://yann.lecun.com/exdb/mnist/t10k-images-idx3-ubyte.gz to ../data/MNIST/raw/t10k-images-idx3-ubyte.gz\n"
          ]
        },
        {
          "output_type": "display_data",
          "data": {
            "text/plain": [
              "  0%|          | 0/1648877 [00:00<?, ?it/s]"
            ],
            "application/vnd.jupyter.widget-view+json": {
              "version_major": 2,
              "version_minor": 0,
              "model_id": "a80393f1641648898eb0617851ed2c09"
            }
          },
          "metadata": {}
        },
        {
          "output_type": "stream",
          "name": "stdout",
          "text": [
            "Extracting ../data/MNIST/raw/t10k-images-idx3-ubyte.gz to ../data/MNIST/raw\n",
            "\n",
            "Downloading http://yann.lecun.com/exdb/mnist/t10k-labels-idx1-ubyte.gz\n",
            "Downloading http://yann.lecun.com/exdb/mnist/t10k-labels-idx1-ubyte.gz to ../data/MNIST/raw/t10k-labels-idx1-ubyte.gz\n"
          ]
        },
        {
          "output_type": "display_data",
          "data": {
            "text/plain": [
              "  0%|          | 0/4542 [00:00<?, ?it/s]"
            ],
            "application/vnd.jupyter.widget-view+json": {
              "version_major": 2,
              "version_minor": 0,
              "model_id": "b826775e72e249acafe0a668c5edf14a"
            }
          },
          "metadata": {}
        },
        {
          "output_type": "stream",
          "name": "stdout",
          "text": [
            "Extracting ../data/MNIST/raw/t10k-labels-idx1-ubyte.gz to ../data/MNIST/raw\n",
            "\n",
            "Hi\n",
            "Hi\n"
          ]
        },
        {
          "output_type": "stream",
          "name": "stderr",
          "text": [
            "INFO:root:Train Epoch: 1 [0/60000 (0%)]\tLoss: 2.292509\n"
          ]
        },
        {
          "output_type": "stream",
          "name": "stdout",
          "text": [
            "Hi\n",
            "Hi\n",
            "Hi\n",
            "Hi\n",
            "Hi\n",
            "Hi\n",
            "Hi\n",
            "Hi\n",
            "Hi\n"
          ]
        },
        {
          "output_type": "stream",
          "name": "stderr",
          "text": [
            "INFO:root:Train Epoch: 1 [640/60000 (1%)]\tLoss: 2.298120\n"
          ]
        },
        {
          "output_type": "stream",
          "name": "stdout",
          "text": [
            "Hi\n",
            "Hi\n",
            "Hi\n",
            "Hi\n",
            "Hi\n",
            "Hi\n",
            "Hi\n",
            "Hi\n",
            "Hi\n"
          ]
        },
        {
          "output_type": "stream",
          "name": "stderr",
          "text": [
            "INFO:root:Train Epoch: 1 [1280/60000 (2%)]\tLoss: 2.295071\n"
          ]
        },
        {
          "output_type": "stream",
          "name": "stdout",
          "text": [
            "Hi\n",
            "Hi\n",
            "Hi\n",
            "Hi\n",
            "Hi\n",
            "Hi\n",
            "Hi\n",
            "Hi\n",
            "Hi\n"
          ]
        },
        {
          "output_type": "stream",
          "name": "stderr",
          "text": [
            "INFO:root:Train Epoch: 1 [1920/60000 (3%)]\tLoss: 2.294724\n"
          ]
        },
        {
          "output_type": "stream",
          "name": "stdout",
          "text": [
            "Hi\n",
            "Hi\n",
            "Hi\n",
            "Hi\n",
            "Hi\n",
            "Hi\n",
            "Hi\n",
            "Hi\n",
            "Hi\n",
            "Hi\n",
            "Hi\n",
            "Hi\n"
          ]
        },
        {
          "output_type": "stream",
          "name": "stderr",
          "text": [
            "INFO:root:Train Epoch: 1 [2560/60000 (4%)]\tLoss: 2.250693\n"
          ]
        },
        {
          "output_type": "stream",
          "name": "stdout",
          "text": [
            "Hi\n",
            "Hi\n",
            "Hi\n",
            "Hi\n",
            "Hi\n",
            "Hi\n",
            "Hi\n",
            "Hi\n",
            "Hi\n"
          ]
        },
        {
          "output_type": "stream",
          "name": "stderr",
          "text": [
            "INFO:root:Train Epoch: 1 [3200/60000 (5%)]\tLoss: 2.238911\n"
          ]
        },
        {
          "output_type": "stream",
          "name": "stdout",
          "text": [
            "Hi\n",
            "Hi\n",
            "Hi\n",
            "Hi\n",
            "Hi\n",
            "Hi\n",
            "Hi\n",
            "Hi\n",
            "Hi\n",
            "Hi\n",
            "Hi\n",
            "Hi\n"
          ]
        },
        {
          "output_type": "stream",
          "name": "stderr",
          "text": [
            "INFO:root:Train Epoch: 1 [3840/60000 (6%)]\tLoss: 2.267722\n"
          ]
        },
        {
          "output_type": "stream",
          "name": "stdout",
          "text": [
            "Hi\n",
            "Hi\n",
            "Hi\n",
            "Hi\n",
            "Hi\n",
            "Hi\n",
            "Hi\n",
            "Hi\n",
            "Hi\n"
          ]
        },
        {
          "output_type": "stream",
          "name": "stderr",
          "text": [
            "INFO:root:Train Epoch: 1 [4480/60000 (7%)]\tLoss: 2.217491\n"
          ]
        },
        {
          "output_type": "stream",
          "name": "stdout",
          "text": [
            "Hi\n",
            "Hi\n",
            "Hi\n",
            "Hi\n",
            "Hi\n",
            "Hi\n",
            "Hi\n",
            "Hi\n",
            "Hi\n"
          ]
        },
        {
          "output_type": "stream",
          "name": "stderr",
          "text": [
            "INFO:root:Train Epoch: 1 [5120/60000 (9%)]\tLoss: 2.201532\n"
          ]
        },
        {
          "output_type": "stream",
          "name": "stdout",
          "text": [
            "Hi\n",
            "Hi\n",
            "Hi\n",
            "Hi\n",
            "Hi\n",
            "Hi\n",
            "Hi\n",
            "Hi\n",
            "Hi\n",
            "Hi\n",
            "Hi\n",
            "Hi\n"
          ]
        },
        {
          "output_type": "stream",
          "name": "stderr",
          "text": [
            "INFO:root:Train Epoch: 1 [5760/60000 (10%)]\tLoss: 2.218305\n"
          ]
        },
        {
          "output_type": "stream",
          "name": "stdout",
          "text": [
            "Hi\n",
            "Hi\n",
            "Hi\n",
            "Hi\n",
            "Hi\n",
            "Hi\n",
            "Hi\n",
            "Hi\n",
            "Hi\n"
          ]
        },
        {
          "output_type": "stream",
          "name": "stderr",
          "text": [
            "INFO:root:Train Epoch: 1 [6400/60000 (11%)]\tLoss: 2.168792\n"
          ]
        },
        {
          "output_type": "stream",
          "name": "stdout",
          "text": [
            "Hi\n",
            "Hi\n",
            "Hi\n",
            "Hi\n",
            "Hi\n",
            "Hi\n",
            "Hi\n",
            "Hi\n",
            "Hi\n"
          ]
        },
        {
          "output_type": "stream",
          "name": "stderr",
          "text": [
            "INFO:root:Train Epoch: 1 [7040/60000 (12%)]\tLoss: 2.095709\n"
          ]
        },
        {
          "output_type": "stream",
          "name": "stdout",
          "text": [
            "Hi\n",
            "Hi\n",
            "Hi\n",
            "Hi\n",
            "Hi\n",
            "Hi\n",
            "Hi\n",
            "Hi\n",
            "Hi\n",
            "Hi\n",
            "Hi\n",
            "Hi\n"
          ]
        },
        {
          "output_type": "stream",
          "name": "stderr",
          "text": [
            "INFO:root:Train Epoch: 1 [7680/60000 (13%)]\tLoss: 2.068739\n"
          ]
        },
        {
          "output_type": "stream",
          "name": "stdout",
          "text": [
            "Hi\n",
            "Hi\n",
            "Hi\n",
            "Hi\n",
            "Hi\n",
            "Hi\n",
            "Hi\n",
            "Hi\n",
            "Hi\n"
          ]
        },
        {
          "output_type": "stream",
          "name": "stderr",
          "text": [
            "INFO:root:Train Epoch: 1 [8320/60000 (14%)]\tLoss: 2.069271\n"
          ]
        },
        {
          "output_type": "stream",
          "name": "stdout",
          "text": [
            "Hi\n",
            "Hi\n",
            "Hi\n",
            "Hi\n",
            "Hi\n",
            "Hi\n",
            "Hi\n",
            "Hi\n",
            "Hi\n"
          ]
        },
        {
          "output_type": "stream",
          "name": "stderr",
          "text": [
            "INFO:root:Train Epoch: 1 [8960/60000 (15%)]\tLoss: 1.962685\n"
          ]
        },
        {
          "output_type": "stream",
          "name": "stdout",
          "text": [
            "Hi\n",
            "Hi\n",
            "Hi\n",
            "Hi\n",
            "Hi\n",
            "Hi\n",
            "Hi\n",
            "Hi\n",
            "Hi\n",
            "Hi\n",
            "Hi\n",
            "Hi\n"
          ]
        },
        {
          "output_type": "stream",
          "name": "stderr",
          "text": [
            "INFO:root:Train Epoch: 1 [9600/60000 (16%)]\tLoss: 1.906534\n"
          ]
        },
        {
          "output_type": "stream",
          "name": "stdout",
          "text": [
            "Hi\n",
            "Hi\n",
            "Hi\n",
            "Hi\n",
            "Hi\n",
            "Hi\n",
            "Hi\n",
            "Hi\n"
          ]
        },
        {
          "output_type": "stream",
          "name": "stderr",
          "text": [
            "INFO:root:Train Epoch: 1 [10240/60000 (17%)]\tLoss: 1.892555\n"
          ]
        },
        {
          "output_type": "stream",
          "name": "stdout",
          "text": [
            "Hi\n",
            "Hi\n",
            "Hi\n",
            "Hi\n",
            "Hi\n",
            "Hi\n",
            "Hi\n",
            "Hi\n",
            "Hi\n"
          ]
        },
        {
          "output_type": "stream",
          "name": "stderr",
          "text": [
            "INFO:root:Train Epoch: 1 [10880/60000 (18%)]\tLoss: 1.745347\n"
          ]
        },
        {
          "output_type": "stream",
          "name": "stdout",
          "text": [
            "Hi\n",
            "Hi\n",
            "Hi\n",
            "Hi\n",
            "Hi\n",
            "Hi\n",
            "Hi\n",
            "Hi\n",
            "Hi\n",
            "Hi\n",
            "Hi\n",
            "Hi\n"
          ]
        },
        {
          "output_type": "stream",
          "name": "stderr",
          "text": [
            "INFO:root:Train Epoch: 1 [11520/60000 (19%)]\tLoss: 1.696704\n"
          ]
        },
        {
          "output_type": "stream",
          "name": "stdout",
          "text": [
            "Hi\n",
            "Hi\n",
            "Hi\n",
            "Hi\n",
            "Hi\n",
            "Hi\n",
            "Hi\n",
            "Hi\n",
            "Hi\n"
          ]
        },
        {
          "output_type": "stream",
          "name": "stderr",
          "text": [
            "INFO:root:Train Epoch: 1 [12160/60000 (20%)]\tLoss: 1.575156\n"
          ]
        },
        {
          "output_type": "stream",
          "name": "stdout",
          "text": [
            "Hi\n",
            "Hi\n",
            "Hi\n",
            "Hi\n",
            "Hi\n",
            "Hi\n",
            "Hi\n",
            "Hi\n",
            "Hi\n"
          ]
        },
        {
          "output_type": "stream",
          "name": "stderr",
          "text": [
            "INFO:root:Train Epoch: 1 [12800/60000 (21%)]\tLoss: 1.503615\n"
          ]
        },
        {
          "output_type": "stream",
          "name": "stdout",
          "text": [
            "Hi\n",
            "Hi\n",
            "Hi\n",
            "Hi\n",
            "Hi\n",
            "Hi\n",
            "Hi\n",
            "Hi\n",
            "Hi\n",
            "Hi\n",
            "Hi\n",
            "Hi\n"
          ]
        },
        {
          "output_type": "stream",
          "name": "stderr",
          "text": [
            "INFO:root:Train Epoch: 1 [13440/60000 (22%)]\tLoss: 1.444849\n"
          ]
        },
        {
          "output_type": "stream",
          "name": "stdout",
          "text": [
            "Hi\n",
            "Hi\n",
            "Hi\n",
            "Hi\n",
            "Hi\n",
            "Hi\n",
            "Hi\n",
            "Hi\n",
            "Hi\n"
          ]
        },
        {
          "output_type": "stream",
          "name": "stderr",
          "text": [
            "INFO:root:Train Epoch: 1 [14080/60000 (23%)]\tLoss: 1.427136\n"
          ]
        },
        {
          "output_type": "stream",
          "name": "stdout",
          "text": [
            "Hi\n",
            "Hi\n",
            "Hi\n",
            "Hi\n",
            "Hi\n",
            "Hi\n",
            "Hi\n",
            "Hi\n",
            "Hi\n"
          ]
        },
        {
          "output_type": "stream",
          "name": "stderr",
          "text": [
            "INFO:root:Train Epoch: 1 [14720/60000 (25%)]\tLoss: 1.111230\n"
          ]
        },
        {
          "output_type": "stream",
          "name": "stdout",
          "text": [
            "Hi\n",
            "Hi\n",
            "Hi\n",
            "Hi\n",
            "Hi\n",
            "Hi\n",
            "Hi\n",
            "Hi\n",
            "Hi\n",
            "Hi\n",
            "Hi\n",
            "Hi\n"
          ]
        },
        {
          "output_type": "stream",
          "name": "stderr",
          "text": [
            "INFO:root:Train Epoch: 1 [15360/60000 (26%)]\tLoss: 1.340047\n"
          ]
        },
        {
          "output_type": "stream",
          "name": "stdout",
          "text": [
            "Hi\n",
            "Hi\n",
            "Hi\n",
            "Hi\n",
            "Hi\n",
            "Hi\n",
            "Hi\n",
            "Hi\n",
            "Hi\n"
          ]
        },
        {
          "output_type": "stream",
          "name": "stderr",
          "text": [
            "INFO:root:Train Epoch: 1 [16000/60000 (27%)]\tLoss: 1.260092\n"
          ]
        },
        {
          "output_type": "stream",
          "name": "stdout",
          "text": [
            "Hi\n",
            "Hi\n",
            "Hi\n",
            "Hi\n",
            "Hi\n",
            "Hi\n",
            "Hi\n",
            "Hi\n",
            "Hi\n"
          ]
        },
        {
          "output_type": "stream",
          "name": "stderr",
          "text": [
            "INFO:root:Train Epoch: 1 [16640/60000 (28%)]\tLoss: 1.256709\n"
          ]
        },
        {
          "output_type": "stream",
          "name": "stdout",
          "text": [
            "Hi\n",
            "Hi\n",
            "Hi\n",
            "Hi\n",
            "Hi\n",
            "Hi\n",
            "Hi\n",
            "Hi\n",
            "Hi\n",
            "Hi\n",
            "Hi\n",
            "Hi\n"
          ]
        },
        {
          "output_type": "stream",
          "name": "stderr",
          "text": [
            "INFO:root:Train Epoch: 1 [17280/60000 (29%)]\tLoss: 1.029297\n"
          ]
        },
        {
          "output_type": "stream",
          "name": "stdout",
          "text": [
            "Hi\n",
            "Hi\n",
            "Hi\n",
            "Hi\n",
            "Hi\n",
            "Hi\n",
            "Hi\n",
            "Hi\n",
            "Hi\n"
          ]
        },
        {
          "output_type": "stream",
          "name": "stderr",
          "text": [
            "INFO:root:Train Epoch: 1 [17920/60000 (30%)]\tLoss: 0.930207\n"
          ]
        },
        {
          "output_type": "stream",
          "name": "stdout",
          "text": [
            "Hi\n",
            "Hi\n",
            "Hi\n",
            "Hi\n",
            "Hi\n",
            "Hi\n",
            "Hi\n",
            "Hi\n",
            "Hi\n"
          ]
        },
        {
          "output_type": "stream",
          "name": "stderr",
          "text": [
            "INFO:root:Train Epoch: 1 [18560/60000 (31%)]\tLoss: 1.007761\n"
          ]
        },
        {
          "output_type": "stream",
          "name": "stdout",
          "text": [
            "Hi\n",
            "Hi\n",
            "Hi\n",
            "Hi\n",
            "Hi\n",
            "Hi\n",
            "Hi\n",
            "Hi\n",
            "Hi\n",
            "Hi\n",
            "Hi\n",
            "Hi\n"
          ]
        },
        {
          "output_type": "stream",
          "name": "stderr",
          "text": [
            "INFO:root:Train Epoch: 1 [19200/60000 (32%)]\tLoss: 0.995104\n"
          ]
        },
        {
          "output_type": "stream",
          "name": "stdout",
          "text": [
            "Hi\n",
            "Hi\n",
            "Hi\n",
            "Hi\n",
            "Hi\n",
            "Hi\n",
            "Hi\n",
            "Hi\n",
            "Hi\n"
          ]
        },
        {
          "output_type": "stream",
          "name": "stderr",
          "text": [
            "INFO:root:Train Epoch: 1 [19840/60000 (33%)]\tLoss: 1.269973\n"
          ]
        },
        {
          "output_type": "stream",
          "name": "stdout",
          "text": [
            "Hi\n",
            "Hi\n",
            "Hi\n",
            "Hi\n",
            "Hi\n",
            "Hi\n",
            "Hi\n",
            "Hi\n",
            "Hi\n"
          ]
        },
        {
          "output_type": "stream",
          "name": "stderr",
          "text": [
            "INFO:root:Train Epoch: 1 [20480/60000 (34%)]\tLoss: 1.040187\n"
          ]
        },
        {
          "output_type": "stream",
          "name": "stdout",
          "text": [
            "Hi\n",
            "Hi\n",
            "Hi\n",
            "Hi\n",
            "Hi\n",
            "Hi\n",
            "Hi\n",
            "Hi\n",
            "Hi\n",
            "Hi\n",
            "Hi\n",
            "Hi\n"
          ]
        },
        {
          "output_type": "stream",
          "name": "stderr",
          "text": [
            "INFO:root:Train Epoch: 1 [21120/60000 (35%)]\tLoss: 0.865404\n"
          ]
        },
        {
          "output_type": "stream",
          "name": "stdout",
          "text": [
            "Hi\n",
            "Hi\n",
            "Hi\n",
            "Hi\n",
            "Hi\n",
            "Hi\n",
            "Hi\n",
            "Hi\n",
            "Hi\n"
          ]
        },
        {
          "output_type": "stream",
          "name": "stderr",
          "text": [
            "INFO:root:Train Epoch: 1 [21760/60000 (36%)]\tLoss: 0.671491\n"
          ]
        },
        {
          "output_type": "stream",
          "name": "stdout",
          "text": [
            "Hi\n",
            "Hi\n",
            "Hi\n",
            "Hi\n",
            "Hi\n",
            "Hi\n",
            "Hi\n",
            "Hi\n",
            "Hi\n"
          ]
        },
        {
          "output_type": "stream",
          "name": "stderr",
          "text": [
            "INFO:root:Train Epoch: 1 [22400/60000 (37%)]\tLoss: 0.842160\n"
          ]
        },
        {
          "output_type": "stream",
          "name": "stdout",
          "text": [
            "Hi\n",
            "Hi\n",
            "Hi\n",
            "Hi\n",
            "Hi\n",
            "Hi\n",
            "Hi\n",
            "Hi\n",
            "Hi\n",
            "Hi\n",
            "Hi\n",
            "Hi\n"
          ]
        },
        {
          "output_type": "stream",
          "name": "stderr",
          "text": [
            "INFO:root:Train Epoch: 1 [23040/60000 (38%)]\tLoss: 0.779501\n"
          ]
        },
        {
          "output_type": "stream",
          "name": "stdout",
          "text": [
            "Hi\n",
            "Hi\n",
            "Hi\n",
            "Hi\n",
            "Hi\n",
            "Hi\n",
            "Hi\n",
            "Hi\n",
            "Hi\n"
          ]
        },
        {
          "output_type": "stream",
          "name": "stderr",
          "text": [
            "INFO:root:Train Epoch: 1 [23680/60000 (39%)]\tLoss: 0.903706\n"
          ]
        },
        {
          "output_type": "stream",
          "name": "stdout",
          "text": [
            "Hi\n",
            "Hi\n",
            "Hi\n",
            "Hi\n",
            "Hi\n",
            "Hi\n",
            "Hi\n",
            "Hi\n",
            "Hi\n"
          ]
        },
        {
          "output_type": "stream",
          "name": "stderr",
          "text": [
            "INFO:root:Train Epoch: 1 [24320/60000 (41%)]\tLoss: 0.563776\n"
          ]
        },
        {
          "output_type": "stream",
          "name": "stdout",
          "text": [
            "Hi\n",
            "Hi\n",
            "Hi\n",
            "Hi\n",
            "Hi\n",
            "Hi\n",
            "Hi\n",
            "Hi\n",
            "Hi\n",
            "Hi\n",
            "Hi\n",
            "Hi\n"
          ]
        },
        {
          "output_type": "stream",
          "name": "stderr",
          "text": [
            "INFO:root:Train Epoch: 1 [24960/60000 (42%)]\tLoss: 0.693710\n"
          ]
        },
        {
          "output_type": "stream",
          "name": "stdout",
          "text": [
            "Hi\n",
            "Hi\n",
            "Hi\n",
            "Hi\n",
            "Hi\n",
            "Hi\n",
            "Hi\n",
            "Hi\n",
            "Hi\n"
          ]
        },
        {
          "output_type": "stream",
          "name": "stderr",
          "text": [
            "INFO:root:Train Epoch: 1 [25600/60000 (43%)]\tLoss: 0.843342\n"
          ]
        },
        {
          "output_type": "stream",
          "name": "stdout",
          "text": [
            "Hi\n",
            "Hi\n",
            "Hi\n",
            "Hi\n",
            "Hi\n",
            "Hi\n",
            "Hi\n",
            "Hi\n",
            "Hi\n"
          ]
        },
        {
          "output_type": "stream",
          "name": "stderr",
          "text": [
            "INFO:root:Train Epoch: 1 [26240/60000 (44%)]\tLoss: 0.789623\n"
          ]
        },
        {
          "output_type": "stream",
          "name": "stdout",
          "text": [
            "Hi\n",
            "Hi\n",
            "Hi\n",
            "Hi\n",
            "Hi\n",
            "Hi\n",
            "Hi\n",
            "Hi\n",
            "Hi\n",
            "Hi\n",
            "Hi\n",
            "Hi\n"
          ]
        },
        {
          "output_type": "stream",
          "name": "stderr",
          "text": [
            "INFO:root:Train Epoch: 1 [26880/60000 (45%)]\tLoss: 0.785478\n"
          ]
        },
        {
          "output_type": "stream",
          "name": "stdout",
          "text": [
            "Hi\n",
            "Hi\n",
            "Hi\n",
            "Hi\n",
            "Hi\n",
            "Hi\n",
            "Hi\n",
            "Hi\n",
            "Hi\n"
          ]
        },
        {
          "output_type": "stream",
          "name": "stderr",
          "text": [
            "INFO:root:Train Epoch: 1 [27520/60000 (46%)]\tLoss: 0.550683\n"
          ]
        },
        {
          "output_type": "stream",
          "name": "stdout",
          "text": [
            "Hi\n",
            "Hi\n",
            "Hi\n",
            "Hi\n",
            "Hi\n",
            "Hi\n",
            "Hi\n",
            "Hi\n",
            "Hi\n"
          ]
        },
        {
          "output_type": "stream",
          "name": "stderr",
          "text": [
            "INFO:root:Train Epoch: 1 [28160/60000 (47%)]\tLoss: 1.013931\n"
          ]
        },
        {
          "output_type": "stream",
          "name": "stdout",
          "text": [
            "Hi\n",
            "Hi\n",
            "Hi\n",
            "Hi\n",
            "Hi\n",
            "Hi\n",
            "Hi\n",
            "Hi\n",
            "Hi\n",
            "Hi\n",
            "Hi\n",
            "Hi\n"
          ]
        },
        {
          "output_type": "stream",
          "name": "stderr",
          "text": [
            "INFO:root:Train Epoch: 1 [28800/60000 (48%)]\tLoss: 0.589633\n"
          ]
        },
        {
          "output_type": "stream",
          "name": "stdout",
          "text": [
            "Hi\n",
            "Hi\n",
            "Hi\n",
            "Hi\n",
            "Hi\n",
            "Hi\n",
            "Hi\n",
            "Hi\n",
            "Hi\n"
          ]
        },
        {
          "output_type": "stream",
          "name": "stderr",
          "text": [
            "INFO:root:Train Epoch: 1 [29440/60000 (49%)]\tLoss: 0.495330\n"
          ]
        },
        {
          "output_type": "stream",
          "name": "stdout",
          "text": [
            "Hi\n",
            "Hi\n",
            "Hi\n",
            "Hi\n",
            "Hi\n",
            "Hi\n",
            "Hi\n",
            "Hi\n",
            "Hi\n",
            "Hi\n",
            "Hi\n"
          ]
        },
        {
          "output_type": "stream",
          "name": "stderr",
          "text": [
            "INFO:root:Train Epoch: 1 [30080/60000 (50%)]\tLoss: 0.653177\n"
          ]
        },
        {
          "output_type": "stream",
          "name": "stdout",
          "text": [
            "Hi\n",
            "Hi\n",
            "Hi\n",
            "Hi\n",
            "Hi\n",
            "Hi\n",
            "Hi\n",
            "Hi\n",
            "Hi\n",
            "Hi\n"
          ]
        },
        {
          "output_type": "stream",
          "name": "stderr",
          "text": [
            "INFO:root:Train Epoch: 1 [30720/60000 (51%)]\tLoss: 0.506911\n"
          ]
        },
        {
          "output_type": "stream",
          "name": "stdout",
          "text": [
            "Hi\n",
            "Hi\n",
            "Hi\n",
            "Hi\n",
            "Hi\n",
            "Hi\n",
            "Hi\n",
            "Hi\n",
            "Hi\n",
            "Hi\n"
          ]
        },
        {
          "output_type": "stream",
          "name": "stderr",
          "text": [
            "INFO:root:Train Epoch: 1 [31360/60000 (52%)]\tLoss: 0.626895\n"
          ]
        },
        {
          "output_type": "stream",
          "name": "stdout",
          "text": [
            "Hi\n",
            "Hi\n",
            "Hi\n",
            "Hi\n",
            "Hi\n",
            "Hi\n",
            "Hi\n",
            "Hi\n",
            "Hi\n",
            "Hi\n"
          ]
        },
        {
          "output_type": "stream",
          "name": "stderr",
          "text": [
            "INFO:root:Train Epoch: 1 [32000/60000 (53%)]\tLoss: 0.661722\n"
          ]
        },
        {
          "output_type": "stream",
          "name": "stdout",
          "text": [
            "Hi\n",
            "Hi\n",
            "Hi\n",
            "Hi\n",
            "Hi\n",
            "Hi\n",
            "Hi\n",
            "Hi\n",
            "Hi\n"
          ]
        },
        {
          "output_type": "stream",
          "name": "stderr",
          "text": [
            "INFO:root:Train Epoch: 1 [32640/60000 (54%)]\tLoss: 0.611269\n"
          ]
        },
        {
          "output_type": "stream",
          "name": "stdout",
          "text": [
            "Hi\n",
            "Hi\n",
            "Hi\n",
            "Hi\n",
            "Hi\n",
            "Hi\n",
            "Hi\n",
            "Hi\n",
            "Hi\n"
          ]
        },
        {
          "output_type": "stream",
          "name": "stderr",
          "text": [
            "INFO:root:Train Epoch: 1 [33280/60000 (55%)]\tLoss: 0.520839\n"
          ]
        },
        {
          "output_type": "stream",
          "name": "stdout",
          "text": [
            "Hi\n",
            "Hi\n",
            "Hi\n",
            "Hi\n",
            "Hi\n",
            "Hi\n",
            "Hi\n",
            "Hi\n",
            "Hi\n",
            "Hi\n",
            "Hi\n",
            "Hi\n"
          ]
        },
        {
          "output_type": "stream",
          "name": "stderr",
          "text": [
            "INFO:root:Train Epoch: 1 [33920/60000 (57%)]\tLoss: 0.375431\n"
          ]
        },
        {
          "output_type": "stream",
          "name": "stdout",
          "text": [
            "Hi\n",
            "Hi\n",
            "Hi\n",
            "Hi\n",
            "Hi\n",
            "Hi\n",
            "Hi\n",
            "Hi\n",
            "Hi\n"
          ]
        },
        {
          "output_type": "stream",
          "name": "stderr",
          "text": [
            "INFO:root:Train Epoch: 1 [34560/60000 (58%)]\tLoss: 0.716291\n"
          ]
        },
        {
          "output_type": "stream",
          "name": "stdout",
          "text": [
            "Hi\n",
            "Hi\n",
            "Hi\n",
            "Hi\n",
            "Hi\n",
            "Hi\n",
            "Hi\n",
            "Hi\n",
            "Hi\n",
            "Hi\n",
            "Hi\n",
            "Hi\n"
          ]
        },
        {
          "output_type": "stream",
          "name": "stderr",
          "text": [
            "INFO:root:Train Epoch: 1 [35200/60000 (59%)]\tLoss: 0.843901\n"
          ]
        },
        {
          "output_type": "stream",
          "name": "stdout",
          "text": [
            "Hi\n",
            "Hi\n",
            "Hi\n",
            "Hi\n",
            "Hi\n",
            "Hi\n",
            "Hi\n",
            "Hi\n",
            "Hi\n"
          ]
        },
        {
          "output_type": "stream",
          "name": "stderr",
          "text": [
            "INFO:root:Train Epoch: 1 [35840/60000 (60%)]\tLoss: 0.621975\n"
          ]
        },
        {
          "output_type": "stream",
          "name": "stdout",
          "text": [
            "Hi\n",
            "Hi\n",
            "Hi\n",
            "Hi\n",
            "Hi\n",
            "Hi\n",
            "Hi\n",
            "Hi\n",
            "Hi\n"
          ]
        },
        {
          "output_type": "stream",
          "name": "stderr",
          "text": [
            "INFO:root:Train Epoch: 1 [36480/60000 (61%)]\tLoss: 0.892185\n"
          ]
        },
        {
          "output_type": "stream",
          "name": "stdout",
          "text": [
            "Hi\n",
            "Hi\n",
            "Hi\n",
            "Hi\n",
            "Hi\n",
            "Hi\n",
            "Hi\n",
            "Hi\n",
            "Hi\n"
          ]
        },
        {
          "output_type": "stream",
          "name": "stderr",
          "text": [
            "INFO:root:Train Epoch: 1 [37120/60000 (62%)]\tLoss: 0.645971\n"
          ]
        },
        {
          "output_type": "stream",
          "name": "stdout",
          "text": [
            "Hi\n",
            "Hi\n",
            "Hi\n",
            "Hi\n",
            "Hi\n",
            "Hi\n",
            "Hi\n",
            "Hi\n",
            "Hi\n",
            "Hi\n",
            "Hi\n",
            "Hi\n"
          ]
        },
        {
          "output_type": "stream",
          "name": "stderr",
          "text": [
            "INFO:root:Train Epoch: 1 [37760/60000 (63%)]\tLoss: 0.603285\n"
          ]
        },
        {
          "output_type": "stream",
          "name": "stdout",
          "text": [
            "Hi\n",
            "Hi\n",
            "Hi\n",
            "Hi\n",
            "Hi\n",
            "Hi\n",
            "Hi\n",
            "Hi\n",
            "Hi\n"
          ]
        },
        {
          "output_type": "stream",
          "name": "stderr",
          "text": [
            "INFO:root:Train Epoch: 1 [38400/60000 (64%)]\tLoss: 0.539847\n"
          ]
        },
        {
          "output_type": "stream",
          "name": "stdout",
          "text": [
            "Hi\n",
            "Hi\n",
            "Hi\n",
            "Hi\n",
            "Hi\n",
            "Hi\n",
            "Hi\n",
            "Hi\n",
            "Hi\n"
          ]
        },
        {
          "output_type": "stream",
          "name": "stderr",
          "text": [
            "INFO:root:Train Epoch: 1 [39040/60000 (65%)]\tLoss: 0.542564\n"
          ]
        },
        {
          "output_type": "stream",
          "name": "stdout",
          "text": [
            "Hi\n",
            "Hi\n",
            "Hi\n",
            "Hi\n",
            "Hi\n",
            "Hi\n",
            "Hi\n",
            "Hi\n",
            "Hi\n",
            "Hi\n",
            "Hi\n",
            "Hi\n"
          ]
        },
        {
          "output_type": "stream",
          "name": "stderr",
          "text": [
            "INFO:root:Train Epoch: 1 [39680/60000 (66%)]\tLoss: 0.380096\n"
          ]
        },
        {
          "output_type": "stream",
          "name": "stdout",
          "text": [
            "Hi\n",
            "Hi\n",
            "Hi\n",
            "Hi\n",
            "Hi\n",
            "Hi\n",
            "Hi\n",
            "Hi\n",
            "Hi\n"
          ]
        },
        {
          "output_type": "stream",
          "name": "stderr",
          "text": [
            "INFO:root:Train Epoch: 1 [40320/60000 (67%)]\tLoss: 0.796960\n"
          ]
        },
        {
          "output_type": "stream",
          "name": "stdout",
          "text": [
            "Hi\n",
            "Hi\n",
            "Hi\n",
            "Hi\n",
            "Hi\n",
            "Hi\n",
            "Hi\n",
            "Hi\n",
            "Hi\n"
          ]
        },
        {
          "output_type": "stream",
          "name": "stderr",
          "text": [
            "INFO:root:Train Epoch: 1 [40960/60000 (68%)]\tLoss: 0.501136\n"
          ]
        },
        {
          "output_type": "stream",
          "name": "stdout",
          "text": [
            "Hi\n",
            "Hi\n",
            "Hi\n",
            "Hi\n",
            "Hi\n",
            "Hi\n",
            "Hi\n",
            "Hi\n",
            "Hi\n",
            "Hi\n",
            "Hi\n",
            "Hi\n"
          ]
        },
        {
          "output_type": "stream",
          "name": "stderr",
          "text": [
            "INFO:root:Train Epoch: 1 [41600/60000 (69%)]\tLoss: 0.729685\n"
          ]
        },
        {
          "output_type": "stream",
          "name": "stdout",
          "text": [
            "Hi\n",
            "Hi\n",
            "Hi\n",
            "Hi\n",
            "Hi\n",
            "Hi\n",
            "Hi\n",
            "Hi\n",
            "Hi\n"
          ]
        },
        {
          "output_type": "stream",
          "name": "stderr",
          "text": [
            "INFO:root:Train Epoch: 1 [42240/60000 (70%)]\tLoss: 0.419989\n"
          ]
        },
        {
          "output_type": "stream",
          "name": "stdout",
          "text": [
            "Hi\n",
            "Hi\n",
            "Hi\n",
            "Hi\n",
            "Hi\n",
            "Hi\n",
            "Hi\n",
            "Hi\n",
            "Hi\n"
          ]
        },
        {
          "output_type": "stream",
          "name": "stderr",
          "text": [
            "INFO:root:Train Epoch: 1 [42880/60000 (71%)]\tLoss: 0.597430\n"
          ]
        },
        {
          "output_type": "stream",
          "name": "stdout",
          "text": [
            "Hi\n",
            "Hi\n",
            "Hi\n",
            "Hi\n",
            "Hi\n",
            "Hi\n",
            "Hi\n",
            "Hi\n",
            "Hi\n",
            "Hi\n",
            "Hi\n",
            "Hi\n"
          ]
        },
        {
          "output_type": "stream",
          "name": "stderr",
          "text": [
            "INFO:root:Train Epoch: 1 [43520/60000 (72%)]\tLoss: 0.546467\n"
          ]
        },
        {
          "output_type": "stream",
          "name": "stdout",
          "text": [
            "Hi\n",
            "Hi\n",
            "Hi\n",
            "Hi\n",
            "Hi\n",
            "Hi\n",
            "Hi\n",
            "Hi\n",
            "Hi\n"
          ]
        },
        {
          "output_type": "stream",
          "name": "stderr",
          "text": [
            "INFO:root:Train Epoch: 1 [44160/60000 (74%)]\tLoss: 0.433968\n"
          ]
        },
        {
          "output_type": "stream",
          "name": "stdout",
          "text": [
            "Hi\n",
            "Hi\n",
            "Hi\n",
            "Hi\n",
            "Hi\n",
            "Hi\n",
            "Hi\n",
            "Hi\n",
            "Hi\n"
          ]
        },
        {
          "output_type": "stream",
          "name": "stderr",
          "text": [
            "INFO:root:Train Epoch: 1 [44800/60000 (75%)]\tLoss: 0.409606\n"
          ]
        },
        {
          "output_type": "stream",
          "name": "stdout",
          "text": [
            "Hi\n",
            "Hi\n",
            "Hi\n",
            "Hi\n",
            "Hi\n",
            "Hi\n",
            "Hi\n",
            "Hi\n",
            "Hi\n",
            "Hi\n",
            "Hi\n",
            "Hi\n"
          ]
        },
        {
          "output_type": "stream",
          "name": "stderr",
          "text": [
            "INFO:root:Train Epoch: 1 [45440/60000 (76%)]\tLoss: 0.451769\n"
          ]
        },
        {
          "output_type": "stream",
          "name": "stdout",
          "text": [
            "Hi\n",
            "Hi\n",
            "Hi\n",
            "Hi\n",
            "Hi\n",
            "Hi\n",
            "Hi\n",
            "Hi\n",
            "Hi\n",
            "Hi\n"
          ]
        },
        {
          "output_type": "stream",
          "name": "stderr",
          "text": [
            "INFO:root:Train Epoch: 1 [46080/60000 (77%)]\tLoss: 0.461385\n"
          ]
        },
        {
          "output_type": "stream",
          "name": "stdout",
          "text": [
            "Hi\n",
            "Hi\n",
            "Hi\n",
            "Hi\n",
            "Hi\n",
            "Hi\n",
            "Hi\n",
            "Hi\n",
            "Hi\n"
          ]
        },
        {
          "output_type": "stream",
          "name": "stderr",
          "text": [
            "INFO:root:Train Epoch: 1 [46720/60000 (78%)]\tLoss: 0.543668\n"
          ]
        },
        {
          "output_type": "stream",
          "name": "stdout",
          "text": [
            "Hi\n",
            "Hi\n",
            "Hi\n",
            "Hi\n",
            "Hi\n",
            "Hi\n",
            "Hi\n",
            "Hi\n",
            "Hi\n"
          ]
        },
        {
          "output_type": "stream",
          "name": "stderr",
          "text": [
            "INFO:root:Train Epoch: 1 [47360/60000 (79%)]\tLoss: 0.437766\n"
          ]
        },
        {
          "output_type": "stream",
          "name": "stdout",
          "text": [
            "Hi\n",
            "Hi\n",
            "Hi\n",
            "Hi\n",
            "Hi\n",
            "Hi\n",
            "Hi\n",
            "Hi\n",
            "Hi\n",
            "Hi\n",
            "Hi\n",
            "Hi\n"
          ]
        },
        {
          "output_type": "stream",
          "name": "stderr",
          "text": [
            "INFO:root:Train Epoch: 1 [48000/60000 (80%)]\tLoss: 0.363177\n"
          ]
        },
        {
          "output_type": "stream",
          "name": "stdout",
          "text": [
            "Hi\n",
            "Hi\n",
            "Hi\n",
            "Hi\n",
            "Hi\n",
            "Hi\n",
            "Hi\n",
            "Hi\n",
            "Hi\n"
          ]
        },
        {
          "output_type": "stream",
          "name": "stderr",
          "text": [
            "INFO:root:Train Epoch: 1 [48640/60000 (81%)]\tLoss: 0.433171\n"
          ]
        },
        {
          "output_type": "stream",
          "name": "stdout",
          "text": [
            "Hi\n",
            "Hi\n",
            "Hi\n",
            "Hi\n",
            "Hi\n",
            "Hi\n",
            "Hi\n",
            "Hi\n",
            "Hi\n"
          ]
        },
        {
          "output_type": "stream",
          "name": "stderr",
          "text": [
            "INFO:root:Train Epoch: 1 [49280/60000 (82%)]\tLoss: 0.595271\n"
          ]
        },
        {
          "output_type": "stream",
          "name": "stdout",
          "text": [
            "Hi\n",
            "Hi\n",
            "Hi\n",
            "Hi\n",
            "Hi\n",
            "Hi\n",
            "Hi\n",
            "Hi\n",
            "Hi\n",
            "Hi\n",
            "Hi\n",
            "Hi\n"
          ]
        },
        {
          "output_type": "stream",
          "name": "stderr",
          "text": [
            "INFO:root:Train Epoch: 1 [49920/60000 (83%)]\tLoss: 0.508327\n"
          ]
        },
        {
          "output_type": "stream",
          "name": "stdout",
          "text": [
            "Hi\n",
            "Hi\n",
            "Hi\n",
            "Hi\n",
            "Hi\n",
            "Hi\n",
            "Hi\n",
            "Hi\n",
            "Hi\n"
          ]
        },
        {
          "output_type": "stream",
          "name": "stderr",
          "text": [
            "INFO:root:Train Epoch: 1 [50560/60000 (84%)]\tLoss: 0.545421\n"
          ]
        },
        {
          "output_type": "stream",
          "name": "stdout",
          "text": [
            "Hi\n",
            "Hi\n",
            "Hi\n",
            "Hi\n",
            "Hi\n",
            "Hi\n",
            "Hi\n",
            "Hi\n",
            "Hi\n"
          ]
        },
        {
          "output_type": "stream",
          "name": "stderr",
          "text": [
            "INFO:root:Train Epoch: 1 [51200/60000 (85%)]\tLoss: 0.501276\n"
          ]
        },
        {
          "output_type": "stream",
          "name": "stdout",
          "text": [
            "Hi\n",
            "Hi\n",
            "Hi\n",
            "Hi\n",
            "Hi\n",
            "Hi\n",
            "Hi\n",
            "Hi\n",
            "Hi\n",
            "Hi\n",
            "Hi\n"
          ]
        },
        {
          "output_type": "stream",
          "name": "stderr",
          "text": [
            "INFO:root:Train Epoch: 1 [51840/60000 (86%)]\tLoss: 0.517715\n"
          ]
        },
        {
          "output_type": "stream",
          "name": "stdout",
          "text": [
            "Hi\n",
            "Hi\n",
            "Hi\n",
            "Hi\n",
            "Hi\n",
            "Hi\n",
            "Hi\n",
            "Hi\n",
            "Hi\n"
          ]
        },
        {
          "output_type": "stream",
          "name": "stderr",
          "text": [
            "INFO:root:Train Epoch: 1 [52480/60000 (87%)]\tLoss: 0.365575\n"
          ]
        },
        {
          "output_type": "stream",
          "name": "stdout",
          "text": [
            "Hi\n",
            "Hi\n",
            "Hi\n",
            "Hi\n",
            "Hi\n",
            "Hi\n",
            "Hi\n",
            "Hi\n",
            "Hi\n",
            "Hi\n",
            "Hi\n",
            "Hi\n"
          ]
        },
        {
          "output_type": "stream",
          "name": "stderr",
          "text": [
            "INFO:root:Train Epoch: 1 [53120/60000 (88%)]\tLoss: 0.605521\n"
          ]
        },
        {
          "output_type": "stream",
          "name": "stdout",
          "text": [
            "Hi\n",
            "Hi\n",
            "Hi\n",
            "Hi\n",
            "Hi\n",
            "Hi\n",
            "Hi\n",
            "Hi\n",
            "Hi\n"
          ]
        },
        {
          "output_type": "stream",
          "name": "stderr",
          "text": [
            "INFO:root:Train Epoch: 1 [53760/60000 (90%)]\tLoss: 0.513181\n"
          ]
        },
        {
          "output_type": "stream",
          "name": "stdout",
          "text": [
            "Hi\n",
            "Hi\n",
            "Hi\n",
            "Hi\n",
            "Hi\n",
            "Hi\n",
            "Hi\n",
            "Hi\n",
            "Hi\n"
          ]
        },
        {
          "output_type": "stream",
          "name": "stderr",
          "text": [
            "INFO:root:Train Epoch: 1 [54400/60000 (91%)]\tLoss: 0.467705\n"
          ]
        },
        {
          "output_type": "stream",
          "name": "stdout",
          "text": [
            "Hi\n",
            "Hi\n",
            "Hi\n",
            "Hi\n",
            "Hi\n",
            "Hi\n",
            "Hi\n",
            "Hi\n",
            "Hi\n",
            "Hi\n",
            "Hi\n",
            "Hi\n"
          ]
        },
        {
          "output_type": "stream",
          "name": "stderr",
          "text": [
            "INFO:root:Train Epoch: 1 [55040/60000 (92%)]\tLoss: 0.442594\n"
          ]
        },
        {
          "output_type": "stream",
          "name": "stdout",
          "text": [
            "Hi\n",
            "Hi\n",
            "Hi\n",
            "Hi\n",
            "Hi\n",
            "Hi\n",
            "Hi\n",
            "Hi\n",
            "Hi\n"
          ]
        },
        {
          "output_type": "stream",
          "name": "stderr",
          "text": [
            "INFO:root:Train Epoch: 1 [55680/60000 (93%)]\tLoss: 0.696845\n"
          ]
        },
        {
          "output_type": "stream",
          "name": "stdout",
          "text": [
            "Hi\n",
            "Hi\n",
            "Hi\n",
            "Hi\n",
            "Hi\n",
            "Hi\n",
            "Hi\n",
            "Hi\n",
            "Hi\n"
          ]
        },
        {
          "output_type": "stream",
          "name": "stderr",
          "text": [
            "INFO:root:Train Epoch: 1 [56320/60000 (94%)]\tLoss: 0.707195\n"
          ]
        },
        {
          "output_type": "stream",
          "name": "stdout",
          "text": [
            "Hi\n",
            "Hi\n",
            "Hi\n",
            "Hi\n",
            "Hi\n",
            "Hi\n",
            "Hi\n",
            "Hi\n",
            "Hi\n",
            "Hi\n",
            "Hi\n",
            "Hi\n"
          ]
        },
        {
          "output_type": "stream",
          "name": "stderr",
          "text": [
            "INFO:root:Train Epoch: 1 [56960/60000 (95%)]\tLoss: 0.587263\n"
          ]
        },
        {
          "output_type": "stream",
          "name": "stdout",
          "text": [
            "Hi\n",
            "Hi\n",
            "Hi\n",
            "Hi\n",
            "Hi\n",
            "Hi\n",
            "Hi\n",
            "Hi\n",
            "Hi\n"
          ]
        },
        {
          "output_type": "stream",
          "name": "stderr",
          "text": [
            "INFO:root:Train Epoch: 1 [57600/60000 (96%)]\tLoss: 0.613857\n"
          ]
        },
        {
          "output_type": "stream",
          "name": "stdout",
          "text": [
            "Hi\n",
            "Hi\n",
            "Hi\n",
            "Hi\n",
            "Hi\n",
            "Hi\n",
            "Hi\n",
            "Hi\n",
            "Hi\n",
            "Hi\n",
            "Hi\n",
            "Hi\n"
          ]
        },
        {
          "output_type": "stream",
          "name": "stderr",
          "text": [
            "INFO:root:Train Epoch: 1 [58240/60000 (97%)]\tLoss: 0.451557\n"
          ]
        },
        {
          "output_type": "stream",
          "name": "stdout",
          "text": [
            "Hi\n",
            "Hi\n",
            "Hi\n",
            "Hi\n",
            "Hi\n",
            "Hi\n",
            "Hi\n",
            "Hi\n",
            "Hi\n"
          ]
        },
        {
          "output_type": "stream",
          "name": "stderr",
          "text": [
            "INFO:root:Train Epoch: 1 [58880/60000 (98%)]\tLoss: 0.353866\n"
          ]
        },
        {
          "output_type": "stream",
          "name": "stdout",
          "text": [
            "Hi\n",
            "Hi\n",
            "Hi\n",
            "Hi\n",
            "Hi\n",
            "Hi\n",
            "Hi\n",
            "Hi\n",
            "Hi\n"
          ]
        },
        {
          "output_type": "stream",
          "name": "stderr",
          "text": [
            "INFO:root:Train Epoch: 1 [59520/60000 (99%)]\tLoss: 0.332184\n"
          ]
        },
        {
          "output_type": "stream",
          "name": "stdout",
          "text": [
            "Hi\n",
            "Hi\n",
            "Hi\n",
            "Hi\n",
            "Hi\n",
            "Hi\n",
            "Hi\n",
            "Hi\n",
            "Hi\n"
          ]
        },
        {
          "output_type": "stream",
          "name": "stderr",
          "text": [
            "INFO:root:\n",
            "Test set: Average loss: 0.3474, Accuracy: 8944/10000 (89%)\n",
            "\n",
            "/usr/local/lib/python3.7/dist-packages/torch/optim/lr_scheduler.py:127: UserWarning: Seems like `optimizer.step()` has been overridden after learning rate scheduler initialization. Please, make sure to call `optimizer.step()` before `lr_scheduler.step()`. See more details at https://pytorch.org/docs/stable/optim.html#how-to-adjust-learning-rate\n",
            "  \"https://pytorch.org/docs/stable/optim.html#how-to-adjust-learning-rate\", UserWarning)\n",
            "INFO:root:Train Epoch: 2 [0/60000 (0%)]\tLoss: 0.739585\n"
          ]
        },
        {
          "output_type": "stream",
          "name": "stdout",
          "text": [
            "Hi\n",
            "Hi\n",
            "Hi\n",
            "Hi\n",
            "Hi\n",
            "Hi\n",
            "Hi\n",
            "Hi\n"
          ]
        },
        {
          "output_type": "stream",
          "name": "stderr",
          "text": [
            "INFO:root:Train Epoch: 2 [640/60000 (1%)]\tLoss: 0.653147\n"
          ]
        },
        {
          "output_type": "stream",
          "name": "stdout",
          "text": [
            "Hi\n",
            "Hi\n",
            "Hi\n",
            "Hi\n",
            "Hi\n",
            "Hi\n",
            "Hi\n",
            "Hi\n",
            "Hi\n",
            "Hi\n",
            "Hi\n",
            "Hi\n"
          ]
        },
        {
          "output_type": "stream",
          "name": "stderr",
          "text": [
            "INFO:root:Train Epoch: 2 [1280/60000 (2%)]\tLoss: 0.377869\n"
          ]
        },
        {
          "output_type": "stream",
          "name": "stdout",
          "text": [
            "Hi\n",
            "Hi\n",
            "Hi\n",
            "Hi\n",
            "Hi\n",
            "Hi\n",
            "Hi\n",
            "Hi\n",
            "Hi\n"
          ]
        },
        {
          "output_type": "stream",
          "name": "stderr",
          "text": [
            "INFO:root:Train Epoch: 2 [1920/60000 (3%)]\tLoss: 0.545180\n"
          ]
        },
        {
          "output_type": "stream",
          "name": "stdout",
          "text": [
            "Hi\n",
            "Hi\n",
            "Hi\n",
            "Hi\n",
            "Hi\n",
            "Hi\n",
            "Hi\n",
            "Hi\n",
            "Hi\n"
          ]
        },
        {
          "output_type": "stream",
          "name": "stderr",
          "text": [
            "INFO:root:Train Epoch: 2 [2560/60000 (4%)]\tLoss: 0.322698\n"
          ]
        },
        {
          "output_type": "stream",
          "name": "stdout",
          "text": [
            "Hi\n",
            "Hi\n",
            "Hi\n",
            "Hi\n",
            "Hi\n",
            "Hi\n",
            "Hi\n",
            "Hi\n",
            "Hi\n",
            "Hi\n",
            "Hi\n",
            "Hi\n"
          ]
        },
        {
          "output_type": "stream",
          "name": "stderr",
          "text": [
            "INFO:root:Train Epoch: 2 [3200/60000 (5%)]\tLoss: 0.505740\n"
          ]
        },
        {
          "output_type": "stream",
          "name": "stdout",
          "text": [
            "Hi\n",
            "Hi\n",
            "Hi\n",
            "Hi\n",
            "Hi\n",
            "Hi\n",
            "Hi\n",
            "Hi\n",
            "Hi\n"
          ]
        },
        {
          "output_type": "stream",
          "name": "stderr",
          "text": [
            "INFO:root:Train Epoch: 2 [3840/60000 (6%)]\tLoss: 0.557035\n"
          ]
        },
        {
          "output_type": "stream",
          "name": "stdout",
          "text": [
            "Hi\n",
            "Hi\n",
            "Hi\n",
            "Hi\n",
            "Hi\n",
            "Hi\n",
            "Hi\n",
            "Hi\n",
            "Hi\n",
            "Hi\n",
            "Hi\n",
            "Hi\n"
          ]
        },
        {
          "output_type": "stream",
          "name": "stderr",
          "text": [
            "INFO:root:Train Epoch: 2 [4480/60000 (7%)]\tLoss: 0.399708\n"
          ]
        },
        {
          "output_type": "stream",
          "name": "stdout",
          "text": [
            "Hi\n",
            "Hi\n",
            "Hi\n",
            "Hi\n",
            "Hi\n",
            "Hi\n",
            "Hi\n",
            "Hi\n",
            "Hi\n"
          ]
        },
        {
          "output_type": "stream",
          "name": "stderr",
          "text": [
            "INFO:root:Train Epoch: 2 [5120/60000 (9%)]\tLoss: 0.394062\n"
          ]
        },
        {
          "output_type": "stream",
          "name": "stdout",
          "text": [
            "Hi\n",
            "Hi\n",
            "Hi\n",
            "Hi\n",
            "Hi\n",
            "Hi\n",
            "Hi\n",
            "Hi\n",
            "Hi\n"
          ]
        },
        {
          "output_type": "stream",
          "name": "stderr",
          "text": [
            "INFO:root:Train Epoch: 2 [5760/60000 (10%)]\tLoss: 0.508600\n"
          ]
        },
        {
          "output_type": "stream",
          "name": "stdout",
          "text": [
            "Hi\n",
            "Hi\n",
            "Hi\n",
            "Hi\n",
            "Hi\n",
            "Hi\n",
            "Hi\n",
            "Hi\n",
            "Hi\n",
            "Hi\n",
            "Hi\n",
            "Hi\n"
          ]
        },
        {
          "output_type": "stream",
          "name": "stderr",
          "text": [
            "INFO:root:Train Epoch: 2 [6400/60000 (11%)]\tLoss: 0.757171\n"
          ]
        },
        {
          "output_type": "stream",
          "name": "stdout",
          "text": [
            "Hi\n",
            "Hi\n",
            "Hi\n",
            "Hi\n",
            "Hi\n",
            "Hi\n",
            "Hi\n",
            "Hi\n",
            "Hi\n"
          ]
        },
        {
          "output_type": "stream",
          "name": "stderr",
          "text": [
            "INFO:root:Train Epoch: 2 [7040/60000 (12%)]\tLoss: 0.289856\n"
          ]
        },
        {
          "output_type": "stream",
          "name": "stdout",
          "text": [
            "Hi\n",
            "Hi\n",
            "Hi\n",
            "Hi\n",
            "Hi\n",
            "Hi\n",
            "Hi\n",
            "Hi\n",
            "Hi\n"
          ]
        },
        {
          "output_type": "stream",
          "name": "stderr",
          "text": [
            "INFO:root:Train Epoch: 2 [7680/60000 (13%)]\tLoss: 0.496493\n"
          ]
        },
        {
          "output_type": "stream",
          "name": "stdout",
          "text": [
            "Hi\n",
            "Hi\n",
            "Hi\n",
            "Hi\n",
            "Hi\n",
            "Hi\n",
            "Hi\n",
            "Hi\n",
            "Hi\n",
            "Hi\n",
            "Hi\n",
            "Hi\n"
          ]
        },
        {
          "output_type": "stream",
          "name": "stderr",
          "text": [
            "INFO:root:Train Epoch: 2 [8320/60000 (14%)]\tLoss: 0.396578\n"
          ]
        },
        {
          "output_type": "stream",
          "name": "stdout",
          "text": [
            "Hi\n",
            "Hi\n",
            "Hi\n",
            "Hi\n",
            "Hi\n",
            "Hi\n",
            "Hi\n",
            "Hi\n",
            "Hi\n"
          ]
        },
        {
          "output_type": "stream",
          "name": "stderr",
          "text": [
            "INFO:root:Train Epoch: 2 [8960/60000 (15%)]\tLoss: 0.386363\n"
          ]
        },
        {
          "output_type": "stream",
          "name": "stdout",
          "text": [
            "Hi\n",
            "Hi\n",
            "Hi\n",
            "Hi\n",
            "Hi\n",
            "Hi\n",
            "Hi\n",
            "Hi\n",
            "Hi\n"
          ]
        },
        {
          "output_type": "stream",
          "name": "stderr",
          "text": [
            "INFO:root:Train Epoch: 2 [9600/60000 (16%)]\tLoss: 0.587651\n"
          ]
        },
        {
          "output_type": "stream",
          "name": "stdout",
          "text": [
            "Hi\n",
            "Hi\n",
            "Hi\n",
            "Hi\n",
            "Hi\n",
            "Hi\n",
            "Hi\n",
            "Hi\n",
            "Hi\n",
            "Hi\n",
            "Hi\n"
          ]
        },
        {
          "output_type": "stream",
          "name": "stderr",
          "text": [
            "INFO:root:Train Epoch: 2 [10240/60000 (17%)]\tLoss: 0.375909\n"
          ]
        },
        {
          "output_type": "stream",
          "name": "stdout",
          "text": [
            "Hi\n",
            "Hi\n",
            "Hi\n",
            "Hi\n",
            "Hi\n",
            "Hi\n",
            "Hi\n",
            "Hi\n",
            "Hi\n"
          ]
        },
        {
          "output_type": "stream",
          "name": "stderr",
          "text": [
            "INFO:root:Train Epoch: 2 [10880/60000 (18%)]\tLoss: 0.341532\n"
          ]
        },
        {
          "output_type": "stream",
          "name": "stdout",
          "text": [
            "Hi\n",
            "Hi\n",
            "Hi\n",
            "Hi\n",
            "Hi\n",
            "Hi\n",
            "Hi\n",
            "Hi\n",
            "Hi\n",
            "Hi\n",
            "Hi\n",
            "Hi\n"
          ]
        },
        {
          "output_type": "stream",
          "name": "stderr",
          "text": [
            "INFO:root:Train Epoch: 2 [11520/60000 (19%)]\tLoss: 0.375238\n"
          ]
        },
        {
          "output_type": "stream",
          "name": "stdout",
          "text": [
            "Hi\n",
            "Hi\n",
            "Hi\n",
            "Hi\n",
            "Hi\n",
            "Hi\n",
            "Hi\n",
            "Hi\n",
            "Hi\n"
          ]
        },
        {
          "output_type": "stream",
          "name": "stderr",
          "text": [
            "INFO:root:Train Epoch: 2 [12160/60000 (20%)]\tLoss: 0.351745\n"
          ]
        },
        {
          "output_type": "stream",
          "name": "stdout",
          "text": [
            "Hi\n",
            "Hi\n",
            "Hi\n",
            "Hi\n",
            "Hi\n",
            "Hi\n",
            "Hi\n",
            "Hi\n"
          ]
        },
        {
          "output_type": "stream",
          "name": "stderr",
          "text": [
            "INFO:root:Train Epoch: 2 [12800/60000 (21%)]\tLoss: 0.498345\n"
          ]
        },
        {
          "output_type": "stream",
          "name": "stdout",
          "text": [
            "Hi\n",
            "Hi\n",
            "Hi\n",
            "Hi\n",
            "Hi\n",
            "Hi\n",
            "Hi\n",
            "Hi\n",
            "Hi\n",
            "Hi\n",
            "Hi\n",
            "Hi\n",
            "Hi\n"
          ]
        },
        {
          "output_type": "stream",
          "name": "stderr",
          "text": [
            "INFO:root:Train Epoch: 2 [13440/60000 (22%)]\tLoss: 0.434632\n"
          ]
        },
        {
          "output_type": "stream",
          "name": "stdout",
          "text": [
            "Hi\n",
            "Hi\n",
            "Hi\n",
            "Hi\n",
            "Hi\n",
            "Hi\n",
            "Hi\n",
            "Hi\n",
            "Hi\n"
          ]
        },
        {
          "output_type": "stream",
          "name": "stderr",
          "text": [
            "INFO:root:Train Epoch: 2 [14080/60000 (23%)]\tLoss: 0.399834\n"
          ]
        },
        {
          "output_type": "stream",
          "name": "stdout",
          "text": [
            "Hi\n",
            "Hi\n",
            "Hi\n",
            "Hi\n",
            "Hi\n",
            "Hi\n",
            "Hi\n",
            "Hi\n"
          ]
        },
        {
          "output_type": "stream",
          "name": "stderr",
          "text": [
            "INFO:root:Train Epoch: 2 [14720/60000 (25%)]\tLoss: 0.371171\n"
          ]
        },
        {
          "output_type": "stream",
          "name": "stdout",
          "text": [
            "Hi\n",
            "Hi\n",
            "Hi\n",
            "Hi\n",
            "Hi\n",
            "Hi\n",
            "Hi\n",
            "Hi\n",
            "Hi\n",
            "Hi\n",
            "Hi\n",
            "Hi\n"
          ]
        },
        {
          "output_type": "stream",
          "name": "stderr",
          "text": [
            "INFO:root:Train Epoch: 2 [15360/60000 (26%)]\tLoss: 0.506617\n"
          ]
        },
        {
          "output_type": "stream",
          "name": "stdout",
          "text": [
            "Hi\n",
            "Hi\n",
            "Hi\n",
            "Hi\n",
            "Hi\n",
            "Hi\n",
            "Hi\n",
            "Hi\n",
            "Hi\n"
          ]
        },
        {
          "output_type": "stream",
          "name": "stderr",
          "text": [
            "INFO:root:Train Epoch: 2 [16000/60000 (27%)]\tLoss: 0.437979\n"
          ]
        },
        {
          "output_type": "stream",
          "name": "stdout",
          "text": [
            "Hi\n",
            "Hi\n",
            "Hi\n",
            "Hi\n",
            "Hi\n",
            "Hi\n",
            "Hi\n",
            "Hi\n",
            "Hi\n"
          ]
        },
        {
          "output_type": "stream",
          "name": "stderr",
          "text": [
            "INFO:root:Train Epoch: 2 [16640/60000 (28%)]\tLoss: 0.524969\n"
          ]
        },
        {
          "output_type": "stream",
          "name": "stdout",
          "text": [
            "Hi\n",
            "Hi\n",
            "Hi\n",
            "Hi\n",
            "Hi\n",
            "Hi\n",
            "Hi\n",
            "Hi\n",
            "Hi\n",
            "Hi\n",
            "Hi\n",
            "Hi\n"
          ]
        },
        {
          "output_type": "stream",
          "name": "stderr",
          "text": [
            "INFO:root:Train Epoch: 2 [17280/60000 (29%)]\tLoss: 0.412848\n"
          ]
        },
        {
          "output_type": "stream",
          "name": "stdout",
          "text": [
            "Hi\n",
            "Hi\n",
            "Hi\n",
            "Hi\n",
            "Hi\n",
            "Hi\n",
            "Hi\n",
            "Hi\n",
            "Hi\n"
          ]
        },
        {
          "output_type": "stream",
          "name": "stderr",
          "text": [
            "INFO:root:Train Epoch: 2 [17920/60000 (30%)]\tLoss: 0.289371\n"
          ]
        },
        {
          "output_type": "stream",
          "name": "stdout",
          "text": [
            "Hi\n",
            "Hi\n",
            "Hi\n",
            "Hi\n",
            "Hi\n",
            "Hi\n",
            "Hi\n",
            "Hi\n",
            "Hi\n"
          ]
        },
        {
          "output_type": "stream",
          "name": "stderr",
          "text": [
            "INFO:root:Train Epoch: 2 [18560/60000 (31%)]\tLoss: 0.400853\n"
          ]
        },
        {
          "output_type": "stream",
          "name": "stdout",
          "text": [
            "Hi\n",
            "Hi\n",
            "Hi\n",
            "Hi\n",
            "Hi\n",
            "Hi\n",
            "Hi\n",
            "Hi\n",
            "Hi\n",
            "Hi\n",
            "Hi\n",
            "Hi\n"
          ]
        },
        {
          "output_type": "stream",
          "name": "stderr",
          "text": [
            "INFO:root:Train Epoch: 2 [19200/60000 (32%)]\tLoss: 0.363329\n"
          ]
        },
        {
          "output_type": "stream",
          "name": "stdout",
          "text": [
            "Hi\n",
            "Hi\n",
            "Hi\n",
            "Hi\n",
            "Hi\n",
            "Hi\n",
            "Hi\n",
            "Hi\n",
            "Hi\n"
          ]
        },
        {
          "output_type": "stream",
          "name": "stderr",
          "text": [
            "INFO:root:Train Epoch: 2 [19840/60000 (33%)]\tLoss: 0.629779\n"
          ]
        },
        {
          "output_type": "stream",
          "name": "stdout",
          "text": [
            "Hi\n",
            "Hi\n",
            "Hi\n",
            "Hi\n",
            "Hi\n",
            "Hi\n",
            "Hi\n",
            "Hi\n",
            "Hi\n",
            "Hi\n",
            "Hi\n",
            "Hi\n"
          ]
        },
        {
          "output_type": "stream",
          "name": "stderr",
          "text": [
            "INFO:root:Train Epoch: 2 [20480/60000 (34%)]\tLoss: 0.500187\n"
          ]
        },
        {
          "output_type": "stream",
          "name": "stdout",
          "text": [
            "Hi\n",
            "Hi\n",
            "Hi\n",
            "Hi\n",
            "Hi\n",
            "Hi\n",
            "Hi\n",
            "Hi\n",
            "Hi\n"
          ]
        },
        {
          "output_type": "stream",
          "name": "stderr",
          "text": [
            "INFO:root:Train Epoch: 2 [21120/60000 (35%)]\tLoss: 0.381219\n"
          ]
        },
        {
          "output_type": "stream",
          "name": "stdout",
          "text": [
            "Hi\n",
            "Hi\n",
            "Hi\n",
            "Hi\n",
            "Hi\n",
            "Hi\n",
            "Hi\n",
            "Hi\n",
            "Hi\n"
          ]
        },
        {
          "output_type": "stream",
          "name": "stderr",
          "text": [
            "INFO:root:Train Epoch: 2 [21760/60000 (36%)]\tLoss: 0.306877\n"
          ]
        },
        {
          "output_type": "stream",
          "name": "stdout",
          "text": [
            "Hi\n",
            "Hi\n",
            "Hi\n",
            "Hi\n",
            "Hi\n",
            "Hi\n",
            "Hi\n",
            "Hi\n",
            "Hi\n",
            "Hi\n",
            "Hi\n",
            "Hi\n"
          ]
        },
        {
          "output_type": "stream",
          "name": "stderr",
          "text": [
            "INFO:root:Train Epoch: 2 [22400/60000 (37%)]\tLoss: 0.559655\n"
          ]
        },
        {
          "output_type": "stream",
          "name": "stdout",
          "text": [
            "Hi\n",
            "Hi\n",
            "Hi\n",
            "Hi\n",
            "Hi\n",
            "Hi\n",
            "Hi\n",
            "Hi\n",
            "Hi\n"
          ]
        },
        {
          "output_type": "stream",
          "name": "stderr",
          "text": [
            "INFO:root:Train Epoch: 2 [23040/60000 (38%)]\tLoss: 0.539742\n"
          ]
        },
        {
          "output_type": "stream",
          "name": "stdout",
          "text": [
            "Hi\n",
            "Hi\n",
            "Hi\n",
            "Hi\n",
            "Hi\n",
            "Hi\n",
            "Hi\n",
            "Hi\n",
            "Hi\n"
          ]
        },
        {
          "output_type": "stream",
          "name": "stderr",
          "text": [
            "INFO:root:Train Epoch: 2 [23680/60000 (39%)]\tLoss: 0.607310\n"
          ]
        },
        {
          "output_type": "stream",
          "name": "stdout",
          "text": [
            "Hi\n",
            "Hi\n",
            "Hi\n",
            "Hi\n",
            "Hi\n",
            "Hi\n",
            "Hi\n",
            "Hi\n",
            "Hi\n",
            "Hi\n",
            "Hi\n",
            "Hi\n"
          ]
        },
        {
          "output_type": "stream",
          "name": "stderr",
          "text": [
            "INFO:root:Train Epoch: 2 [24320/60000 (41%)]\tLoss: 0.231233\n"
          ]
        },
        {
          "output_type": "stream",
          "name": "stdout",
          "text": [
            "Hi\n",
            "Hi\n",
            "Hi\n",
            "Hi\n",
            "Hi\n",
            "Hi\n",
            "Hi\n",
            "Hi\n",
            "Hi\n"
          ]
        },
        {
          "output_type": "stream",
          "name": "stderr",
          "text": [
            "INFO:root:Train Epoch: 2 [24960/60000 (42%)]\tLoss: 0.419756\n"
          ]
        },
        {
          "output_type": "stream",
          "name": "stdout",
          "text": [
            "Hi\n",
            "Hi\n",
            "Hi\n",
            "Hi\n",
            "Hi\n",
            "Hi\n",
            "Hi\n",
            "Hi\n",
            "Hi\n"
          ]
        },
        {
          "output_type": "stream",
          "name": "stderr",
          "text": [
            "INFO:root:Train Epoch: 2 [25600/60000 (43%)]\tLoss: 0.460978\n"
          ]
        },
        {
          "output_type": "stream",
          "name": "stdout",
          "text": [
            "Hi\n",
            "Hi\n",
            "Hi\n",
            "Hi\n",
            "Hi\n",
            "Hi\n",
            "Hi\n",
            "Hi\n",
            "Hi\n",
            "Hi\n",
            "Hi\n",
            "Hi\n"
          ]
        },
        {
          "output_type": "stream",
          "name": "stderr",
          "text": [
            "INFO:root:Train Epoch: 2 [26240/60000 (44%)]\tLoss: 0.452854\n"
          ]
        },
        {
          "output_type": "stream",
          "name": "stdout",
          "text": [
            "Hi\n",
            "Hi\n",
            "Hi\n",
            "Hi\n",
            "Hi\n",
            "Hi\n",
            "Hi\n",
            "Hi\n",
            "Hi\n"
          ]
        },
        {
          "output_type": "stream",
          "name": "stderr",
          "text": [
            "INFO:root:Train Epoch: 2 [26880/60000 (45%)]\tLoss: 0.330370\n"
          ]
        },
        {
          "output_type": "stream",
          "name": "stdout",
          "text": [
            "Hi\n",
            "Hi\n",
            "Hi\n",
            "Hi\n",
            "Hi\n",
            "Hi\n",
            "Hi\n",
            "Hi\n",
            "Hi\n"
          ]
        },
        {
          "output_type": "stream",
          "name": "stderr",
          "text": [
            "INFO:root:Train Epoch: 2 [27520/60000 (46%)]\tLoss: 0.372988\n"
          ]
        },
        {
          "output_type": "stream",
          "name": "stdout",
          "text": [
            "Hi\n",
            "Hi\n",
            "Hi\n",
            "Hi\n",
            "Hi\n",
            "Hi\n",
            "Hi\n",
            "Hi\n",
            "Hi\n"
          ]
        },
        {
          "output_type": "stream",
          "name": "stderr",
          "text": [
            "INFO:root:Train Epoch: 2 [28160/60000 (47%)]\tLoss: 0.659140\n"
          ]
        },
        {
          "output_type": "stream",
          "name": "stdout",
          "text": [
            "Hi\n",
            "Hi\n",
            "Hi\n",
            "Hi\n",
            "Hi\n",
            "Hi\n",
            "Hi\n",
            "Hi\n",
            "Hi\n",
            "Hi\n",
            "Hi\n",
            "Hi\n"
          ]
        },
        {
          "output_type": "stream",
          "name": "stderr",
          "text": [
            "INFO:root:Train Epoch: 2 [28800/60000 (48%)]\tLoss: 0.542894\n"
          ]
        },
        {
          "output_type": "stream",
          "name": "stdout",
          "text": [
            "Hi\n",
            "Hi\n",
            "Hi\n",
            "Hi\n",
            "Hi\n",
            "Hi\n",
            "Hi\n",
            "Hi\n",
            "Hi\n"
          ]
        },
        {
          "output_type": "stream",
          "name": "stderr",
          "text": [
            "INFO:root:Train Epoch: 2 [29440/60000 (49%)]\tLoss: 0.465718\n"
          ]
        },
        {
          "output_type": "stream",
          "name": "stdout",
          "text": [
            "Hi\n",
            "Hi\n",
            "Hi\n",
            "Hi\n",
            "Hi\n",
            "Hi\n",
            "Hi\n",
            "Hi\n",
            "Hi\n"
          ]
        },
        {
          "output_type": "stream",
          "name": "stderr",
          "text": [
            "INFO:root:Train Epoch: 2 [30080/60000 (50%)]\tLoss: 0.375170\n"
          ]
        },
        {
          "output_type": "stream",
          "name": "stdout",
          "text": [
            "Hi\n",
            "Hi\n",
            "Hi\n",
            "Hi\n",
            "Hi\n",
            "Hi\n",
            "Hi\n",
            "Hi\n",
            "Hi\n",
            "Hi\n",
            "Hi\n",
            "Hi\n"
          ]
        },
        {
          "output_type": "stream",
          "name": "stderr",
          "text": [
            "INFO:root:Train Epoch: 2 [30720/60000 (51%)]\tLoss: 0.249415\n"
          ]
        },
        {
          "output_type": "stream",
          "name": "stdout",
          "text": [
            "Hi\n",
            "Hi\n",
            "Hi\n",
            "Hi\n",
            "Hi\n",
            "Hi\n",
            "Hi\n",
            "Hi\n",
            "Hi\n"
          ]
        },
        {
          "output_type": "stream",
          "name": "stderr",
          "text": [
            "INFO:root:Train Epoch: 2 [31360/60000 (52%)]\tLoss: 0.338204\n"
          ]
        },
        {
          "output_type": "stream",
          "name": "stdout",
          "text": [
            "Hi\n",
            "Hi\n",
            "Hi\n",
            "Hi\n",
            "Hi\n",
            "Hi\n",
            "Hi\n",
            "Hi\n",
            "Hi\n"
          ]
        },
        {
          "output_type": "stream",
          "name": "stderr",
          "text": [
            "INFO:root:Train Epoch: 2 [32000/60000 (53%)]\tLoss: 0.405956\n"
          ]
        },
        {
          "output_type": "stream",
          "name": "stdout",
          "text": [
            "Hi\n",
            "Hi\n",
            "Hi\n",
            "Hi\n",
            "Hi\n",
            "Hi\n",
            "Hi\n",
            "Hi\n",
            "Hi\n",
            "Hi\n",
            "Hi\n",
            "Hi\n"
          ]
        },
        {
          "output_type": "stream",
          "name": "stderr",
          "text": [
            "INFO:root:Train Epoch: 2 [32640/60000 (54%)]\tLoss: 0.410551\n"
          ]
        },
        {
          "output_type": "stream",
          "name": "stdout",
          "text": [
            "Hi\n",
            "Hi\n",
            "Hi\n",
            "Hi\n",
            "Hi\n",
            "Hi\n",
            "Hi\n",
            "Hi\n",
            "Hi\n"
          ]
        },
        {
          "output_type": "stream",
          "name": "stderr",
          "text": [
            "INFO:root:Train Epoch: 2 [33280/60000 (55%)]\tLoss: 0.487444\n"
          ]
        },
        {
          "output_type": "stream",
          "name": "stdout",
          "text": [
            "Hi\n",
            "Hi\n",
            "Hi\n",
            "Hi\n",
            "Hi\n",
            "Hi\n",
            "Hi\n",
            "Hi\n",
            "Hi\n",
            "Hi\n",
            "Hi\n",
            "Hi\n"
          ]
        },
        {
          "output_type": "stream",
          "name": "stderr",
          "text": [
            "INFO:root:Train Epoch: 2 [33920/60000 (57%)]\tLoss: 0.254648\n"
          ]
        },
        {
          "output_type": "stream",
          "name": "stdout",
          "text": [
            "Hi\n",
            "Hi\n",
            "Hi\n",
            "Hi\n",
            "Hi\n",
            "Hi\n",
            "Hi\n",
            "Hi\n",
            "Hi\n"
          ]
        },
        {
          "output_type": "stream",
          "name": "stderr",
          "text": [
            "INFO:root:Train Epoch: 2 [34560/60000 (58%)]\tLoss: 0.557104\n"
          ]
        },
        {
          "output_type": "stream",
          "name": "stdout",
          "text": [
            "Hi\n",
            "Hi\n",
            "Hi\n",
            "Hi\n",
            "Hi\n",
            "Hi\n",
            "Hi\n",
            "Hi\n",
            "Hi\n"
          ]
        },
        {
          "output_type": "stream",
          "name": "stderr",
          "text": [
            "INFO:root:Train Epoch: 2 [35200/60000 (59%)]\tLoss: 0.447106\n"
          ]
        },
        {
          "output_type": "stream",
          "name": "stdout",
          "text": [
            "Hi\n",
            "Hi\n",
            "Hi\n",
            "Hi\n",
            "Hi\n",
            "Hi\n",
            "Hi\n",
            "Hi\n",
            "Hi\n",
            "Hi\n",
            "Hi\n",
            "Hi\n"
          ]
        },
        {
          "output_type": "stream",
          "name": "stderr",
          "text": [
            "INFO:root:Train Epoch: 2 [35840/60000 (60%)]\tLoss: 0.470069\n"
          ]
        },
        {
          "output_type": "stream",
          "name": "stdout",
          "text": [
            "Hi\n",
            "Hi\n",
            "Hi\n",
            "Hi\n",
            "Hi\n",
            "Hi\n",
            "Hi\n",
            "Hi\n",
            "Hi\n"
          ]
        },
        {
          "output_type": "stream",
          "name": "stderr",
          "text": [
            "INFO:root:Train Epoch: 2 [36480/60000 (61%)]\tLoss: 0.603265\n"
          ]
        },
        {
          "output_type": "stream",
          "name": "stdout",
          "text": [
            "Hi\n",
            "Hi\n",
            "Hi\n",
            "Hi\n",
            "Hi\n",
            "Hi\n",
            "Hi\n",
            "Hi\n",
            "Hi\n"
          ]
        },
        {
          "output_type": "stream",
          "name": "stderr",
          "text": [
            "INFO:root:Train Epoch: 2 [37120/60000 (62%)]\tLoss: 0.464589\n"
          ]
        },
        {
          "output_type": "stream",
          "name": "stdout",
          "text": [
            "Hi\n",
            "Hi\n",
            "Hi\n",
            "Hi\n",
            "Hi\n",
            "Hi\n",
            "Hi\n",
            "Hi\n",
            "Hi\n",
            "Hi\n",
            "Hi\n",
            "Hi\n"
          ]
        },
        {
          "output_type": "stream",
          "name": "stderr",
          "text": [
            "INFO:root:Train Epoch: 2 [37760/60000 (63%)]\tLoss: 0.403798\n"
          ]
        },
        {
          "output_type": "stream",
          "name": "stdout",
          "text": [
            "Hi\n",
            "Hi\n",
            "Hi\n",
            "Hi\n",
            "Hi\n",
            "Hi\n",
            "Hi\n",
            "Hi\n",
            "Hi\n"
          ]
        },
        {
          "output_type": "stream",
          "name": "stderr",
          "text": [
            "INFO:root:Train Epoch: 2 [38400/60000 (64%)]\tLoss: 0.348950\n"
          ]
        },
        {
          "output_type": "stream",
          "name": "stdout",
          "text": [
            "Hi\n",
            "Hi\n",
            "Hi\n",
            "Hi\n",
            "Hi\n",
            "Hi\n",
            "Hi\n",
            "Hi\n"
          ]
        },
        {
          "output_type": "stream",
          "name": "stderr",
          "text": [
            "INFO:root:Train Epoch: 2 [39040/60000 (65%)]\tLoss: 0.351523\n"
          ]
        },
        {
          "output_type": "stream",
          "name": "stdout",
          "text": [
            "Hi\n",
            "Hi\n",
            "Hi\n",
            "Hi\n",
            "Hi\n",
            "Hi\n",
            "Hi\n",
            "Hi\n",
            "Hi\n",
            "Hi\n",
            "Hi\n",
            "Hi\n"
          ]
        },
        {
          "output_type": "stream",
          "name": "stderr",
          "text": [
            "INFO:root:Train Epoch: 2 [39680/60000 (66%)]\tLoss: 0.302878\n"
          ]
        },
        {
          "output_type": "stream",
          "name": "stdout",
          "text": [
            "Hi\n",
            "Hi\n",
            "Hi\n",
            "Hi\n",
            "Hi\n",
            "Hi\n",
            "Hi\n",
            "Hi\n",
            "Hi\n"
          ]
        },
        {
          "output_type": "stream",
          "name": "stderr",
          "text": [
            "INFO:root:Train Epoch: 2 [40320/60000 (67%)]\tLoss: 0.465551\n"
          ]
        },
        {
          "output_type": "stream",
          "name": "stdout",
          "text": [
            "Hi\n",
            "Hi\n",
            "Hi\n",
            "Hi\n",
            "Hi\n",
            "Hi\n",
            "Hi\n",
            "Hi\n",
            "Hi\n"
          ]
        },
        {
          "output_type": "stream",
          "name": "stderr",
          "text": [
            "INFO:root:Train Epoch: 2 [40960/60000 (68%)]\tLoss: 0.267976\n"
          ]
        },
        {
          "output_type": "stream",
          "name": "stdout",
          "text": [
            "Hi\n",
            "Hi\n",
            "Hi\n",
            "Hi\n",
            "Hi\n",
            "Hi\n",
            "Hi\n",
            "Hi\n",
            "Hi\n",
            "Hi\n",
            "Hi\n",
            "Hi\n"
          ]
        },
        {
          "output_type": "stream",
          "name": "stderr",
          "text": [
            "INFO:root:Train Epoch: 2 [41600/60000 (69%)]\tLoss: 0.538841\n"
          ]
        },
        {
          "output_type": "stream",
          "name": "stdout",
          "text": [
            "Hi\n",
            "Hi\n",
            "Hi\n",
            "Hi\n",
            "Hi\n",
            "Hi\n",
            "Hi\n",
            "Hi\n"
          ]
        },
        {
          "output_type": "stream",
          "name": "stderr",
          "text": [
            "INFO:root:Train Epoch: 2 [42240/60000 (70%)]\tLoss: 0.348707\n"
          ]
        },
        {
          "output_type": "stream",
          "name": "stdout",
          "text": [
            "Hi\n",
            "Hi\n",
            "Hi\n",
            "Hi\n",
            "Hi\n",
            "Hi\n",
            "Hi\n",
            "Hi\n",
            "Hi\n",
            "Hi\n",
            "Hi\n",
            "Hi\n",
            "Hi\n"
          ]
        },
        {
          "output_type": "stream",
          "name": "stderr",
          "text": [
            "INFO:root:Train Epoch: 2 [42880/60000 (71%)]\tLoss: 0.420080\n"
          ]
        },
        {
          "output_type": "stream",
          "name": "stdout",
          "text": [
            "Hi\n",
            "Hi\n",
            "Hi\n",
            "Hi\n",
            "Hi\n",
            "Hi\n",
            "Hi\n",
            "Hi\n",
            "Hi\n"
          ]
        },
        {
          "output_type": "stream",
          "name": "stderr",
          "text": [
            "INFO:root:Train Epoch: 2 [43520/60000 (72%)]\tLoss: 0.435781\n"
          ]
        },
        {
          "output_type": "stream",
          "name": "stdout",
          "text": [
            "Hi\n",
            "Hi\n",
            "Hi\n",
            "Hi\n",
            "Hi\n",
            "Hi\n",
            "Hi\n",
            "Hi\n",
            "Hi\n",
            "Hi\n",
            "Hi\n"
          ]
        },
        {
          "output_type": "stream",
          "name": "stderr",
          "text": [
            "INFO:root:Train Epoch: 2 [44160/60000 (74%)]\tLoss: 0.239293\n"
          ]
        },
        {
          "output_type": "stream",
          "name": "stdout",
          "text": [
            "Hi\n",
            "Hi\n",
            "Hi\n",
            "Hi\n",
            "Hi\n",
            "Hi\n",
            "Hi\n",
            "Hi\n",
            "Hi\n"
          ]
        },
        {
          "output_type": "stream",
          "name": "stderr",
          "text": [
            "INFO:root:Train Epoch: 2 [44800/60000 (75%)]\tLoss: 0.227338\n"
          ]
        },
        {
          "output_type": "stream",
          "name": "stdout",
          "text": [
            "Hi\n",
            "Hi\n",
            "Hi\n",
            "Hi\n",
            "Hi\n",
            "Hi\n",
            "Hi\n",
            "Hi\n",
            "Hi\n"
          ]
        },
        {
          "output_type": "stream",
          "name": "stderr",
          "text": [
            "INFO:root:Train Epoch: 2 [45440/60000 (76%)]\tLoss: 0.293986\n"
          ]
        },
        {
          "output_type": "stream",
          "name": "stdout",
          "text": [
            "Hi\n",
            "Hi\n",
            "Hi\n",
            "Hi\n",
            "Hi\n",
            "Hi\n",
            "Hi\n",
            "Hi\n",
            "Hi\n",
            "Hi\n",
            "Hi\n",
            "Hi\n"
          ]
        },
        {
          "output_type": "stream",
          "name": "stderr",
          "text": [
            "INFO:root:Train Epoch: 2 [46080/60000 (77%)]\tLoss: 0.333243\n"
          ]
        },
        {
          "output_type": "stream",
          "name": "stdout",
          "text": [
            "Hi\n",
            "Hi\n",
            "Hi\n",
            "Hi\n",
            "Hi\n",
            "Hi\n",
            "Hi\n",
            "Hi\n",
            "Hi\n"
          ]
        },
        {
          "output_type": "stream",
          "name": "stderr",
          "text": [
            "INFO:root:Train Epoch: 2 [46720/60000 (78%)]\tLoss: 0.275492\n"
          ]
        },
        {
          "output_type": "stream",
          "name": "stdout",
          "text": [
            "Hi\n",
            "Hi\n",
            "Hi\n",
            "Hi\n",
            "Hi\n",
            "Hi\n",
            "Hi\n",
            "Hi\n",
            "Hi\n"
          ]
        },
        {
          "output_type": "stream",
          "name": "stderr",
          "text": [
            "INFO:root:Train Epoch: 2 [47360/60000 (79%)]\tLoss: 0.432122\n"
          ]
        },
        {
          "output_type": "stream",
          "name": "stdout",
          "text": [
            "Hi\n",
            "Hi\n",
            "Hi\n",
            "Hi\n",
            "Hi\n",
            "Hi\n",
            "Hi\n",
            "Hi\n",
            "Hi\n",
            "Hi\n",
            "Hi\n"
          ]
        },
        {
          "output_type": "stream",
          "name": "stderr",
          "text": [
            "INFO:root:Train Epoch: 2 [48000/60000 (80%)]\tLoss: 0.372028\n"
          ]
        },
        {
          "output_type": "stream",
          "name": "stdout",
          "text": [
            "Hi\n",
            "Hi\n",
            "Hi\n",
            "Hi\n",
            "Hi\n",
            "Hi\n",
            "Hi\n",
            "Hi\n",
            "Hi\n"
          ]
        },
        {
          "output_type": "stream",
          "name": "stderr",
          "text": [
            "INFO:root:Train Epoch: 2 [48640/60000 (81%)]\tLoss: 0.307506\n"
          ]
        },
        {
          "output_type": "stream",
          "name": "stdout",
          "text": [
            "Hi\n",
            "Hi\n",
            "Hi\n",
            "Hi\n",
            "Hi\n",
            "Hi\n",
            "Hi\n",
            "Hi\n",
            "Hi\n",
            "Hi\n",
            "Hi\n",
            "Hi\n"
          ]
        },
        {
          "output_type": "stream",
          "name": "stderr",
          "text": [
            "INFO:root:Train Epoch: 2 [49280/60000 (82%)]\tLoss: 0.372531\n"
          ]
        },
        {
          "output_type": "stream",
          "name": "stdout",
          "text": [
            "Hi\n",
            "Hi\n",
            "Hi\n",
            "Hi\n",
            "Hi\n",
            "Hi\n",
            "Hi\n",
            "Hi\n",
            "Hi\n"
          ]
        },
        {
          "output_type": "stream",
          "name": "stderr",
          "text": [
            "INFO:root:Train Epoch: 2 [49920/60000 (83%)]\tLoss: 0.464054\n"
          ]
        },
        {
          "output_type": "stream",
          "name": "stdout",
          "text": [
            "Hi\n",
            "Hi\n",
            "Hi\n",
            "Hi\n",
            "Hi\n",
            "Hi\n",
            "Hi\n",
            "Hi\n",
            "Hi\n"
          ]
        },
        {
          "output_type": "stream",
          "name": "stderr",
          "text": [
            "INFO:root:Train Epoch: 2 [50560/60000 (84%)]\tLoss: 0.488198\n"
          ]
        },
        {
          "output_type": "stream",
          "name": "stdout",
          "text": [
            "Hi\n",
            "Hi\n",
            "Hi\n",
            "Hi\n",
            "Hi\n",
            "Hi\n",
            "Hi\n",
            "Hi\n",
            "Hi\n",
            "Hi\n",
            "Hi\n",
            "Hi\n"
          ]
        },
        {
          "output_type": "stream",
          "name": "stderr",
          "text": [
            "INFO:root:Train Epoch: 2 [51200/60000 (85%)]\tLoss: 0.526716\n"
          ]
        },
        {
          "output_type": "stream",
          "name": "stdout",
          "text": [
            "Hi\n",
            "Hi\n",
            "Hi\n",
            "Hi\n",
            "Hi\n",
            "Hi\n",
            "Hi\n",
            "Hi\n",
            "Hi\n"
          ]
        },
        {
          "output_type": "stream",
          "name": "stderr",
          "text": [
            "INFO:root:Train Epoch: 2 [51840/60000 (86%)]\tLoss: 0.378215\n"
          ]
        },
        {
          "output_type": "stream",
          "name": "stdout",
          "text": [
            "Hi\n",
            "Hi\n",
            "Hi\n",
            "Hi\n",
            "Hi\n",
            "Hi\n",
            "Hi\n",
            "Hi\n",
            "Hi\n"
          ]
        },
        {
          "output_type": "stream",
          "name": "stderr",
          "text": [
            "INFO:root:Train Epoch: 2 [52480/60000 (87%)]\tLoss: 0.309252\n"
          ]
        },
        {
          "output_type": "stream",
          "name": "stdout",
          "text": [
            "Hi\n",
            "Hi\n",
            "Hi\n",
            "Hi\n",
            "Hi\n",
            "Hi\n",
            "Hi\n",
            "Hi\n",
            "Hi\n",
            "Hi\n",
            "Hi\n",
            "Hi\n"
          ]
        },
        {
          "output_type": "stream",
          "name": "stderr",
          "text": [
            "INFO:root:Train Epoch: 2 [53120/60000 (88%)]\tLoss: 0.459068\n"
          ]
        },
        {
          "output_type": "stream",
          "name": "stdout",
          "text": [
            "Hi\n",
            "Hi\n",
            "Hi\n",
            "Hi\n",
            "Hi\n",
            "Hi\n",
            "Hi\n",
            "Hi\n",
            "Hi\n"
          ]
        },
        {
          "output_type": "stream",
          "name": "stderr",
          "text": [
            "INFO:root:Train Epoch: 2 [53760/60000 (90%)]\tLoss: 0.348829\n"
          ]
        },
        {
          "output_type": "stream",
          "name": "stdout",
          "text": [
            "Hi\n",
            "Hi\n",
            "Hi\n",
            "Hi\n",
            "Hi\n",
            "Hi\n",
            "Hi\n",
            "Hi\n",
            "Hi\n"
          ]
        },
        {
          "output_type": "stream",
          "name": "stderr",
          "text": [
            "INFO:root:Train Epoch: 2 [54400/60000 (91%)]\tLoss: 0.379094\n"
          ]
        },
        {
          "output_type": "stream",
          "name": "stdout",
          "text": [
            "Hi\n",
            "Hi\n",
            "Hi\n",
            "Hi\n",
            "Hi\n",
            "Hi\n",
            "Hi\n",
            "Hi\n",
            "Hi\n"
          ]
        },
        {
          "output_type": "stream",
          "name": "stderr",
          "text": [
            "INFO:root:Train Epoch: 2 [55040/60000 (92%)]\tLoss: 0.224140\n"
          ]
        },
        {
          "output_type": "stream",
          "name": "stdout",
          "text": [
            "Hi\n",
            "Hi\n",
            "Hi\n",
            "Hi\n",
            "Hi\n",
            "Hi\n",
            "Hi\n",
            "Hi\n",
            "Hi\n",
            "Hi\n",
            "Hi\n",
            "Hi\n"
          ]
        },
        {
          "output_type": "stream",
          "name": "stderr",
          "text": [
            "INFO:root:Train Epoch: 2 [55680/60000 (93%)]\tLoss: 0.687134\n"
          ]
        },
        {
          "output_type": "stream",
          "name": "stdout",
          "text": [
            "Hi\n",
            "Hi\n",
            "Hi\n",
            "Hi\n",
            "Hi\n",
            "Hi\n",
            "Hi\n",
            "Hi\n",
            "Hi\n"
          ]
        },
        {
          "output_type": "stream",
          "name": "stderr",
          "text": [
            "INFO:root:Train Epoch: 2 [56320/60000 (94%)]\tLoss: 0.622802\n"
          ]
        },
        {
          "output_type": "stream",
          "name": "stdout",
          "text": [
            "Hi\n",
            "Hi\n",
            "Hi\n",
            "Hi\n",
            "Hi\n",
            "Hi\n",
            "Hi\n",
            "Hi\n",
            "Hi\n"
          ]
        },
        {
          "output_type": "stream",
          "name": "stderr",
          "text": [
            "INFO:root:Train Epoch: 2 [56960/60000 (95%)]\tLoss: 0.355137\n"
          ]
        },
        {
          "output_type": "stream",
          "name": "stdout",
          "text": [
            "Hi\n",
            "Hi\n",
            "Hi\n",
            "Hi\n",
            "Hi\n",
            "Hi\n",
            "Hi\n",
            "Hi\n",
            "Hi\n",
            "Hi\n",
            "Hi\n",
            "Hi\n"
          ]
        },
        {
          "output_type": "stream",
          "name": "stderr",
          "text": [
            "INFO:root:Train Epoch: 2 [57600/60000 (96%)]\tLoss: 0.401695\n"
          ]
        },
        {
          "output_type": "stream",
          "name": "stdout",
          "text": [
            "Hi\n",
            "Hi\n",
            "Hi\n",
            "Hi\n",
            "Hi\n",
            "Hi\n",
            "Hi\n",
            "Hi\n",
            "Hi\n"
          ]
        },
        {
          "output_type": "stream",
          "name": "stderr",
          "text": [
            "INFO:root:Train Epoch: 2 [58240/60000 (97%)]\tLoss: 0.390225\n"
          ]
        },
        {
          "output_type": "stream",
          "name": "stdout",
          "text": [
            "Hi\n",
            "Hi\n",
            "Hi\n",
            "Hi\n",
            "Hi\n",
            "Hi\n",
            "Hi\n",
            "Hi\n",
            "Hi\n"
          ]
        },
        {
          "output_type": "stream",
          "name": "stderr",
          "text": [
            "INFO:root:Train Epoch: 2 [58880/60000 (98%)]\tLoss: 0.251133\n"
          ]
        },
        {
          "output_type": "stream",
          "name": "stdout",
          "text": [
            "Hi\n",
            "Hi\n",
            "Hi\n",
            "Hi\n",
            "Hi\n",
            "Hi\n",
            "Hi\n",
            "Hi\n",
            "Hi\n",
            "Hi\n",
            "Hi\n",
            "Hi\n"
          ]
        },
        {
          "output_type": "stream",
          "name": "stderr",
          "text": [
            "INFO:root:Train Epoch: 2 [59520/60000 (99%)]\tLoss: 0.345207\n"
          ]
        },
        {
          "output_type": "stream",
          "name": "stdout",
          "text": [
            "Hi\n",
            "Hi\n",
            "Hi\n",
            "Hi\n",
            "Hi\n",
            "Hi\n",
            "Hi\n",
            "Hi\n"
          ]
        },
        {
          "output_type": "stream",
          "name": "stderr",
          "text": [
            "INFO:root:\n",
            "Test set: Average loss: 0.2284, Accuracy: 9312/10000 (93%)\n",
            "\n",
            "INFO:root:Train Epoch: 3 [0/60000 (0%)]\tLoss: 0.573801\n"
          ]
        },
        {
          "output_type": "stream",
          "name": "stdout",
          "text": [
            "Hi\n",
            "Hi\n",
            "Hi\n",
            "Hi\n",
            "Hi\n",
            "Hi\n",
            "Hi\n",
            "Hi\n",
            "Hi\n"
          ]
        },
        {
          "output_type": "stream",
          "name": "stderr",
          "text": [
            "INFO:root:Train Epoch: 3 [640/60000 (1%)]\tLoss: 0.498905\n"
          ]
        },
        {
          "output_type": "stream",
          "name": "stdout",
          "text": [
            "Hi\n",
            "Hi\n",
            "Hi\n",
            "Hi\n",
            "Hi\n",
            "Hi\n",
            "Hi\n",
            "Hi\n",
            "Hi\n"
          ]
        },
        {
          "output_type": "stream",
          "name": "stderr",
          "text": [
            "INFO:root:Train Epoch: 3 [1280/60000 (2%)]\tLoss: 0.335746\n"
          ]
        },
        {
          "output_type": "stream",
          "name": "stdout",
          "text": [
            "Hi\n",
            "Hi\n",
            "Hi\n",
            "Hi\n",
            "Hi\n",
            "Hi\n",
            "Hi\n",
            "Hi\n",
            "Hi\n",
            "Hi\n",
            "Hi\n",
            "Hi\n"
          ]
        },
        {
          "output_type": "stream",
          "name": "stderr",
          "text": [
            "INFO:root:Train Epoch: 3 [1920/60000 (3%)]\tLoss: 0.464726\n"
          ]
        },
        {
          "output_type": "stream",
          "name": "stdout",
          "text": [
            "Hi\n",
            "Hi\n",
            "Hi\n",
            "Hi\n",
            "Hi\n",
            "Hi\n",
            "Hi\n",
            "Hi\n",
            "Hi\n"
          ]
        },
        {
          "output_type": "stream",
          "name": "stderr",
          "text": [
            "INFO:root:Train Epoch: 3 [2560/60000 (4%)]\tLoss: 0.233011\n"
          ]
        },
        {
          "output_type": "stream",
          "name": "stdout",
          "text": [
            "Hi\n",
            "Hi\n",
            "Hi\n",
            "Hi\n",
            "Hi\n",
            "Hi\n",
            "Hi\n",
            "Hi\n",
            "Hi\n",
            "Hi\n",
            "Hi\n",
            "Hi\n"
          ]
        },
        {
          "output_type": "stream",
          "name": "stderr",
          "text": [
            "INFO:root:Train Epoch: 3 [3200/60000 (5%)]\tLoss: 0.346452\n"
          ]
        },
        {
          "output_type": "stream",
          "name": "stdout",
          "text": [
            "Hi\n",
            "Hi\n",
            "Hi\n",
            "Hi\n",
            "Hi\n",
            "Hi\n",
            "Hi\n",
            "Hi\n",
            "Hi\n"
          ]
        },
        {
          "output_type": "stream",
          "name": "stderr",
          "text": [
            "INFO:root:Train Epoch: 3 [3840/60000 (6%)]\tLoss: 0.457577\n"
          ]
        },
        {
          "output_type": "stream",
          "name": "stdout",
          "text": [
            "Hi\n",
            "Hi\n",
            "Hi\n",
            "Hi\n",
            "Hi\n",
            "Hi\n",
            "Hi\n",
            "Hi\n",
            "Hi\n"
          ]
        },
        {
          "output_type": "stream",
          "name": "stderr",
          "text": [
            "INFO:root:Train Epoch: 3 [4480/60000 (7%)]\tLoss: 0.372657\n"
          ]
        },
        {
          "output_type": "stream",
          "name": "stdout",
          "text": [
            "Hi\n",
            "Hi\n",
            "Hi\n",
            "Hi\n",
            "Hi\n",
            "Hi\n",
            "Hi\n",
            "Hi\n",
            "Hi\n"
          ]
        },
        {
          "output_type": "stream",
          "name": "stderr",
          "text": [
            "INFO:root:Train Epoch: 3 [5120/60000 (9%)]\tLoss: 0.476632\n"
          ]
        },
        {
          "output_type": "stream",
          "name": "stdout",
          "text": [
            "Hi\n",
            "Hi\n",
            "Hi\n",
            "Hi\n",
            "Hi\n",
            "Hi\n",
            "Hi\n",
            "Hi\n",
            "Hi\n",
            "Hi\n",
            "Hi\n",
            "Hi\n"
          ]
        },
        {
          "output_type": "stream",
          "name": "stderr",
          "text": [
            "INFO:root:Train Epoch: 3 [5760/60000 (10%)]\tLoss: 0.308386\n"
          ]
        },
        {
          "output_type": "stream",
          "name": "stdout",
          "text": [
            "Hi\n",
            "Hi\n",
            "Hi\n",
            "Hi\n",
            "Hi\n",
            "Hi\n",
            "Hi\n",
            "Hi\n",
            "Hi\n"
          ]
        },
        {
          "output_type": "stream",
          "name": "stderr",
          "text": [
            "INFO:root:Train Epoch: 3 [6400/60000 (11%)]\tLoss: 0.476733\n"
          ]
        },
        {
          "output_type": "stream",
          "name": "stdout",
          "text": [
            "Hi\n",
            "Hi\n",
            "Hi\n",
            "Hi\n",
            "Hi\n",
            "Hi\n",
            "Hi\n",
            "Hi\n",
            "Hi\n",
            "Hi\n",
            "Hi\n"
          ]
        },
        {
          "output_type": "stream",
          "name": "stderr",
          "text": [
            "INFO:root:Train Epoch: 3 [7040/60000 (12%)]\tLoss: 0.308735\n"
          ]
        },
        {
          "output_type": "stream",
          "name": "stdout",
          "text": [
            "Hi\n",
            "Hi\n",
            "Hi\n",
            "Hi\n",
            "Hi\n",
            "Hi\n",
            "Hi\n",
            "Hi\n",
            "Hi\n",
            "Hi\n"
          ]
        },
        {
          "output_type": "stream",
          "name": "stderr",
          "text": [
            "INFO:root:Train Epoch: 3 [7680/60000 (13%)]\tLoss: 0.399354\n"
          ]
        },
        {
          "output_type": "stream",
          "name": "stdout",
          "text": [
            "Hi\n",
            "Hi\n",
            "Hi\n",
            "Hi\n",
            "Hi\n",
            "Hi\n",
            "Hi\n",
            "Hi\n",
            "Hi\n"
          ]
        },
        {
          "output_type": "stream",
          "name": "stderr",
          "text": [
            "INFO:root:Train Epoch: 3 [8320/60000 (14%)]\tLoss: 0.282015\n"
          ]
        },
        {
          "output_type": "stream",
          "name": "stdout",
          "text": [
            "Hi\n",
            "Hi\n",
            "Hi\n",
            "Hi\n",
            "Hi\n",
            "Hi\n",
            "Hi\n",
            "Hi\n",
            "Hi\n",
            "Hi\n",
            "Hi\n"
          ]
        },
        {
          "output_type": "stream",
          "name": "stderr",
          "text": [
            "INFO:root:Train Epoch: 3 [8960/60000 (15%)]\tLoss: 0.236017\n"
          ]
        },
        {
          "output_type": "stream",
          "name": "stdout",
          "text": [
            "Hi\n",
            "Hi\n",
            "Hi\n",
            "Hi\n",
            "Hi\n",
            "Hi\n",
            "Hi\n",
            "Hi\n",
            "Hi\n"
          ]
        },
        {
          "output_type": "stream",
          "name": "stderr",
          "text": [
            "INFO:root:Train Epoch: 3 [9600/60000 (16%)]\tLoss: 0.488692\n"
          ]
        },
        {
          "output_type": "stream",
          "name": "stdout",
          "text": [
            "Hi\n",
            "Hi\n",
            "Hi\n",
            "Hi\n",
            "Hi\n",
            "Hi\n",
            "Hi\n",
            "Hi\n",
            "Hi\n"
          ]
        },
        {
          "output_type": "stream",
          "name": "stderr",
          "text": [
            "INFO:root:Train Epoch: 3 [10240/60000 (17%)]\tLoss: 0.351416\n"
          ]
        },
        {
          "output_type": "stream",
          "name": "stdout",
          "text": [
            "Hi\n",
            "Hi\n",
            "Hi\n",
            "Hi\n",
            "Hi\n",
            "Hi\n",
            "Hi\n",
            "Hi\n",
            "Hi\n",
            "Hi\n",
            "Hi\n",
            "Hi\n"
          ]
        },
        {
          "output_type": "stream",
          "name": "stderr",
          "text": [
            "INFO:root:Train Epoch: 3 [10880/60000 (18%)]\tLoss: 0.324372\n"
          ]
        },
        {
          "output_type": "stream",
          "name": "stdout",
          "text": [
            "Hi\n",
            "Hi\n",
            "Hi\n",
            "Hi\n",
            "Hi\n",
            "Hi\n",
            "Hi\n",
            "Hi\n",
            "Hi\n"
          ]
        },
        {
          "output_type": "stream",
          "name": "stderr",
          "text": [
            "INFO:root:Train Epoch: 3 [11520/60000 (19%)]\tLoss: 0.285168\n"
          ]
        },
        {
          "output_type": "stream",
          "name": "stdout",
          "text": [
            "Hi\n",
            "Hi\n",
            "Hi\n",
            "Hi\n",
            "Hi\n",
            "Hi\n",
            "Hi\n",
            "Hi\n",
            "Hi\n"
          ]
        },
        {
          "output_type": "stream",
          "name": "stderr",
          "text": [
            "INFO:root:Train Epoch: 3 [12160/60000 (20%)]\tLoss: 0.284126\n"
          ]
        },
        {
          "output_type": "stream",
          "name": "stdout",
          "text": [
            "Hi\n",
            "Hi\n",
            "Hi\n",
            "Hi\n",
            "Hi\n",
            "Hi\n",
            "Hi\n",
            "Hi\n",
            "Hi\n",
            "Hi\n",
            "Hi\n",
            "Hi\n"
          ]
        },
        {
          "output_type": "stream",
          "name": "stderr",
          "text": [
            "INFO:root:Train Epoch: 3 [12800/60000 (21%)]\tLoss: 0.370816\n"
          ]
        },
        {
          "output_type": "stream",
          "name": "stdout",
          "text": [
            "Hi\n",
            "Hi\n",
            "Hi\n",
            "Hi\n",
            "Hi\n",
            "Hi\n",
            "Hi\n",
            "Hi\n",
            "Hi\n"
          ]
        },
        {
          "output_type": "stream",
          "name": "stderr",
          "text": [
            "INFO:root:Train Epoch: 3 [13440/60000 (22%)]\tLoss: 0.454687\n"
          ]
        },
        {
          "output_type": "stream",
          "name": "stdout",
          "text": [
            "Hi\n",
            "Hi\n",
            "Hi\n",
            "Hi\n",
            "Hi\n",
            "Hi\n",
            "Hi\n",
            "Hi\n",
            "Hi\n"
          ]
        },
        {
          "output_type": "stream",
          "name": "stderr",
          "text": [
            "INFO:root:Train Epoch: 3 [14080/60000 (23%)]\tLoss: 0.310445\n"
          ]
        },
        {
          "output_type": "stream",
          "name": "stdout",
          "text": [
            "Hi\n",
            "Hi\n",
            "Hi\n",
            "Hi\n",
            "Hi\n",
            "Hi\n",
            "Hi\n",
            "Hi\n",
            "Hi\n",
            "Hi\n",
            "Hi\n",
            "Hi\n"
          ]
        },
        {
          "output_type": "stream",
          "name": "stderr",
          "text": [
            "INFO:root:Train Epoch: 3 [14720/60000 (25%)]\tLoss: 0.247832\n"
          ]
        },
        {
          "output_type": "stream",
          "name": "stdout",
          "text": [
            "Hi\n",
            "Hi\n",
            "Hi\n",
            "Hi\n",
            "Hi\n",
            "Hi\n",
            "Hi\n",
            "Hi\n",
            "Hi\n"
          ]
        },
        {
          "output_type": "stream",
          "name": "stderr",
          "text": [
            "INFO:root:Train Epoch: 3 [15360/60000 (26%)]\tLoss: 0.409528\n"
          ]
        },
        {
          "output_type": "stream",
          "name": "stdout",
          "text": [
            "Hi\n",
            "Hi\n",
            "Hi\n",
            "Hi\n",
            "Hi\n",
            "Hi\n",
            "Hi\n",
            "Hi\n",
            "Hi\n"
          ]
        },
        {
          "output_type": "stream",
          "name": "stderr",
          "text": [
            "INFO:root:Train Epoch: 3 [16000/60000 (27%)]\tLoss: 0.239924\n"
          ]
        },
        {
          "output_type": "stream",
          "name": "stdout",
          "text": [
            "Hi\n",
            "Hi\n",
            "Hi\n",
            "Hi\n",
            "Hi\n",
            "Hi\n",
            "Hi\n",
            "Hi\n",
            "Hi\n",
            "Hi\n",
            "Hi\n",
            "Hi\n"
          ]
        },
        {
          "output_type": "stream",
          "name": "stderr",
          "text": [
            "INFO:root:Train Epoch: 3 [16640/60000 (28%)]\tLoss: 0.375210\n"
          ]
        },
        {
          "output_type": "stream",
          "name": "stdout",
          "text": [
            "Hi\n",
            "Hi\n",
            "Hi\n",
            "Hi\n",
            "Hi\n",
            "Hi\n",
            "Hi\n",
            "Hi\n",
            "Hi\n"
          ]
        },
        {
          "output_type": "stream",
          "name": "stderr",
          "text": [
            "INFO:root:Train Epoch: 3 [17280/60000 (29%)]\tLoss: 0.250008\n"
          ]
        },
        {
          "output_type": "stream",
          "name": "stdout",
          "text": [
            "Hi\n",
            "Hi\n",
            "Hi\n",
            "Hi\n",
            "Hi\n",
            "Hi\n",
            "Hi\n",
            "Hi\n",
            "Hi\n"
          ]
        },
        {
          "output_type": "stream",
          "name": "stderr",
          "text": [
            "INFO:root:Train Epoch: 3 [17920/60000 (30%)]\tLoss: 0.187076\n"
          ]
        },
        {
          "output_type": "stream",
          "name": "stdout",
          "text": [
            "Hi\n",
            "Hi\n",
            "Hi\n",
            "Hi\n",
            "Hi\n",
            "Hi\n",
            "Hi\n",
            "Hi\n",
            "Hi\n",
            "Hi\n",
            "Hi\n",
            "Hi\n"
          ]
        },
        {
          "output_type": "stream",
          "name": "stderr",
          "text": [
            "INFO:root:Train Epoch: 3 [18560/60000 (31%)]\tLoss: 0.290299\n"
          ]
        },
        {
          "output_type": "stream",
          "name": "stdout",
          "text": [
            "Hi\n",
            "Hi\n",
            "Hi\n",
            "Hi\n",
            "Hi\n",
            "Hi\n",
            "Hi\n",
            "Hi\n",
            "Hi\n"
          ]
        },
        {
          "output_type": "stream",
          "name": "stderr",
          "text": [
            "INFO:root:Train Epoch: 3 [19200/60000 (32%)]\tLoss: 0.336219\n"
          ]
        },
        {
          "output_type": "stream",
          "name": "stdout",
          "text": [
            "Hi\n",
            "Hi\n",
            "Hi\n",
            "Hi\n",
            "Hi\n",
            "Hi\n",
            "Hi\n",
            "Hi\n",
            "Hi\n"
          ]
        },
        {
          "output_type": "stream",
          "name": "stderr",
          "text": [
            "INFO:root:Train Epoch: 3 [19840/60000 (33%)]\tLoss: 0.531896\n"
          ]
        },
        {
          "output_type": "stream",
          "name": "stdout",
          "text": [
            "Hi\n",
            "Hi\n",
            "Hi\n",
            "Hi\n",
            "Hi\n",
            "Hi\n",
            "Hi\n",
            "Hi\n",
            "Hi\n",
            "Hi\n",
            "Hi\n",
            "Hi\n"
          ]
        },
        {
          "output_type": "stream",
          "name": "stderr",
          "text": [
            "INFO:root:Train Epoch: 3 [20480/60000 (34%)]\tLoss: 0.519961\n"
          ]
        },
        {
          "output_type": "stream",
          "name": "stdout",
          "text": [
            "Hi\n",
            "Hi\n",
            "Hi\n",
            "Hi\n",
            "Hi\n",
            "Hi\n",
            "Hi\n",
            "Hi\n",
            "Hi\n"
          ]
        },
        {
          "output_type": "stream",
          "name": "stderr",
          "text": [
            "INFO:root:Train Epoch: 3 [21120/60000 (35%)]\tLoss: 0.350404\n"
          ]
        },
        {
          "output_type": "stream",
          "name": "stdout",
          "text": [
            "Hi\n",
            "Hi\n",
            "Hi\n",
            "Hi\n",
            "Hi\n",
            "Hi\n",
            "Hi\n",
            "Hi\n",
            "Hi\n"
          ]
        },
        {
          "output_type": "stream",
          "name": "stderr",
          "text": [
            "INFO:root:Train Epoch: 3 [21760/60000 (36%)]\tLoss: 0.303101\n"
          ]
        },
        {
          "output_type": "stream",
          "name": "stdout",
          "text": [
            "Hi\n",
            "Hi\n",
            "Hi\n",
            "Hi\n",
            "Hi\n",
            "Hi\n",
            "Hi\n",
            "Hi\n",
            "Hi\n",
            "Hi\n",
            "Hi\n",
            "Hi\n"
          ]
        },
        {
          "output_type": "stream",
          "name": "stderr",
          "text": [
            "INFO:root:Train Epoch: 3 [22400/60000 (37%)]\tLoss: 0.357768\n"
          ]
        },
        {
          "output_type": "stream",
          "name": "stdout",
          "text": [
            "Hi\n",
            "Hi\n",
            "Hi\n",
            "Hi\n",
            "Hi\n",
            "Hi\n",
            "Hi\n",
            "Hi\n",
            "Hi\n"
          ]
        },
        {
          "output_type": "stream",
          "name": "stderr",
          "text": [
            "INFO:root:Train Epoch: 3 [23040/60000 (38%)]\tLoss: 0.435341\n"
          ]
        },
        {
          "output_type": "stream",
          "name": "stdout",
          "text": [
            "Hi\n",
            "Hi\n",
            "Hi\n",
            "Hi\n",
            "Hi\n",
            "Hi\n",
            "Hi\n",
            "Hi\n",
            "Hi\n"
          ]
        },
        {
          "output_type": "stream",
          "name": "stderr",
          "text": [
            "INFO:root:Train Epoch: 3 [23680/60000 (39%)]\tLoss: 0.619318\n"
          ]
        },
        {
          "output_type": "stream",
          "name": "stdout",
          "text": [
            "Hi\n",
            "Hi\n",
            "Hi\n",
            "Hi\n",
            "Hi\n",
            "Hi\n",
            "Hi\n",
            "Hi\n",
            "Hi\n",
            "Hi\n",
            "Hi\n",
            "Hi\n"
          ]
        },
        {
          "output_type": "stream",
          "name": "stderr",
          "text": [
            "INFO:root:Train Epoch: 3 [24320/60000 (41%)]\tLoss: 0.319606\n"
          ]
        },
        {
          "output_type": "stream",
          "name": "stdout",
          "text": [
            "Hi\n",
            "Hi\n",
            "Hi\n",
            "Hi\n",
            "Hi\n",
            "Hi\n",
            "Hi\n",
            "Hi\n",
            "Hi\n"
          ]
        },
        {
          "output_type": "stream",
          "name": "stderr",
          "text": [
            "INFO:root:Train Epoch: 3 [24960/60000 (42%)]\tLoss: 0.285736\n"
          ]
        },
        {
          "output_type": "stream",
          "name": "stdout",
          "text": [
            "Hi\n",
            "Hi\n",
            "Hi\n",
            "Hi\n",
            "Hi\n",
            "Hi\n",
            "Hi\n",
            "Hi\n",
            "Hi\n"
          ]
        },
        {
          "output_type": "stream",
          "name": "stderr",
          "text": [
            "INFO:root:Train Epoch: 3 [25600/60000 (43%)]\tLoss: 0.304911\n"
          ]
        },
        {
          "output_type": "stream",
          "name": "stdout",
          "text": [
            "Hi\n",
            "Hi\n",
            "Hi\n",
            "Hi\n",
            "Hi\n",
            "Hi\n",
            "Hi\n",
            "Hi\n",
            "Hi\n",
            "Hi\n",
            "Hi\n",
            "Hi\n"
          ]
        },
        {
          "output_type": "stream",
          "name": "stderr",
          "text": [
            "INFO:root:Train Epoch: 3 [26240/60000 (44%)]\tLoss: 0.319035\n"
          ]
        },
        {
          "output_type": "stream",
          "name": "stdout",
          "text": [
            "Hi\n",
            "Hi\n",
            "Hi\n",
            "Hi\n",
            "Hi\n",
            "Hi\n",
            "Hi\n",
            "Hi\n",
            "Hi\n"
          ]
        },
        {
          "output_type": "stream",
          "name": "stderr",
          "text": [
            "INFO:root:Train Epoch: 3 [26880/60000 (45%)]\tLoss: 0.329236\n"
          ]
        },
        {
          "output_type": "stream",
          "name": "stdout",
          "text": [
            "Hi\n",
            "Hi\n",
            "Hi\n",
            "Hi\n",
            "Hi\n",
            "Hi\n",
            "Hi\n",
            "Hi\n",
            "Hi\n"
          ]
        },
        {
          "output_type": "stream",
          "name": "stderr",
          "text": [
            "INFO:root:Train Epoch: 3 [27520/60000 (46%)]\tLoss: 0.258301\n"
          ]
        },
        {
          "output_type": "stream",
          "name": "stdout",
          "text": [
            "Hi\n",
            "Hi\n",
            "Hi\n",
            "Hi\n",
            "Hi\n",
            "Hi\n",
            "Hi\n",
            "Hi\n",
            "Hi\n",
            "Hi\n",
            "Hi\n",
            "Hi\n"
          ]
        },
        {
          "output_type": "stream",
          "name": "stderr",
          "text": [
            "INFO:root:Train Epoch: 3 [28160/60000 (47%)]\tLoss: 0.590502\n"
          ]
        },
        {
          "output_type": "stream",
          "name": "stdout",
          "text": [
            "Hi\n",
            "Hi\n",
            "Hi\n",
            "Hi\n",
            "Hi\n",
            "Hi\n",
            "Hi\n",
            "Hi\n",
            "Hi\n"
          ]
        },
        {
          "output_type": "stream",
          "name": "stderr",
          "text": [
            "INFO:root:Train Epoch: 3 [28800/60000 (48%)]\tLoss: 0.345985\n"
          ]
        },
        {
          "output_type": "stream",
          "name": "stdout",
          "text": [
            "Hi\n",
            "Hi\n",
            "Hi\n",
            "Hi\n",
            "Hi\n",
            "Hi\n",
            "Hi\n",
            "Hi\n",
            "Hi\n",
            "Hi\n",
            "Hi\n",
            "Hi\n"
          ]
        },
        {
          "output_type": "stream",
          "name": "stderr",
          "text": [
            "INFO:root:Train Epoch: 3 [29440/60000 (49%)]\tLoss: 0.448113\n"
          ]
        },
        {
          "output_type": "stream",
          "name": "stdout",
          "text": [
            "Hi\n",
            "Hi\n",
            "Hi\n",
            "Hi\n",
            "Hi\n",
            "Hi\n",
            "Hi\n",
            "Hi\n",
            "Hi\n"
          ]
        },
        {
          "output_type": "stream",
          "name": "stderr",
          "text": [
            "INFO:root:Train Epoch: 3 [30080/60000 (50%)]\tLoss: 0.211422\n"
          ]
        },
        {
          "output_type": "stream",
          "name": "stdout",
          "text": [
            "Hi\n",
            "Hi\n",
            "Hi\n",
            "Hi\n",
            "Hi\n",
            "Hi\n",
            "Hi\n",
            "Hi\n",
            "Hi\n"
          ]
        },
        {
          "output_type": "stream",
          "name": "stderr",
          "text": [
            "INFO:root:Train Epoch: 3 [30720/60000 (51%)]\tLoss: 0.151124\n"
          ]
        },
        {
          "output_type": "stream",
          "name": "stdout",
          "text": [
            "Hi\n",
            "Hi\n",
            "Hi\n",
            "Hi\n",
            "Hi\n",
            "Hi\n",
            "Hi\n",
            "Hi\n",
            "Hi\n",
            "Hi\n",
            "Hi\n"
          ]
        },
        {
          "output_type": "stream",
          "name": "stderr",
          "text": [
            "INFO:root:Train Epoch: 3 [31360/60000 (52%)]\tLoss: 0.325324\n"
          ]
        },
        {
          "output_type": "stream",
          "name": "stdout",
          "text": [
            "Hi\n",
            "Hi\n",
            "Hi\n",
            "Hi\n",
            "Hi\n",
            "Hi\n",
            "Hi\n",
            "Hi\n",
            "Hi\n"
          ]
        },
        {
          "output_type": "stream",
          "name": "stderr",
          "text": [
            "INFO:root:Train Epoch: 3 [32000/60000 (53%)]\tLoss: 0.300419\n"
          ]
        },
        {
          "output_type": "stream",
          "name": "stdout",
          "text": [
            "Hi\n",
            "Hi\n",
            "Hi\n",
            "Hi\n",
            "Hi\n",
            "Hi\n",
            "Hi\n",
            "Hi\n",
            "Hi\n"
          ]
        },
        {
          "output_type": "stream",
          "name": "stderr",
          "text": [
            "INFO:root:Train Epoch: 3 [32640/60000 (54%)]\tLoss: 0.337070\n"
          ]
        },
        {
          "output_type": "stream",
          "name": "stdout",
          "text": [
            "Hi\n",
            "Hi\n",
            "Hi\n",
            "Hi\n",
            "Hi\n",
            "Hi\n",
            "Hi\n",
            "Hi\n",
            "Hi\n",
            "Hi\n",
            "Hi\n",
            "Hi\n"
          ]
        },
        {
          "output_type": "stream",
          "name": "stderr",
          "text": [
            "INFO:root:Train Epoch: 3 [33280/60000 (55%)]\tLoss: 0.424644\n"
          ]
        },
        {
          "output_type": "stream",
          "name": "stdout",
          "text": [
            "Hi\n",
            "Hi\n",
            "Hi\n",
            "Hi\n",
            "Hi\n",
            "Hi\n",
            "Hi\n",
            "Hi\n",
            "Hi\n"
          ]
        },
        {
          "output_type": "stream",
          "name": "stderr",
          "text": [
            "INFO:root:Train Epoch: 3 [33920/60000 (57%)]\tLoss: 0.143917\n"
          ]
        },
        {
          "output_type": "stream",
          "name": "stdout",
          "text": [
            "Hi\n",
            "Hi\n",
            "Hi\n",
            "Hi\n",
            "Hi\n",
            "Hi\n",
            "Hi\n",
            "Hi\n",
            "Hi\n",
            "Hi\n",
            "Hi\n",
            "Hi\n"
          ]
        },
        {
          "output_type": "stream",
          "name": "stderr",
          "text": [
            "INFO:root:Train Epoch: 3 [34560/60000 (58%)]\tLoss: 0.505472\n"
          ]
        },
        {
          "output_type": "stream",
          "name": "stdout",
          "text": [
            "Hi\n",
            "Hi\n",
            "Hi\n",
            "Hi\n",
            "Hi\n",
            "Hi\n",
            "Hi\n",
            "Hi\n",
            "Hi\n"
          ]
        },
        {
          "output_type": "stream",
          "name": "stderr",
          "text": [
            "INFO:root:Train Epoch: 3 [35200/60000 (59%)]\tLoss: 0.314075\n"
          ]
        },
        {
          "output_type": "stream",
          "name": "stdout",
          "text": [
            "Hi\n",
            "Hi\n",
            "Hi\n",
            "Hi\n",
            "Hi\n",
            "Hi\n",
            "Hi\n",
            "Hi\n",
            "Hi\n"
          ]
        },
        {
          "output_type": "stream",
          "name": "stderr",
          "text": [
            "INFO:root:Train Epoch: 3 [35840/60000 (60%)]\tLoss: 0.298357\n"
          ]
        },
        {
          "output_type": "stream",
          "name": "stdout",
          "text": [
            "Hi\n",
            "Hi\n",
            "Hi\n",
            "Hi\n",
            "Hi\n",
            "Hi\n",
            "Hi\n",
            "Hi\n",
            "Hi\n",
            "Hi\n",
            "Hi\n",
            "Hi\n"
          ]
        },
        {
          "output_type": "stream",
          "name": "stderr",
          "text": [
            "INFO:root:Train Epoch: 3 [36480/60000 (61%)]\tLoss: 0.370627\n"
          ]
        },
        {
          "output_type": "stream",
          "name": "stdout",
          "text": [
            "Hi\n",
            "Hi\n",
            "Hi\n",
            "Hi\n",
            "Hi\n",
            "Hi\n",
            "Hi\n",
            "Hi\n",
            "Hi\n"
          ]
        },
        {
          "output_type": "stream",
          "name": "stderr",
          "text": [
            "INFO:root:Train Epoch: 3 [37120/60000 (62%)]\tLoss: 0.463384\n"
          ]
        },
        {
          "output_type": "stream",
          "name": "stdout",
          "text": [
            "Hi\n",
            "Hi\n",
            "Hi\n",
            "Hi\n",
            "Hi\n",
            "Hi\n",
            "Hi\n",
            "Hi\n",
            "Hi\n"
          ]
        },
        {
          "output_type": "stream",
          "name": "stderr",
          "text": [
            "INFO:root:Train Epoch: 3 [37760/60000 (63%)]\tLoss: 0.289769\n"
          ]
        },
        {
          "output_type": "stream",
          "name": "stdout",
          "text": [
            "Hi\n",
            "Hi\n",
            "Hi\n",
            "Hi\n",
            "Hi\n",
            "Hi\n",
            "Hi\n",
            "Hi\n",
            "Hi\n",
            "Hi\n",
            "Hi\n",
            "Hi\n"
          ]
        },
        {
          "output_type": "stream",
          "name": "stderr",
          "text": [
            "INFO:root:Train Epoch: 3 [38400/60000 (64%)]\tLoss: 0.282512\n"
          ]
        },
        {
          "output_type": "stream",
          "name": "stdout",
          "text": [
            "Hi\n",
            "Hi\n",
            "Hi\n",
            "Hi\n",
            "Hi\n",
            "Hi\n",
            "Hi\n",
            "Hi\n"
          ]
        },
        {
          "output_type": "stream",
          "name": "stderr",
          "text": [
            "INFO:root:Train Epoch: 3 [39040/60000 (65%)]\tLoss: 0.187321\n"
          ]
        },
        {
          "output_type": "stream",
          "name": "stdout",
          "text": [
            "Hi\n",
            "Hi\n",
            "Hi\n",
            "Hi\n",
            "Hi\n",
            "Hi\n",
            "Hi\n",
            "Hi\n",
            "Hi\n"
          ]
        },
        {
          "output_type": "stream",
          "name": "stderr",
          "text": [
            "INFO:root:Train Epoch: 3 [39680/60000 (66%)]\tLoss: 0.250377\n"
          ]
        },
        {
          "output_type": "stream",
          "name": "stdout",
          "text": [
            "Hi\n",
            "Hi\n",
            "Hi\n",
            "Hi\n",
            "Hi\n",
            "Hi\n",
            "Hi\n",
            "Hi\n",
            "Hi\n",
            "Hi\n",
            "Hi\n",
            "Hi\n"
          ]
        },
        {
          "output_type": "stream",
          "name": "stderr",
          "text": [
            "INFO:root:Train Epoch: 3 [40320/60000 (67%)]\tLoss: 0.428653\n"
          ]
        },
        {
          "output_type": "stream",
          "name": "stdout",
          "text": [
            "Hi\n",
            "Hi\n",
            "Hi\n",
            "Hi\n",
            "Hi\n",
            "Hi\n",
            "Hi\n",
            "Hi\n",
            "Hi\n"
          ]
        },
        {
          "output_type": "stream",
          "name": "stderr",
          "text": [
            "INFO:root:Train Epoch: 3 [40960/60000 (68%)]\tLoss: 0.152863\n"
          ]
        },
        {
          "output_type": "stream",
          "name": "stdout",
          "text": [
            "Hi\n",
            "Hi\n",
            "Hi\n",
            "Hi\n",
            "Hi\n",
            "Hi\n",
            "Hi\n",
            "Hi\n",
            "Hi\n",
            "Hi\n",
            "Hi\n",
            "Hi\n"
          ]
        },
        {
          "output_type": "stream",
          "name": "stderr",
          "text": [
            "INFO:root:Train Epoch: 3 [41600/60000 (69%)]\tLoss: 0.525182\n"
          ]
        },
        {
          "output_type": "stream",
          "name": "stdout",
          "text": [
            "Hi\n",
            "Hi\n",
            "Hi\n",
            "Hi\n",
            "Hi\n",
            "Hi\n",
            "Hi\n",
            "Hi\n",
            "Hi\n"
          ]
        },
        {
          "output_type": "stream",
          "name": "stderr",
          "text": [
            "INFO:root:Train Epoch: 3 [42240/60000 (70%)]\tLoss: 0.246656\n"
          ]
        },
        {
          "output_type": "stream",
          "name": "stdout",
          "text": [
            "Hi\n",
            "Hi\n",
            "Hi\n",
            "Hi\n",
            "Hi\n",
            "Hi\n",
            "Hi\n",
            "Hi\n"
          ]
        },
        {
          "output_type": "stream",
          "name": "stderr",
          "text": [
            "INFO:root:Train Epoch: 3 [42880/60000 (71%)]\tLoss: 0.468055\n"
          ]
        },
        {
          "output_type": "stream",
          "name": "stdout",
          "text": [
            "Hi\n",
            "Hi\n",
            "Hi\n",
            "Hi\n",
            "Hi\n",
            "Hi\n",
            "Hi\n",
            "Hi\n",
            "Hi\n",
            "Hi\n",
            "Hi\n",
            "Hi\n"
          ]
        },
        {
          "output_type": "stream",
          "name": "stderr",
          "text": [
            "INFO:root:Train Epoch: 3 [43520/60000 (72%)]\tLoss: 0.269246\n"
          ]
        },
        {
          "output_type": "stream",
          "name": "stdout",
          "text": [
            "Hi\n",
            "Hi\n",
            "Hi\n",
            "Hi\n",
            "Hi\n",
            "Hi\n",
            "Hi\n",
            "Hi\n",
            "Hi\n"
          ]
        },
        {
          "output_type": "stream",
          "name": "stderr",
          "text": [
            "INFO:root:Train Epoch: 3 [44160/60000 (74%)]\tLoss: 0.233585\n"
          ]
        },
        {
          "output_type": "stream",
          "name": "stdout",
          "text": [
            "Hi\n",
            "Hi\n",
            "Hi\n",
            "Hi\n",
            "Hi\n",
            "Hi\n",
            "Hi\n",
            "Hi\n",
            "Hi\n"
          ]
        },
        {
          "output_type": "stream",
          "name": "stderr",
          "text": [
            "INFO:root:Train Epoch: 3 [44800/60000 (75%)]\tLoss: 0.209347\n"
          ]
        },
        {
          "output_type": "stream",
          "name": "stdout",
          "text": [
            "Hi\n",
            "Hi\n",
            "Hi\n",
            "Hi\n",
            "Hi\n",
            "Hi\n",
            "Hi\n",
            "Hi\n",
            "Hi\n",
            "Hi\n",
            "Hi\n",
            "Hi\n"
          ]
        },
        {
          "output_type": "stream",
          "name": "stderr",
          "text": [
            "INFO:root:Train Epoch: 3 [45440/60000 (76%)]\tLoss: 0.266358\n"
          ]
        },
        {
          "output_type": "stream",
          "name": "stdout",
          "text": [
            "Hi\n",
            "Hi\n",
            "Hi\n",
            "Hi\n",
            "Hi\n",
            "Hi\n",
            "Hi\n",
            "Hi\n",
            "Hi\n"
          ]
        },
        {
          "output_type": "stream",
          "name": "stderr",
          "text": [
            "INFO:root:Train Epoch: 3 [46080/60000 (77%)]\tLoss: 0.293543\n"
          ]
        },
        {
          "output_type": "stream",
          "name": "stdout",
          "text": [
            "Hi\n",
            "Hi\n",
            "Hi\n",
            "Hi\n",
            "Hi\n",
            "Hi\n",
            "Hi\n",
            "Hi\n",
            "Hi\n"
          ]
        },
        {
          "output_type": "stream",
          "name": "stderr",
          "text": [
            "INFO:root:Train Epoch: 3 [46720/60000 (78%)]\tLoss: 0.310399\n"
          ]
        },
        {
          "output_type": "stream",
          "name": "stdout",
          "text": [
            "Hi\n",
            "Hi\n",
            "Hi\n",
            "Hi\n",
            "Hi\n",
            "Hi\n",
            "Hi\n",
            "Hi\n",
            "Hi\n",
            "Hi\n"
          ]
        },
        {
          "output_type": "stream",
          "name": "stderr",
          "text": [
            "INFO:root:Train Epoch: 3 [47360/60000 (79%)]\tLoss: 0.278485\n"
          ]
        },
        {
          "output_type": "stream",
          "name": "stdout",
          "text": [
            "Hi\n",
            "Hi\n",
            "Hi\n",
            "Hi\n",
            "Hi\n",
            "Hi\n",
            "Hi\n",
            "Hi\n",
            "Hi\n",
            "Hi\n",
            "Hi\n",
            "Hi\n"
          ]
        },
        {
          "output_type": "stream",
          "name": "stderr",
          "text": [
            "INFO:root:Train Epoch: 3 [48000/60000 (80%)]\tLoss: 0.262930\n"
          ]
        },
        {
          "output_type": "stream",
          "name": "stdout",
          "text": [
            "Hi\n",
            "Hi\n",
            "Hi\n",
            "Hi\n",
            "Hi\n",
            "Hi\n",
            "Hi\n",
            "Hi\n",
            "Hi\n"
          ]
        },
        {
          "output_type": "stream",
          "name": "stderr",
          "text": [
            "INFO:root:Train Epoch: 3 [48640/60000 (81%)]\tLoss: 0.432929\n"
          ]
        },
        {
          "output_type": "stream",
          "name": "stdout",
          "text": [
            "Hi\n",
            "Hi\n",
            "Hi\n",
            "Hi\n",
            "Hi\n",
            "Hi\n",
            "Hi\n",
            "Hi\n",
            "Hi\n",
            "Hi\n"
          ]
        },
        {
          "output_type": "stream",
          "name": "stderr",
          "text": [
            "INFO:root:Train Epoch: 3 [49280/60000 (82%)]\tLoss: 0.314749\n"
          ]
        },
        {
          "output_type": "stream",
          "name": "stdout",
          "text": [
            "Hi\n",
            "Hi\n",
            "Hi\n",
            "Hi\n",
            "Hi\n",
            "Hi\n",
            "Hi\n",
            "Hi\n",
            "Hi\n"
          ]
        },
        {
          "output_type": "stream",
          "name": "stderr",
          "text": [
            "INFO:root:Train Epoch: 3 [49920/60000 (83%)]\tLoss: 0.407986\n"
          ]
        },
        {
          "output_type": "stream",
          "name": "stdout",
          "text": [
            "Hi\n",
            "Hi\n",
            "Hi\n",
            "Hi\n",
            "Hi\n",
            "Hi\n",
            "Hi\n",
            "Hi\n",
            "Hi\n",
            "Hi\n",
            "Hi\n",
            "Hi\n"
          ]
        },
        {
          "output_type": "stream",
          "name": "stderr",
          "text": [
            "INFO:root:Train Epoch: 3 [50560/60000 (84%)]\tLoss: 0.498902\n"
          ]
        },
        {
          "output_type": "stream",
          "name": "stdout",
          "text": [
            "Hi\n",
            "Hi\n",
            "Hi\n",
            "Hi\n",
            "Hi\n",
            "Hi\n",
            "Hi\n",
            "Hi\n",
            "Hi\n"
          ]
        },
        {
          "output_type": "stream",
          "name": "stderr",
          "text": [
            "INFO:root:Train Epoch: 3 [51200/60000 (85%)]\tLoss: 0.433744\n"
          ]
        },
        {
          "output_type": "stream",
          "name": "stdout",
          "text": [
            "Hi\n",
            "Hi\n",
            "Hi\n",
            "Hi\n",
            "Hi\n",
            "Hi\n",
            "Hi\n",
            "Hi\n",
            "Hi\n"
          ]
        },
        {
          "output_type": "stream",
          "name": "stderr",
          "text": [
            "INFO:root:Train Epoch: 3 [51840/60000 (86%)]\tLoss: 0.291484\n"
          ]
        },
        {
          "output_type": "stream",
          "name": "stdout",
          "text": [
            "Hi\n",
            "Hi\n",
            "Hi\n",
            "Hi\n",
            "Hi\n",
            "Hi\n",
            "Hi\n",
            "Hi\n",
            "Hi\n",
            "Hi\n",
            "Hi\n",
            "Hi\n"
          ]
        },
        {
          "output_type": "stream",
          "name": "stderr",
          "text": [
            "INFO:root:Train Epoch: 3 [52480/60000 (87%)]\tLoss: 0.239729\n"
          ]
        },
        {
          "output_type": "stream",
          "name": "stdout",
          "text": [
            "Hi\n",
            "Hi\n",
            "Hi\n",
            "Hi\n",
            "Hi\n",
            "Hi\n",
            "Hi\n",
            "Hi\n",
            "Hi\n"
          ]
        },
        {
          "output_type": "stream",
          "name": "stderr",
          "text": [
            "INFO:root:Train Epoch: 3 [53120/60000 (88%)]\tLoss: 0.461727\n"
          ]
        },
        {
          "output_type": "stream",
          "name": "stdout",
          "text": [
            "Hi\n",
            "Hi\n",
            "Hi\n",
            "Hi\n",
            "Hi\n",
            "Hi\n",
            "Hi\n",
            "Hi\n",
            "Hi\n"
          ]
        },
        {
          "output_type": "stream",
          "name": "stderr",
          "text": [
            "INFO:root:Train Epoch: 3 [53760/60000 (90%)]\tLoss: 0.326960\n"
          ]
        },
        {
          "output_type": "stream",
          "name": "stdout",
          "text": [
            "Hi\n",
            "Hi\n",
            "Hi\n",
            "Hi\n",
            "Hi\n",
            "Hi\n",
            "Hi\n",
            "Hi\n",
            "Hi\n",
            "Hi\n",
            "Hi\n",
            "Hi\n"
          ]
        },
        {
          "output_type": "stream",
          "name": "stderr",
          "text": [
            "INFO:root:Train Epoch: 3 [54400/60000 (91%)]\tLoss: 0.318699\n"
          ]
        },
        {
          "output_type": "stream",
          "name": "stdout",
          "text": [
            "Hi\n",
            "Hi\n",
            "Hi\n",
            "Hi\n",
            "Hi\n",
            "Hi\n",
            "Hi\n",
            "Hi\n",
            "Hi\n"
          ]
        },
        {
          "output_type": "stream",
          "name": "stderr",
          "text": [
            "INFO:root:Train Epoch: 3 [55040/60000 (92%)]\tLoss: 0.238854\n"
          ]
        },
        {
          "output_type": "stream",
          "name": "stdout",
          "text": [
            "Hi\n",
            "Hi\n",
            "Hi\n",
            "Hi\n",
            "Hi\n",
            "Hi\n",
            "Hi\n",
            "Hi\n",
            "Hi\n"
          ]
        },
        {
          "output_type": "stream",
          "name": "stderr",
          "text": [
            "INFO:root:Train Epoch: 3 [55680/60000 (93%)]\tLoss: 0.485442\n"
          ]
        },
        {
          "output_type": "stream",
          "name": "stdout",
          "text": [
            "Hi\n",
            "Hi\n",
            "Hi\n",
            "Hi\n",
            "Hi\n",
            "Hi\n",
            "Hi\n",
            "Hi\n",
            "Hi\n",
            "Hi\n",
            "Hi\n",
            "Hi\n"
          ]
        },
        {
          "output_type": "stream",
          "name": "stderr",
          "text": [
            "INFO:root:Train Epoch: 3 [56320/60000 (94%)]\tLoss: 0.508664\n"
          ]
        },
        {
          "output_type": "stream",
          "name": "stdout",
          "text": [
            "Hi\n",
            "Hi\n",
            "Hi\n",
            "Hi\n",
            "Hi\n",
            "Hi\n",
            "Hi\n",
            "Hi\n",
            "Hi\n"
          ]
        },
        {
          "output_type": "stream",
          "name": "stderr",
          "text": [
            "INFO:root:Train Epoch: 3 [56960/60000 (95%)]\tLoss: 0.252106\n"
          ]
        },
        {
          "output_type": "stream",
          "name": "stdout",
          "text": [
            "Hi\n",
            "Hi\n",
            "Hi\n",
            "Hi\n",
            "Hi\n",
            "Hi\n",
            "Hi\n",
            "Hi\n",
            "Hi\n"
          ]
        },
        {
          "output_type": "stream",
          "name": "stderr",
          "text": [
            "INFO:root:Train Epoch: 3 [57600/60000 (96%)]\tLoss: 0.260391\n"
          ]
        },
        {
          "output_type": "stream",
          "name": "stdout",
          "text": [
            "Hi\n",
            "Hi\n",
            "Hi\n",
            "Hi\n",
            "Hi\n",
            "Hi\n",
            "Hi\n",
            "Hi\n",
            "Hi\n",
            "Hi\n",
            "Hi\n",
            "Hi\n"
          ]
        },
        {
          "output_type": "stream",
          "name": "stderr",
          "text": [
            "INFO:root:Train Epoch: 3 [58240/60000 (97%)]\tLoss: 0.323522\n"
          ]
        },
        {
          "output_type": "stream",
          "name": "stdout",
          "text": [
            "Hi\n",
            "Hi\n",
            "Hi\n",
            "Hi\n",
            "Hi\n",
            "Hi\n",
            "Hi\n",
            "Hi\n",
            "Hi\n"
          ]
        },
        {
          "output_type": "stream",
          "name": "stderr",
          "text": [
            "INFO:root:Train Epoch: 3 [58880/60000 (98%)]\tLoss: 0.226608\n"
          ]
        },
        {
          "output_type": "stream",
          "name": "stdout",
          "text": [
            "Hi\n",
            "Hi\n",
            "Hi\n",
            "Hi\n",
            "Hi\n",
            "Hi\n",
            "Hi\n",
            "Hi\n",
            "Hi\n"
          ]
        },
        {
          "output_type": "stream",
          "name": "stderr",
          "text": [
            "INFO:root:Train Epoch: 3 [59520/60000 (99%)]\tLoss: 0.236204\n"
          ]
        },
        {
          "output_type": "stream",
          "name": "stdout",
          "text": [
            "Hi\n",
            "Hi\n",
            "Hi\n",
            "Hi\n",
            "Hi\n",
            "Hi\n",
            "Hi\n",
            "Hi\n",
            "Hi\n",
            "Hi\n"
          ]
        },
        {
          "output_type": "stream",
          "name": "stderr",
          "text": [
            "INFO:root:\n",
            "Test set: Average loss: 0.1827, Accuracy: 9426/10000 (94%)\n",
            "\n",
            "INFO:root:Train Epoch: 4 [0/60000 (0%)]\tLoss: 0.340058\n"
          ]
        },
        {
          "output_type": "stream",
          "name": "stdout",
          "text": [
            "Hi\n",
            "Hi\n",
            "Hi\n",
            "Hi\n",
            "Hi\n",
            "Hi\n",
            "Hi\n",
            "Hi\n",
            "Hi\n"
          ]
        },
        {
          "output_type": "stream",
          "name": "stderr",
          "text": [
            "INFO:root:Train Epoch: 4 [640/60000 (1%)]\tLoss: 0.389366\n"
          ]
        },
        {
          "output_type": "stream",
          "name": "stdout",
          "text": [
            "Hi\n",
            "Hi\n",
            "Hi\n",
            "Hi\n",
            "Hi\n",
            "Hi\n",
            "Hi\n",
            "Hi\n",
            "Hi\n"
          ]
        },
        {
          "output_type": "stream",
          "name": "stderr",
          "text": [
            "INFO:root:Train Epoch: 4 [1280/60000 (2%)]\tLoss: 0.244951\n"
          ]
        },
        {
          "output_type": "stream",
          "name": "stdout",
          "text": [
            "Hi\n",
            "Hi\n",
            "Hi\n",
            "Hi\n",
            "Hi\n",
            "Hi\n",
            "Hi\n",
            "Hi\n",
            "Hi\n",
            "Hi\n",
            "Hi\n",
            "Hi\n"
          ]
        },
        {
          "output_type": "stream",
          "name": "stderr",
          "text": [
            "INFO:root:Train Epoch: 4 [1920/60000 (3%)]\tLoss: 0.393664\n"
          ]
        },
        {
          "output_type": "stream",
          "name": "stdout",
          "text": [
            "Hi\n",
            "Hi\n",
            "Hi\n",
            "Hi\n",
            "Hi\n",
            "Hi\n",
            "Hi\n",
            "Hi\n",
            "Hi\n"
          ]
        },
        {
          "output_type": "stream",
          "name": "stderr",
          "text": [
            "INFO:root:Train Epoch: 4 [2560/60000 (4%)]\tLoss: 0.228158\n"
          ]
        },
        {
          "output_type": "stream",
          "name": "stdout",
          "text": [
            "Hi\n",
            "Hi\n",
            "Hi\n",
            "Hi\n",
            "Hi\n",
            "Hi\n",
            "Hi\n",
            "Hi\n",
            "Hi\n"
          ]
        },
        {
          "output_type": "stream",
          "name": "stderr",
          "text": [
            "INFO:root:Train Epoch: 4 [3200/60000 (5%)]\tLoss: 0.418956\n"
          ]
        },
        {
          "output_type": "stream",
          "name": "stdout",
          "text": [
            "Hi\n",
            "Hi\n",
            "Hi\n",
            "Hi\n",
            "Hi\n",
            "Hi\n",
            "Hi\n",
            "Hi\n",
            "Hi\n",
            "Hi\n",
            "Hi\n",
            "Hi\n"
          ]
        },
        {
          "output_type": "stream",
          "name": "stderr",
          "text": [
            "INFO:root:Train Epoch: 4 [3840/60000 (6%)]\tLoss: 0.262302\n"
          ]
        },
        {
          "output_type": "stream",
          "name": "stdout",
          "text": [
            "Hi\n",
            "Hi\n",
            "Hi\n",
            "Hi\n",
            "Hi\n",
            "Hi\n",
            "Hi\n",
            "Hi\n",
            "Hi\n"
          ]
        },
        {
          "output_type": "stream",
          "name": "stderr",
          "text": [
            "INFO:root:Train Epoch: 4 [4480/60000 (7%)]\tLoss: 0.306826\n"
          ]
        },
        {
          "output_type": "stream",
          "name": "stdout",
          "text": [
            "Hi\n",
            "Hi\n",
            "Hi\n",
            "Hi\n",
            "Hi\n",
            "Hi\n",
            "Hi\n",
            "Hi\n",
            "Hi\n"
          ]
        },
        {
          "output_type": "stream",
          "name": "stderr",
          "text": [
            "INFO:root:Train Epoch: 4 [5120/60000 (9%)]\tLoss: 0.286587\n"
          ]
        },
        {
          "output_type": "stream",
          "name": "stdout",
          "text": [
            "Hi\n",
            "Hi\n",
            "Hi\n",
            "Hi\n",
            "Hi\n",
            "Hi\n",
            "Hi\n",
            "Hi\n",
            "Hi\n",
            "Hi\n",
            "Hi\n",
            "Hi\n"
          ]
        },
        {
          "output_type": "stream",
          "name": "stderr",
          "text": [
            "INFO:root:Train Epoch: 4 [5760/60000 (10%)]\tLoss: 0.271989\n"
          ]
        },
        {
          "output_type": "stream",
          "name": "stdout",
          "text": [
            "Hi\n",
            "Hi\n",
            "Hi\n",
            "Hi\n",
            "Hi\n",
            "Hi\n",
            "Hi\n",
            "Hi\n",
            "Hi\n"
          ]
        },
        {
          "output_type": "stream",
          "name": "stderr",
          "text": [
            "INFO:root:Train Epoch: 4 [6400/60000 (11%)]\tLoss: 0.406912\n"
          ]
        },
        {
          "output_type": "stream",
          "name": "stdout",
          "text": [
            "Hi\n",
            "Hi\n",
            "Hi\n",
            "Hi\n",
            "Hi\n",
            "Hi\n",
            "Hi\n",
            "Hi\n",
            "Hi\n"
          ]
        },
        {
          "output_type": "stream",
          "name": "stderr",
          "text": [
            "INFO:root:Train Epoch: 4 [7040/60000 (12%)]\tLoss: 0.294455\n"
          ]
        },
        {
          "output_type": "stream",
          "name": "stdout",
          "text": [
            "Hi\n",
            "Hi\n",
            "Hi\n",
            "Hi\n",
            "Hi\n",
            "Hi\n",
            "Hi\n",
            "Hi\n",
            "Hi\n",
            "Hi\n",
            "Hi\n",
            "Hi\n"
          ]
        },
        {
          "output_type": "stream",
          "name": "stderr",
          "text": [
            "INFO:root:Train Epoch: 4 [7680/60000 (13%)]\tLoss: 0.276182\n"
          ]
        },
        {
          "output_type": "stream",
          "name": "stdout",
          "text": [
            "Hi\n",
            "Hi\n",
            "Hi\n",
            "Hi\n",
            "Hi\n",
            "Hi\n",
            "Hi\n",
            "Hi\n",
            "Hi\n"
          ]
        },
        {
          "output_type": "stream",
          "name": "stderr",
          "text": [
            "INFO:root:Train Epoch: 4 [8320/60000 (14%)]\tLoss: 0.264782\n"
          ]
        },
        {
          "output_type": "stream",
          "name": "stdout",
          "text": [
            "Hi\n",
            "Hi\n",
            "Hi\n",
            "Hi\n",
            "Hi\n",
            "Hi\n",
            "Hi\n",
            "Hi\n",
            "Hi\n"
          ]
        },
        {
          "output_type": "stream",
          "name": "stderr",
          "text": [
            "INFO:root:Train Epoch: 4 [8960/60000 (15%)]\tLoss: 0.238651\n"
          ]
        },
        {
          "output_type": "stream",
          "name": "stdout",
          "text": [
            "Hi\n",
            "Hi\n",
            "Hi\n",
            "Hi\n",
            "Hi\n",
            "Hi\n",
            "Hi\n",
            "Hi\n",
            "Hi\n",
            "Hi\n",
            "Hi\n",
            "Hi\n"
          ]
        },
        {
          "output_type": "stream",
          "name": "stderr",
          "text": [
            "INFO:root:Train Epoch: 4 [9600/60000 (16%)]\tLoss: 0.446209\n"
          ]
        },
        {
          "output_type": "stream",
          "name": "stdout",
          "text": [
            "Hi\n",
            "Hi\n",
            "Hi\n",
            "Hi\n",
            "Hi\n",
            "Hi\n",
            "Hi\n",
            "Hi\n",
            "Hi\n"
          ]
        },
        {
          "output_type": "stream",
          "name": "stderr",
          "text": [
            "INFO:root:Train Epoch: 4 [10240/60000 (17%)]\tLoss: 0.317472\n"
          ]
        },
        {
          "output_type": "stream",
          "name": "stdout",
          "text": [
            "Hi\n",
            "Hi\n",
            "Hi\n",
            "Hi\n",
            "Hi\n",
            "Hi\n",
            "Hi\n",
            "Hi\n",
            "Hi\n"
          ]
        },
        {
          "output_type": "stream",
          "name": "stderr",
          "text": [
            "INFO:root:Train Epoch: 4 [10880/60000 (18%)]\tLoss: 0.340040\n"
          ]
        },
        {
          "output_type": "stream",
          "name": "stdout",
          "text": [
            "Hi\n",
            "Hi\n",
            "Hi\n",
            "Hi\n",
            "Hi\n",
            "Hi\n",
            "Hi\n",
            "Hi\n",
            "Hi\n",
            "Hi\n",
            "Hi\n",
            "Hi\n"
          ]
        },
        {
          "output_type": "stream",
          "name": "stderr",
          "text": [
            "INFO:root:Train Epoch: 4 [11520/60000 (19%)]\tLoss: 0.230954\n"
          ]
        },
        {
          "output_type": "stream",
          "name": "stdout",
          "text": [
            "Hi\n",
            "Hi\n",
            "Hi\n",
            "Hi\n",
            "Hi\n",
            "Hi\n",
            "Hi\n",
            "Hi\n",
            "Hi\n"
          ]
        },
        {
          "output_type": "stream",
          "name": "stderr",
          "text": [
            "INFO:root:Train Epoch: 4 [12160/60000 (20%)]\tLoss: 0.172354\n"
          ]
        },
        {
          "output_type": "stream",
          "name": "stdout",
          "text": [
            "Hi\n",
            "Hi\n",
            "Hi\n",
            "Hi\n",
            "Hi\n",
            "Hi\n",
            "Hi\n",
            "Hi\n",
            "Hi\n"
          ]
        },
        {
          "output_type": "stream",
          "name": "stderr",
          "text": [
            "INFO:root:Train Epoch: 4 [12800/60000 (21%)]\tLoss: 0.386083\n"
          ]
        },
        {
          "output_type": "stream",
          "name": "stdout",
          "text": [
            "Hi\n",
            "Hi\n",
            "Hi\n",
            "Hi\n",
            "Hi\n",
            "Hi\n",
            "Hi\n",
            "Hi\n",
            "Hi\n",
            "Hi\n",
            "Hi\n",
            "Hi\n"
          ]
        },
        {
          "output_type": "stream",
          "name": "stderr",
          "text": [
            "INFO:root:Train Epoch: 4 [13440/60000 (22%)]\tLoss: 0.393692\n"
          ]
        },
        {
          "output_type": "stream",
          "name": "stdout",
          "text": [
            "Hi\n",
            "Hi\n",
            "Hi\n",
            "Hi\n",
            "Hi\n",
            "Hi\n",
            "Hi\n",
            "Hi\n",
            "Hi\n"
          ]
        },
        {
          "output_type": "stream",
          "name": "stderr",
          "text": [
            "INFO:root:Train Epoch: 4 [14080/60000 (23%)]\tLoss: 0.212369\n"
          ]
        },
        {
          "output_type": "stream",
          "name": "stdout",
          "text": [
            "Hi\n",
            "Hi\n",
            "Hi\n",
            "Hi\n",
            "Hi\n",
            "Hi\n",
            "Hi\n",
            "Hi\n",
            "Hi\n",
            "Hi\n",
            "Hi\n",
            "Hi\n"
          ]
        },
        {
          "output_type": "stream",
          "name": "stderr",
          "text": [
            "INFO:root:Train Epoch: 4 [14720/60000 (25%)]\tLoss: 0.239844\n"
          ]
        },
        {
          "output_type": "stream",
          "name": "stdout",
          "text": [
            "Hi\n",
            "Hi\n",
            "Hi\n",
            "Hi\n",
            "Hi\n",
            "Hi\n",
            "Hi\n",
            "Hi\n"
          ]
        },
        {
          "output_type": "stream",
          "name": "stderr",
          "text": [
            "INFO:root:Train Epoch: 4 [15360/60000 (26%)]\tLoss: 0.397526\n"
          ]
        },
        {
          "output_type": "stream",
          "name": "stdout",
          "text": [
            "Hi\n",
            "Hi\n",
            "Hi\n",
            "Hi\n",
            "Hi\n",
            "Hi\n",
            "Hi\n",
            "Hi\n",
            "Hi\n",
            "Hi\n"
          ]
        },
        {
          "output_type": "stream",
          "name": "stderr",
          "text": [
            "INFO:root:Train Epoch: 4 [16000/60000 (27%)]\tLoss: 0.221564\n"
          ]
        },
        {
          "output_type": "stream",
          "name": "stdout",
          "text": [
            "Hi\n",
            "Hi\n",
            "Hi\n",
            "Hi\n",
            "Hi\n",
            "Hi\n",
            "Hi\n",
            "Hi\n",
            "Hi\n"
          ]
        },
        {
          "output_type": "stream",
          "name": "stderr",
          "text": [
            "INFO:root:Train Epoch: 4 [16640/60000 (28%)]\tLoss: 0.305662\n"
          ]
        },
        {
          "output_type": "stream",
          "name": "stdout",
          "text": [
            "Hi\n",
            "Hi\n",
            "Hi\n",
            "Hi\n",
            "Hi\n",
            "Hi\n",
            "Hi\n",
            "Hi\n",
            "Hi\n",
            "Hi\n",
            "Hi\n",
            "Hi\n"
          ]
        },
        {
          "output_type": "stream",
          "name": "stderr",
          "text": [
            "INFO:root:Train Epoch: 4 [17280/60000 (29%)]\tLoss: 0.278791\n"
          ]
        },
        {
          "output_type": "stream",
          "name": "stdout",
          "text": [
            "Hi\n",
            "Hi\n",
            "Hi\n",
            "Hi\n",
            "Hi\n",
            "Hi\n",
            "Hi\n",
            "Hi\n",
            "Hi\n"
          ]
        },
        {
          "output_type": "stream",
          "name": "stderr",
          "text": [
            "INFO:root:Train Epoch: 4 [17920/60000 (30%)]\tLoss: 0.200086\n"
          ]
        },
        {
          "output_type": "stream",
          "name": "stdout",
          "text": [
            "Hi\n",
            "Hi\n",
            "Hi\n",
            "Hi\n",
            "Hi\n",
            "Hi\n",
            "Hi\n",
            "Hi\n",
            "Hi\n"
          ]
        },
        {
          "output_type": "stream",
          "name": "stderr",
          "text": [
            "INFO:root:Train Epoch: 4 [18560/60000 (31%)]\tLoss: 0.341216\n"
          ]
        },
        {
          "output_type": "stream",
          "name": "stdout",
          "text": [
            "Hi\n",
            "Hi\n",
            "Hi\n",
            "Hi\n",
            "Hi\n",
            "Hi\n",
            "Hi\n",
            "Hi\n",
            "Hi\n",
            "Hi\n",
            "Hi\n",
            "Hi\n"
          ]
        },
        {
          "output_type": "stream",
          "name": "stderr",
          "text": [
            "INFO:root:Train Epoch: 4 [19200/60000 (32%)]\tLoss: 0.361087\n"
          ]
        },
        {
          "output_type": "stream",
          "name": "stdout",
          "text": [
            "Hi\n",
            "Hi\n",
            "Hi\n",
            "Hi\n",
            "Hi\n",
            "Hi\n",
            "Hi\n",
            "Hi\n",
            "Hi\n"
          ]
        },
        {
          "output_type": "stream",
          "name": "stderr",
          "text": [
            "INFO:root:Train Epoch: 4 [19840/60000 (33%)]\tLoss: 0.510672\n"
          ]
        },
        {
          "output_type": "stream",
          "name": "stdout",
          "text": [
            "Hi\n",
            "Hi\n",
            "Hi\n",
            "Hi\n",
            "Hi\n",
            "Hi\n",
            "Hi\n",
            "Hi\n",
            "Hi\n"
          ]
        },
        {
          "output_type": "stream",
          "name": "stderr",
          "text": [
            "INFO:root:Train Epoch: 4 [20480/60000 (34%)]\tLoss: 0.385101\n"
          ]
        },
        {
          "output_type": "stream",
          "name": "stdout",
          "text": [
            "Hi\n",
            "Hi\n",
            "Hi\n",
            "Hi\n",
            "Hi\n",
            "Hi\n",
            "Hi\n",
            "Hi\n",
            "Hi\n",
            "Hi\n",
            "Hi\n",
            "Hi\n"
          ]
        },
        {
          "output_type": "stream",
          "name": "stderr",
          "text": [
            "INFO:root:Train Epoch: 4 [21120/60000 (35%)]\tLoss: 0.254729\n"
          ]
        },
        {
          "output_type": "stream",
          "name": "stdout",
          "text": [
            "Hi\n",
            "Hi\n",
            "Hi\n",
            "Hi\n",
            "Hi\n",
            "Hi\n",
            "Hi\n",
            "Hi\n",
            "Hi\n"
          ]
        },
        {
          "output_type": "stream",
          "name": "stderr",
          "text": [
            "INFO:root:Train Epoch: 4 [21760/60000 (36%)]\tLoss: 0.193767\n"
          ]
        },
        {
          "output_type": "stream",
          "name": "stdout",
          "text": [
            "Hi\n",
            "Hi\n",
            "Hi\n",
            "Hi\n",
            "Hi\n",
            "Hi\n",
            "Hi\n",
            "Hi\n",
            "Hi\n"
          ]
        },
        {
          "output_type": "stream",
          "name": "stderr",
          "text": [
            "INFO:root:Train Epoch: 4 [22400/60000 (37%)]\tLoss: 0.370141\n"
          ]
        },
        {
          "output_type": "stream",
          "name": "stdout",
          "text": [
            "Hi\n",
            "Hi\n",
            "Hi\n",
            "Hi\n",
            "Hi\n",
            "Hi\n",
            "Hi\n",
            "Hi\n",
            "Hi\n",
            "Hi\n",
            "Hi\n",
            "Hi\n"
          ]
        },
        {
          "output_type": "stream",
          "name": "stderr",
          "text": [
            "INFO:root:Train Epoch: 4 [23040/60000 (38%)]\tLoss: 0.293725\n"
          ]
        },
        {
          "output_type": "stream",
          "name": "stdout",
          "text": [
            "Hi\n",
            "Hi\n",
            "Hi\n",
            "Hi\n",
            "Hi\n",
            "Hi\n",
            "Hi\n",
            "Hi\n"
          ]
        },
        {
          "output_type": "stream",
          "name": "stderr",
          "text": [
            "INFO:root:Train Epoch: 4 [23680/60000 (39%)]\tLoss: 0.371705\n"
          ]
        },
        {
          "output_type": "stream",
          "name": "stdout",
          "text": [
            "Hi\n",
            "Hi\n",
            "Hi\n",
            "Hi\n",
            "Hi\n",
            "Hi\n",
            "Hi\n",
            "Hi\n",
            "Hi\n",
            "Hi\n",
            "Hi\n",
            "Hi\n"
          ]
        },
        {
          "output_type": "stream",
          "name": "stderr",
          "text": [
            "INFO:root:Train Epoch: 4 [24320/60000 (41%)]\tLoss: 0.234374\n"
          ]
        },
        {
          "output_type": "stream",
          "name": "stdout",
          "text": [
            "Hi\n",
            "Hi\n",
            "Hi\n",
            "Hi\n",
            "Hi\n",
            "Hi\n",
            "Hi\n",
            "Hi\n",
            "Hi\n"
          ]
        },
        {
          "output_type": "stream",
          "name": "stderr",
          "text": [
            "INFO:root:Train Epoch: 4 [24960/60000 (42%)]\tLoss: 0.295957\n"
          ]
        },
        {
          "output_type": "stream",
          "name": "stdout",
          "text": [
            "Hi\n",
            "Hi\n",
            "Hi\n",
            "Hi\n",
            "Hi\n",
            "Hi\n",
            "Hi\n",
            "Hi\n",
            "Hi\n"
          ]
        },
        {
          "output_type": "stream",
          "name": "stderr",
          "text": [
            "INFO:root:Train Epoch: 4 [25600/60000 (43%)]\tLoss: 0.247378\n"
          ]
        },
        {
          "output_type": "stream",
          "name": "stdout",
          "text": [
            "Hi\n",
            "Hi\n",
            "Hi\n",
            "Hi\n",
            "Hi\n",
            "Hi\n",
            "Hi\n",
            "Hi\n",
            "Hi\n",
            "Hi\n",
            "Hi\n",
            "Hi\n"
          ]
        },
        {
          "output_type": "stream",
          "name": "stderr",
          "text": [
            "INFO:root:Train Epoch: 4 [26240/60000 (44%)]\tLoss: 0.369608\n"
          ]
        },
        {
          "output_type": "stream",
          "name": "stdout",
          "text": [
            "Hi\n",
            "Hi\n",
            "Hi\n",
            "Hi\n",
            "Hi\n",
            "Hi\n",
            "Hi\n",
            "Hi\n",
            "Hi\n"
          ]
        },
        {
          "output_type": "stream",
          "name": "stderr",
          "text": [
            "INFO:root:Train Epoch: 4 [26880/60000 (45%)]\tLoss: 0.223954\n"
          ]
        },
        {
          "output_type": "stream",
          "name": "stdout",
          "text": [
            "Hi\n",
            "Hi\n",
            "Hi\n",
            "Hi\n",
            "Hi\n",
            "Hi\n",
            "Hi\n",
            "Hi\n",
            "Hi\n"
          ]
        },
        {
          "output_type": "stream",
          "name": "stderr",
          "text": [
            "INFO:root:Train Epoch: 4 [27520/60000 (46%)]\tLoss: 0.259745\n"
          ]
        },
        {
          "output_type": "stream",
          "name": "stdout",
          "text": [
            "Hi\n",
            "Hi\n",
            "Hi\n",
            "Hi\n",
            "Hi\n",
            "Hi\n",
            "Hi\n",
            "Hi\n",
            "Hi\n",
            "Hi\n",
            "Hi\n",
            "Hi\n"
          ]
        },
        {
          "output_type": "stream",
          "name": "stderr",
          "text": [
            "INFO:root:Train Epoch: 4 [28160/60000 (47%)]\tLoss: 0.508017\n"
          ]
        },
        {
          "output_type": "stream",
          "name": "stdout",
          "text": [
            "Hi\n",
            "Hi\n",
            "Hi\n",
            "Hi\n",
            "Hi\n",
            "Hi\n",
            "Hi\n",
            "Hi\n",
            "Hi\n"
          ]
        },
        {
          "output_type": "stream",
          "name": "stderr",
          "text": [
            "INFO:root:Train Epoch: 4 [28800/60000 (48%)]\tLoss: 0.273889\n"
          ]
        },
        {
          "output_type": "stream",
          "name": "stdout",
          "text": [
            "Hi\n",
            "Hi\n",
            "Hi\n",
            "Hi\n",
            "Hi\n",
            "Hi\n",
            "Hi\n",
            "Hi\n",
            "Hi\n"
          ]
        },
        {
          "output_type": "stream",
          "name": "stderr",
          "text": [
            "INFO:root:Train Epoch: 4 [29440/60000 (49%)]\tLoss: 0.324328\n"
          ]
        },
        {
          "output_type": "stream",
          "name": "stdout",
          "text": [
            "Hi\n",
            "Hi\n",
            "Hi\n",
            "Hi\n",
            "Hi\n",
            "Hi\n",
            "Hi\n",
            "Hi\n",
            "Hi\n",
            "Hi\n",
            "Hi\n",
            "Hi\n"
          ]
        },
        {
          "output_type": "stream",
          "name": "stderr",
          "text": [
            "INFO:root:Train Epoch: 4 [30080/60000 (50%)]\tLoss: 0.221688\n"
          ]
        },
        {
          "output_type": "stream",
          "name": "stdout",
          "text": [
            "Hi\n",
            "Hi\n",
            "Hi\n",
            "Hi\n",
            "Hi\n",
            "Hi\n",
            "Hi\n",
            "Hi\n",
            "Hi\n"
          ]
        },
        {
          "output_type": "stream",
          "name": "stderr",
          "text": [
            "INFO:root:Train Epoch: 4 [30720/60000 (51%)]\tLoss: 0.153806\n"
          ]
        },
        {
          "output_type": "stream",
          "name": "stdout",
          "text": [
            "Hi\n",
            "Hi\n",
            "Hi\n",
            "Hi\n",
            "Hi\n",
            "Hi\n",
            "Hi\n",
            "Hi\n",
            "Hi\n"
          ]
        },
        {
          "output_type": "stream",
          "name": "stderr",
          "text": [
            "INFO:root:Train Epoch: 4 [31360/60000 (52%)]\tLoss: 0.247882\n"
          ]
        },
        {
          "output_type": "stream",
          "name": "stdout",
          "text": [
            "Hi\n",
            "Hi\n",
            "Hi\n",
            "Hi\n",
            "Hi\n",
            "Hi\n",
            "Hi\n",
            "Hi\n",
            "Hi\n",
            "Hi\n",
            "Hi\n",
            "Hi\n"
          ]
        },
        {
          "output_type": "stream",
          "name": "stderr",
          "text": [
            "INFO:root:Train Epoch: 4 [32000/60000 (53%)]\tLoss: 0.235073\n"
          ]
        },
        {
          "output_type": "stream",
          "name": "stdout",
          "text": [
            "Hi\n",
            "Hi\n",
            "Hi\n",
            "Hi\n",
            "Hi\n",
            "Hi\n",
            "Hi\n",
            "Hi\n",
            "Hi\n"
          ]
        },
        {
          "output_type": "stream",
          "name": "stderr",
          "text": [
            "INFO:root:Train Epoch: 4 [32640/60000 (54%)]\tLoss: 0.280381\n"
          ]
        },
        {
          "output_type": "stream",
          "name": "stdout",
          "text": [
            "Hi\n",
            "Hi\n",
            "Hi\n",
            "Hi\n",
            "Hi\n",
            "Hi\n",
            "Hi\n",
            "Hi\n",
            "Hi\n"
          ]
        },
        {
          "output_type": "stream",
          "name": "stderr",
          "text": [
            "INFO:root:Train Epoch: 4 [33280/60000 (55%)]\tLoss: 0.487971\n"
          ]
        },
        {
          "output_type": "stream",
          "name": "stdout",
          "text": [
            "Hi\n",
            "Hi\n",
            "Hi\n",
            "Hi\n",
            "Hi\n",
            "Hi\n",
            "Hi\n",
            "Hi\n",
            "Hi\n",
            "Hi\n",
            "Hi\n",
            "Hi\n"
          ]
        },
        {
          "output_type": "stream",
          "name": "stderr",
          "text": [
            "INFO:root:Train Epoch: 4 [33920/60000 (57%)]\tLoss: 0.171027\n"
          ]
        },
        {
          "output_type": "stream",
          "name": "stdout",
          "text": [
            "Hi\n",
            "Hi\n",
            "Hi\n",
            "Hi\n",
            "Hi\n",
            "Hi\n",
            "Hi\n",
            "Hi\n",
            "Hi\n"
          ]
        },
        {
          "output_type": "stream",
          "name": "stderr",
          "text": [
            "INFO:root:Train Epoch: 4 [34560/60000 (58%)]\tLoss: 0.410374\n"
          ]
        },
        {
          "output_type": "stream",
          "name": "stdout",
          "text": [
            "Hi\n",
            "Hi\n",
            "Hi\n",
            "Hi\n",
            "Hi\n",
            "Hi\n",
            "Hi\n",
            "Hi\n",
            "Hi\n"
          ]
        },
        {
          "output_type": "stream",
          "name": "stderr",
          "text": [
            "INFO:root:Train Epoch: 4 [35200/60000 (59%)]\tLoss: 0.272494\n"
          ]
        },
        {
          "output_type": "stream",
          "name": "stdout",
          "text": [
            "Hi\n",
            "Hi\n",
            "Hi\n",
            "Hi\n",
            "Hi\n",
            "Hi\n",
            "Hi\n",
            "Hi\n",
            "Hi\n",
            "Hi\n",
            "Hi\n",
            "Hi\n"
          ]
        },
        {
          "output_type": "stream",
          "name": "stderr",
          "text": [
            "INFO:root:Train Epoch: 4 [35840/60000 (60%)]\tLoss: 0.370514\n"
          ]
        },
        {
          "output_type": "stream",
          "name": "stdout",
          "text": [
            "Hi\n",
            "Hi\n",
            "Hi\n",
            "Hi\n",
            "Hi\n",
            "Hi\n",
            "Hi\n",
            "Hi\n",
            "Hi\n"
          ]
        },
        {
          "output_type": "stream",
          "name": "stderr",
          "text": [
            "INFO:root:Train Epoch: 4 [36480/60000 (61%)]\tLoss: 0.308894\n"
          ]
        },
        {
          "output_type": "stream",
          "name": "stdout",
          "text": [
            "Hi\n",
            "Hi\n",
            "Hi\n",
            "Hi\n",
            "Hi\n",
            "Hi\n",
            "Hi\n",
            "Hi\n",
            "Hi\n",
            "Hi\n",
            "Hi\n"
          ]
        },
        {
          "output_type": "stream",
          "name": "stderr",
          "text": [
            "INFO:root:Train Epoch: 4 [37120/60000 (62%)]\tLoss: 0.332982\n"
          ]
        },
        {
          "output_type": "stream",
          "name": "stdout",
          "text": [
            "Hi\n",
            "Hi\n",
            "Hi\n",
            "Hi\n",
            "Hi\n",
            "Hi\n",
            "Hi\n",
            "Hi\n",
            "Hi\n",
            "Hi\n"
          ]
        },
        {
          "output_type": "stream",
          "name": "stderr",
          "text": [
            "INFO:root:Train Epoch: 4 [37760/60000 (63%)]\tLoss: 0.264825\n"
          ]
        },
        {
          "output_type": "stream",
          "name": "stdout",
          "text": [
            "Hi\n",
            "Hi\n",
            "Hi\n",
            "Hi\n",
            "Hi\n",
            "Hi\n",
            "Hi\n",
            "Hi\n",
            "Hi\n",
            "Hi\n"
          ]
        },
        {
          "output_type": "stream",
          "name": "stderr",
          "text": [
            "INFO:root:Train Epoch: 4 [38400/60000 (64%)]\tLoss: 0.306118\n"
          ]
        },
        {
          "output_type": "stream",
          "name": "stdout",
          "text": [
            "Hi\n",
            "Hi\n",
            "Hi\n",
            "Hi\n",
            "Hi\n",
            "Hi\n",
            "Hi\n",
            "Hi\n",
            "Hi\n"
          ]
        },
        {
          "output_type": "stream",
          "name": "stderr",
          "text": [
            "INFO:root:Train Epoch: 4 [39040/60000 (65%)]\tLoss: 0.260721\n"
          ]
        },
        {
          "output_type": "stream",
          "name": "stdout",
          "text": [
            "Hi\n",
            "Hi\n",
            "Hi\n",
            "Hi\n",
            "Hi\n",
            "Hi\n",
            "Hi\n",
            "Hi\n",
            "Hi\n"
          ]
        },
        {
          "output_type": "stream",
          "name": "stderr",
          "text": [
            "INFO:root:Train Epoch: 4 [39680/60000 (66%)]\tLoss: 0.178521\n"
          ]
        },
        {
          "output_type": "stream",
          "name": "stdout",
          "text": [
            "Hi\n",
            "Hi\n",
            "Hi\n",
            "Hi\n",
            "Hi\n",
            "Hi\n",
            "Hi\n",
            "Hi\n",
            "Hi\n",
            "Hi\n",
            "Hi\n",
            "Hi\n"
          ]
        },
        {
          "output_type": "stream",
          "name": "stderr",
          "text": [
            "INFO:root:Train Epoch: 4 [40320/60000 (67%)]\tLoss: 0.593960\n"
          ]
        },
        {
          "output_type": "stream",
          "name": "stdout",
          "text": [
            "Hi\n",
            "Hi\n",
            "Hi\n",
            "Hi\n",
            "Hi\n",
            "Hi\n",
            "Hi\n",
            "Hi\n",
            "Hi\n"
          ]
        },
        {
          "output_type": "stream",
          "name": "stderr",
          "text": [
            "INFO:root:Train Epoch: 4 [40960/60000 (68%)]\tLoss: 0.211032\n"
          ]
        },
        {
          "output_type": "stream",
          "name": "stdout",
          "text": [
            "Hi\n",
            "Hi\n",
            "Hi\n",
            "Hi\n",
            "Hi\n",
            "Hi\n",
            "Hi\n",
            "Hi\n",
            "Hi\n"
          ]
        },
        {
          "output_type": "stream",
          "name": "stderr",
          "text": [
            "INFO:root:Train Epoch: 4 [41600/60000 (69%)]\tLoss: 0.429678\n"
          ]
        },
        {
          "output_type": "stream",
          "name": "stdout",
          "text": [
            "Hi\n",
            "Hi\n",
            "Hi\n",
            "Hi\n",
            "Hi\n",
            "Hi\n",
            "Hi\n",
            "Hi\n",
            "Hi\n",
            "Hi\n",
            "Hi\n",
            "Hi\n"
          ]
        },
        {
          "output_type": "stream",
          "name": "stderr",
          "text": [
            "INFO:root:Train Epoch: 4 [42240/60000 (70%)]\tLoss: 0.296034\n"
          ]
        },
        {
          "output_type": "stream",
          "name": "stdout",
          "text": [
            "Hi\n",
            "Hi\n",
            "Hi\n",
            "Hi\n",
            "Hi\n",
            "Hi\n",
            "Hi\n",
            "Hi\n",
            "Hi\n"
          ]
        },
        {
          "output_type": "stream",
          "name": "stderr",
          "text": [
            "INFO:root:Train Epoch: 4 [42880/60000 (71%)]\tLoss: 0.326732\n"
          ]
        },
        {
          "output_type": "stream",
          "name": "stdout",
          "text": [
            "Hi\n",
            "Hi\n",
            "Hi\n",
            "Hi\n",
            "Hi\n",
            "Hi\n",
            "Hi\n",
            "Hi\n",
            "Hi\n"
          ]
        },
        {
          "output_type": "stream",
          "name": "stderr",
          "text": [
            "INFO:root:Train Epoch: 4 [43520/60000 (72%)]\tLoss: 0.400522\n"
          ]
        },
        {
          "output_type": "stream",
          "name": "stdout",
          "text": [
            "Hi\n",
            "Hi\n",
            "Hi\n",
            "Hi\n",
            "Hi\n",
            "Hi\n",
            "Hi\n",
            "Hi\n",
            "Hi\n",
            "Hi\n",
            "Hi\n",
            "Hi\n"
          ]
        },
        {
          "output_type": "stream",
          "name": "stderr",
          "text": [
            "INFO:root:Train Epoch: 4 [44160/60000 (74%)]\tLoss: 0.160362\n"
          ]
        },
        {
          "output_type": "stream",
          "name": "stdout",
          "text": [
            "Hi\n",
            "Hi\n",
            "Hi\n",
            "Hi\n",
            "Hi\n",
            "Hi\n",
            "Hi\n",
            "Hi\n",
            "Hi\n"
          ]
        },
        {
          "output_type": "stream",
          "name": "stderr",
          "text": [
            "INFO:root:Train Epoch: 4 [44800/60000 (75%)]\tLoss: 0.228104\n"
          ]
        },
        {
          "output_type": "stream",
          "name": "stdout",
          "text": [
            "Hi\n",
            "Hi\n",
            "Hi\n",
            "Hi\n",
            "Hi\n",
            "Hi\n",
            "Hi\n",
            "Hi\n",
            "Hi\n"
          ]
        },
        {
          "output_type": "stream",
          "name": "stderr",
          "text": [
            "INFO:root:Train Epoch: 4 [45440/60000 (76%)]\tLoss: 0.183730\n"
          ]
        },
        {
          "output_type": "stream",
          "name": "stdout",
          "text": [
            "Hi\n",
            "Hi\n",
            "Hi\n",
            "Hi\n",
            "Hi\n",
            "Hi\n",
            "Hi\n",
            "Hi\n",
            "Hi\n",
            "Hi\n",
            "Hi\n",
            "Hi\n"
          ]
        },
        {
          "output_type": "stream",
          "name": "stderr",
          "text": [
            "INFO:root:Train Epoch: 4 [46080/60000 (77%)]\tLoss: 0.330979\n"
          ]
        },
        {
          "output_type": "stream",
          "name": "stdout",
          "text": [
            "Hi\n",
            "Hi\n",
            "Hi\n",
            "Hi\n",
            "Hi\n",
            "Hi\n",
            "Hi\n",
            "Hi\n",
            "Hi\n"
          ]
        },
        {
          "output_type": "stream",
          "name": "stderr",
          "text": [
            "INFO:root:Train Epoch: 4 [46720/60000 (78%)]\tLoss: 0.167385\n"
          ]
        },
        {
          "output_type": "stream",
          "name": "stdout",
          "text": [
            "Hi\n",
            "Hi\n",
            "Hi\n",
            "Hi\n",
            "Hi\n",
            "Hi\n",
            "Hi\n",
            "Hi\n",
            "Hi\n"
          ]
        },
        {
          "output_type": "stream",
          "name": "stderr",
          "text": [
            "INFO:root:Train Epoch: 4 [47360/60000 (79%)]\tLoss: 0.371647\n"
          ]
        },
        {
          "output_type": "stream",
          "name": "stdout",
          "text": [
            "Hi\n",
            "Hi\n",
            "Hi\n",
            "Hi\n",
            "Hi\n",
            "Hi\n",
            "Hi\n",
            "Hi\n",
            "Hi\n",
            "Hi\n",
            "Hi\n",
            "Hi\n"
          ]
        },
        {
          "output_type": "stream",
          "name": "stderr",
          "text": [
            "INFO:root:Train Epoch: 4 [48000/60000 (80%)]\tLoss: 0.278244\n"
          ]
        },
        {
          "output_type": "stream",
          "name": "stdout",
          "text": [
            "Hi\n",
            "Hi\n",
            "Hi\n",
            "Hi\n",
            "Hi\n",
            "Hi\n",
            "Hi\n",
            "Hi\n",
            "Hi\n"
          ]
        },
        {
          "output_type": "stream",
          "name": "stderr",
          "text": [
            "INFO:root:Train Epoch: 4 [48640/60000 (81%)]\tLoss: 0.200952\n"
          ]
        },
        {
          "output_type": "stream",
          "name": "stdout",
          "text": [
            "Hi\n",
            "Hi\n",
            "Hi\n",
            "Hi\n",
            "Hi\n",
            "Hi\n",
            "Hi\n",
            "Hi\n",
            "Hi\n"
          ]
        },
        {
          "output_type": "stream",
          "name": "stderr",
          "text": [
            "INFO:root:Train Epoch: 4 [49280/60000 (82%)]\tLoss: 0.309974\n"
          ]
        },
        {
          "output_type": "stream",
          "name": "stdout",
          "text": [
            "Hi\n",
            "Hi\n",
            "Hi\n",
            "Hi\n",
            "Hi\n",
            "Hi\n",
            "Hi\n",
            "Hi\n",
            "Hi\n",
            "Hi\n",
            "Hi\n",
            "Hi\n"
          ]
        },
        {
          "output_type": "stream",
          "name": "stderr",
          "text": [
            "INFO:root:Train Epoch: 4 [49920/60000 (83%)]\tLoss: 0.302936\n"
          ]
        },
        {
          "output_type": "stream",
          "name": "stdout",
          "text": [
            "Hi\n",
            "Hi\n",
            "Hi\n",
            "Hi\n",
            "Hi\n",
            "Hi\n",
            "Hi\n",
            "Hi\n",
            "Hi\n"
          ]
        },
        {
          "output_type": "stream",
          "name": "stderr",
          "text": [
            "INFO:root:Train Epoch: 4 [50560/60000 (84%)]\tLoss: 0.331959\n"
          ]
        },
        {
          "output_type": "stream",
          "name": "stdout",
          "text": [
            "Hi\n",
            "Hi\n",
            "Hi\n",
            "Hi\n",
            "Hi\n",
            "Hi\n",
            "Hi\n",
            "Hi\n",
            "Hi\n"
          ]
        },
        {
          "output_type": "stream",
          "name": "stderr",
          "text": [
            "INFO:root:Train Epoch: 4 [51200/60000 (85%)]\tLoss: 0.371346\n"
          ]
        },
        {
          "output_type": "stream",
          "name": "stdout",
          "text": [
            "Hi\n",
            "Hi\n",
            "Hi\n",
            "Hi\n",
            "Hi\n",
            "Hi\n",
            "Hi\n",
            "Hi\n",
            "Hi\n",
            "Hi\n",
            "Hi\n",
            "Hi\n"
          ]
        },
        {
          "output_type": "stream",
          "name": "stderr",
          "text": [
            "INFO:root:Train Epoch: 4 [51840/60000 (86%)]\tLoss: 0.289097\n"
          ]
        },
        {
          "output_type": "stream",
          "name": "stdout",
          "text": [
            "Hi\n",
            "Hi\n",
            "Hi\n",
            "Hi\n",
            "Hi\n",
            "Hi\n",
            "Hi\n",
            "Hi\n",
            "Hi\n"
          ]
        },
        {
          "output_type": "stream",
          "name": "stderr",
          "text": [
            "INFO:root:Train Epoch: 4 [52480/60000 (87%)]\tLoss: 0.214039\n"
          ]
        },
        {
          "output_type": "stream",
          "name": "stdout",
          "text": [
            "Hi\n",
            "Hi\n",
            "Hi\n",
            "Hi\n",
            "Hi\n",
            "Hi\n",
            "Hi\n",
            "Hi\n",
            "Hi\n"
          ]
        },
        {
          "output_type": "stream",
          "name": "stderr",
          "text": [
            "INFO:root:Train Epoch: 4 [53120/60000 (88%)]\tLoss: 0.371291\n"
          ]
        },
        {
          "output_type": "stream",
          "name": "stdout",
          "text": [
            "Hi\n",
            "Hi\n",
            "Hi\n",
            "Hi\n",
            "Hi\n",
            "Hi\n",
            "Hi\n",
            "Hi\n",
            "Hi\n",
            "Hi\n",
            "Hi\n",
            "Hi\n"
          ]
        },
        {
          "output_type": "stream",
          "name": "stderr",
          "text": [
            "INFO:root:Train Epoch: 4 [53760/60000 (90%)]\tLoss: 0.292199\n"
          ]
        },
        {
          "output_type": "stream",
          "name": "stdout",
          "text": [
            "Hi\n",
            "Hi\n",
            "Hi\n",
            "Hi\n",
            "Hi\n",
            "Hi\n",
            "Hi\n",
            "Hi\n",
            "Hi\n"
          ]
        },
        {
          "output_type": "stream",
          "name": "stderr",
          "text": [
            "INFO:root:Train Epoch: 4 [54400/60000 (91%)]\tLoss: 0.201655\n"
          ]
        },
        {
          "output_type": "stream",
          "name": "stdout",
          "text": [
            "Hi\n",
            "Hi\n",
            "Hi\n",
            "Hi\n",
            "Hi\n",
            "Hi\n",
            "Hi\n",
            "Hi\n",
            "Hi\n"
          ]
        },
        {
          "output_type": "stream",
          "name": "stderr",
          "text": [
            "INFO:root:Train Epoch: 4 [55040/60000 (92%)]\tLoss: 0.259561\n"
          ]
        },
        {
          "output_type": "stream",
          "name": "stdout",
          "text": [
            "Hi\n",
            "Hi\n",
            "Hi\n",
            "Hi\n",
            "Hi\n",
            "Hi\n",
            "Hi\n",
            "Hi\n",
            "Hi\n",
            "Hi\n",
            "Hi\n",
            "Hi\n"
          ]
        },
        {
          "output_type": "stream",
          "name": "stderr",
          "text": [
            "INFO:root:Train Epoch: 4 [55680/60000 (93%)]\tLoss: 0.515478\n"
          ]
        },
        {
          "output_type": "stream",
          "name": "stdout",
          "text": [
            "Hi\n",
            "Hi\n",
            "Hi\n",
            "Hi\n",
            "Hi\n",
            "Hi\n",
            "Hi\n",
            "Hi\n",
            "Hi\n"
          ]
        },
        {
          "output_type": "stream",
          "name": "stderr",
          "text": [
            "INFO:root:Train Epoch: 4 [56320/60000 (94%)]\tLoss: 0.316944\n"
          ]
        },
        {
          "output_type": "stream",
          "name": "stdout",
          "text": [
            "Hi\n",
            "Hi\n",
            "Hi\n",
            "Hi\n",
            "Hi\n",
            "Hi\n",
            "Hi\n",
            "Hi\n",
            "Hi\n"
          ]
        },
        {
          "output_type": "stream",
          "name": "stderr",
          "text": [
            "INFO:root:Train Epoch: 4 [56960/60000 (95%)]\tLoss: 0.353854\n"
          ]
        },
        {
          "output_type": "stream",
          "name": "stdout",
          "text": [
            "Hi\n",
            "Hi\n",
            "Hi\n",
            "Hi\n",
            "Hi\n",
            "Hi\n",
            "Hi\n",
            "Hi\n",
            "Hi\n",
            "Hi\n",
            "Hi\n",
            "Hi\n"
          ]
        },
        {
          "output_type": "stream",
          "name": "stderr",
          "text": [
            "INFO:root:Train Epoch: 4 [57600/60000 (96%)]\tLoss: 0.272916\n"
          ]
        },
        {
          "output_type": "stream",
          "name": "stdout",
          "text": [
            "Hi\n",
            "Hi\n",
            "Hi\n",
            "Hi\n",
            "Hi\n",
            "Hi\n",
            "Hi\n",
            "Hi\n",
            "Hi\n"
          ]
        },
        {
          "output_type": "stream",
          "name": "stderr",
          "text": [
            "INFO:root:Train Epoch: 4 [58240/60000 (97%)]\tLoss: 0.366491\n"
          ]
        },
        {
          "output_type": "stream",
          "name": "stdout",
          "text": [
            "Hi\n",
            "Hi\n",
            "Hi\n",
            "Hi\n",
            "Hi\n",
            "Hi\n",
            "Hi\n",
            "Hi\n",
            "Hi\n"
          ]
        },
        {
          "output_type": "stream",
          "name": "stderr",
          "text": [
            "INFO:root:Train Epoch: 4 [58880/60000 (98%)]\tLoss: 0.154715\n"
          ]
        },
        {
          "output_type": "stream",
          "name": "stdout",
          "text": [
            "Hi\n",
            "Hi\n",
            "Hi\n",
            "Hi\n",
            "Hi\n",
            "Hi\n",
            "Hi\n",
            "Hi\n",
            "Hi\n",
            "Hi\n",
            "Hi\n",
            "Hi\n"
          ]
        },
        {
          "output_type": "stream",
          "name": "stderr",
          "text": [
            "INFO:root:Train Epoch: 4 [59520/60000 (99%)]\tLoss: 0.220833\n"
          ]
        },
        {
          "output_type": "stream",
          "name": "stdout",
          "text": [
            "Hi\n",
            "Hi\n",
            "Hi\n",
            "Hi\n",
            "Hi\n",
            "Hi\n",
            "Hi\n",
            "Hi\n"
          ]
        },
        {
          "output_type": "stream",
          "name": "stderr",
          "text": [
            "INFO:root:\n",
            "Test set: Average loss: 0.1657, Accuracy: 9470/10000 (95%)\n",
            "\n",
            "INFO:root:Train Epoch: 5 [0/60000 (0%)]\tLoss: 0.458755\n"
          ]
        },
        {
          "output_type": "stream",
          "name": "stdout",
          "text": [
            "Hi\n",
            "Hi\n",
            "Hi\n",
            "Hi\n",
            "Hi\n",
            "Hi\n",
            "Hi\n",
            "Hi\n"
          ]
        },
        {
          "output_type": "stream",
          "name": "stderr",
          "text": [
            "INFO:root:Train Epoch: 5 [640/60000 (1%)]\tLoss: 0.427773\n"
          ]
        },
        {
          "output_type": "stream",
          "name": "stdout",
          "text": [
            "Hi\n",
            "Hi\n",
            "Hi\n",
            "Hi\n",
            "Hi\n",
            "Hi\n",
            "Hi\n",
            "Hi\n",
            "Hi\n",
            "Hi\n",
            "Hi\n",
            "Hi\n"
          ]
        },
        {
          "output_type": "stream",
          "name": "stderr",
          "text": [
            "INFO:root:Train Epoch: 5 [1280/60000 (2%)]\tLoss: 0.280517\n"
          ]
        },
        {
          "output_type": "stream",
          "name": "stdout",
          "text": [
            "Hi\n",
            "Hi\n",
            "Hi\n",
            "Hi\n",
            "Hi\n",
            "Hi\n",
            "Hi\n",
            "Hi\n",
            "Hi\n"
          ]
        },
        {
          "output_type": "stream",
          "name": "stderr",
          "text": [
            "INFO:root:Train Epoch: 5 [1920/60000 (3%)]\tLoss: 0.346406\n"
          ]
        },
        {
          "output_type": "stream",
          "name": "stdout",
          "text": [
            "Hi\n",
            "Hi\n",
            "Hi\n",
            "Hi\n",
            "Hi\n",
            "Hi\n",
            "Hi\n",
            "Hi\n",
            "Hi\n",
            "Hi\n",
            "Hi\n",
            "Hi\n"
          ]
        },
        {
          "output_type": "stream",
          "name": "stderr",
          "text": [
            "INFO:root:Train Epoch: 5 [2560/60000 (4%)]\tLoss: 0.161855\n"
          ]
        },
        {
          "output_type": "stream",
          "name": "stdout",
          "text": [
            "Hi\n",
            "Hi\n",
            "Hi\n",
            "Hi\n",
            "Hi\n",
            "Hi\n",
            "Hi\n",
            "Hi\n",
            "Hi\n"
          ]
        },
        {
          "output_type": "stream",
          "name": "stderr",
          "text": [
            "INFO:root:Train Epoch: 5 [3200/60000 (5%)]\tLoss: 0.338642\n"
          ]
        },
        {
          "output_type": "stream",
          "name": "stdout",
          "text": [
            "Hi\n",
            "Hi\n",
            "Hi\n",
            "Hi\n",
            "Hi\n",
            "Hi\n",
            "Hi\n",
            "Hi\n"
          ]
        },
        {
          "output_type": "stream",
          "name": "stderr",
          "text": [
            "INFO:root:Train Epoch: 5 [3840/60000 (6%)]\tLoss: 0.269826\n"
          ]
        },
        {
          "output_type": "stream",
          "name": "stdout",
          "text": [
            "Hi\n",
            "Hi\n",
            "Hi\n",
            "Hi\n",
            "Hi\n",
            "Hi\n",
            "Hi\n",
            "Hi\n",
            "Hi\n",
            "Hi\n",
            "Hi\n",
            "Hi\n"
          ]
        },
        {
          "output_type": "stream",
          "name": "stderr",
          "text": [
            "INFO:root:Train Epoch: 5 [4480/60000 (7%)]\tLoss: 0.302894\n"
          ]
        },
        {
          "output_type": "stream",
          "name": "stdout",
          "text": [
            "Hi\n",
            "Hi\n",
            "Hi\n",
            "Hi\n",
            "Hi\n",
            "Hi\n",
            "Hi\n",
            "Hi\n",
            "Hi\n"
          ]
        },
        {
          "output_type": "stream",
          "name": "stderr",
          "text": [
            "INFO:root:Train Epoch: 5 [5120/60000 (9%)]\tLoss: 0.302506\n"
          ]
        },
        {
          "output_type": "stream",
          "name": "stdout",
          "text": [
            "Hi\n",
            "Hi\n",
            "Hi\n",
            "Hi\n",
            "Hi\n",
            "Hi\n",
            "Hi\n",
            "Hi\n",
            "Hi\n"
          ]
        },
        {
          "output_type": "stream",
          "name": "stderr",
          "text": [
            "INFO:root:Train Epoch: 5 [5760/60000 (10%)]\tLoss: 0.225983\n"
          ]
        },
        {
          "output_type": "stream",
          "name": "stdout",
          "text": [
            "Hi\n",
            "Hi\n",
            "Hi\n",
            "Hi\n",
            "Hi\n",
            "Hi\n",
            "Hi\n",
            "Hi\n",
            "Hi\n",
            "Hi\n",
            "Hi\n",
            "Hi\n"
          ]
        },
        {
          "output_type": "stream",
          "name": "stderr",
          "text": [
            "INFO:root:Train Epoch: 5 [6400/60000 (11%)]\tLoss: 0.366774\n"
          ]
        },
        {
          "output_type": "stream",
          "name": "stdout",
          "text": [
            "Hi\n",
            "Hi\n",
            "Hi\n",
            "Hi\n",
            "Hi\n",
            "Hi\n",
            "Hi\n",
            "Hi\n",
            "Hi\n"
          ]
        },
        {
          "output_type": "stream",
          "name": "stderr",
          "text": [
            "INFO:root:Train Epoch: 5 [7040/60000 (12%)]\tLoss: 0.165191\n"
          ]
        },
        {
          "output_type": "stream",
          "name": "stdout",
          "text": [
            "Hi\n",
            "Hi\n",
            "Hi\n",
            "Hi\n",
            "Hi\n",
            "Hi\n",
            "Hi\n",
            "Hi\n",
            "Hi\n",
            "Hi\n",
            "Hi\n",
            "Hi\n"
          ]
        },
        {
          "output_type": "stream",
          "name": "stderr",
          "text": [
            "INFO:root:Train Epoch: 5 [7680/60000 (13%)]\tLoss: 0.280869\n"
          ]
        },
        {
          "output_type": "stream",
          "name": "stdout",
          "text": [
            "Hi\n",
            "Hi\n",
            "Hi\n",
            "Hi\n",
            "Hi\n",
            "Hi\n",
            "Hi\n",
            "Hi\n",
            "Hi\n"
          ]
        },
        {
          "output_type": "stream",
          "name": "stderr",
          "text": [
            "INFO:root:Train Epoch: 5 [8320/60000 (14%)]\tLoss: 0.187640\n"
          ]
        },
        {
          "output_type": "stream",
          "name": "stdout",
          "text": [
            "Hi\n",
            "Hi\n",
            "Hi\n",
            "Hi\n",
            "Hi\n",
            "Hi\n",
            "Hi\n",
            "Hi\n"
          ]
        },
        {
          "output_type": "stream",
          "name": "stderr",
          "text": [
            "INFO:root:Train Epoch: 5 [8960/60000 (15%)]\tLoss: 0.302566\n"
          ]
        },
        {
          "output_type": "stream",
          "name": "stdout",
          "text": [
            "Hi\n",
            "Hi\n",
            "Hi\n",
            "Hi\n",
            "Hi\n",
            "Hi\n",
            "Hi\n",
            "Hi\n",
            "Hi\n",
            "Hi\n",
            "Hi\n",
            "Hi\n"
          ]
        },
        {
          "output_type": "stream",
          "name": "stderr",
          "text": [
            "INFO:root:Train Epoch: 5 [9600/60000 (16%)]\tLoss: 0.308762\n"
          ]
        },
        {
          "output_type": "stream",
          "name": "stdout",
          "text": [
            "Hi\n",
            "Hi\n",
            "Hi\n",
            "Hi\n",
            "Hi\n",
            "Hi\n",
            "Hi\n",
            "Hi\n",
            "Hi\n"
          ]
        },
        {
          "output_type": "stream",
          "name": "stderr",
          "text": [
            "INFO:root:Train Epoch: 5 [10240/60000 (17%)]\tLoss: 0.180715\n"
          ]
        },
        {
          "output_type": "stream",
          "name": "stdout",
          "text": [
            "Hi\n",
            "Hi\n",
            "Hi\n",
            "Hi\n",
            "Hi\n",
            "Hi\n",
            "Hi\n",
            "Hi\n",
            "Hi\n"
          ]
        },
        {
          "output_type": "stream",
          "name": "stderr",
          "text": [
            "INFO:root:Train Epoch: 5 [10880/60000 (18%)]\tLoss: 0.181827\n"
          ]
        },
        {
          "output_type": "stream",
          "name": "stdout",
          "text": [
            "Hi\n",
            "Hi\n",
            "Hi\n",
            "Hi\n",
            "Hi\n",
            "Hi\n",
            "Hi\n",
            "Hi\n",
            "Hi\n",
            "Hi\n",
            "Hi\n",
            "Hi\n"
          ]
        },
        {
          "output_type": "stream",
          "name": "stderr",
          "text": [
            "INFO:root:Train Epoch: 5 [11520/60000 (19%)]\tLoss: 0.201614\n"
          ]
        },
        {
          "output_type": "stream",
          "name": "stdout",
          "text": [
            "Hi\n",
            "Hi\n",
            "Hi\n",
            "Hi\n",
            "Hi\n",
            "Hi\n",
            "Hi\n",
            "Hi\n",
            "Hi\n"
          ]
        },
        {
          "output_type": "stream",
          "name": "stderr",
          "text": [
            "INFO:root:Train Epoch: 5 [12160/60000 (20%)]\tLoss: 0.130234\n"
          ]
        },
        {
          "output_type": "stream",
          "name": "stdout",
          "text": [
            "Hi\n",
            "Hi\n",
            "Hi\n",
            "Hi\n",
            "Hi\n",
            "Hi\n",
            "Hi\n",
            "Hi\n",
            "Hi\n"
          ]
        },
        {
          "output_type": "stream",
          "name": "stderr",
          "text": [
            "INFO:root:Train Epoch: 5 [12800/60000 (21%)]\tLoss: 0.346403\n"
          ]
        },
        {
          "output_type": "stream",
          "name": "stdout",
          "text": [
            "Hi\n",
            "Hi\n",
            "Hi\n",
            "Hi\n",
            "Hi\n",
            "Hi\n",
            "Hi\n",
            "Hi\n",
            "Hi\n",
            "Hi\n",
            "Hi\n",
            "Hi\n"
          ]
        },
        {
          "output_type": "stream",
          "name": "stderr",
          "text": [
            "INFO:root:Train Epoch: 5 [13440/60000 (22%)]\tLoss: 0.276833\n"
          ]
        },
        {
          "output_type": "stream",
          "name": "stdout",
          "text": [
            "Hi\n",
            "Hi\n",
            "Hi\n",
            "Hi\n",
            "Hi\n",
            "Hi\n",
            "Hi\n",
            "Hi\n",
            "Hi\n"
          ]
        },
        {
          "output_type": "stream",
          "name": "stderr",
          "text": [
            "INFO:root:Train Epoch: 5 [14080/60000 (23%)]\tLoss: 0.151003\n"
          ]
        },
        {
          "output_type": "stream",
          "name": "stdout",
          "text": [
            "Hi\n",
            "Hi\n",
            "Hi\n",
            "Hi\n",
            "Hi\n",
            "Hi\n",
            "Hi\n",
            "Hi\n",
            "Hi\n"
          ]
        },
        {
          "output_type": "stream",
          "name": "stderr",
          "text": [
            "INFO:root:Train Epoch: 5 [14720/60000 (25%)]\tLoss: 0.220015\n"
          ]
        },
        {
          "output_type": "stream",
          "name": "stdout",
          "text": [
            "Hi\n",
            "Hi\n",
            "Hi\n",
            "Hi\n",
            "Hi\n",
            "Hi\n",
            "Hi\n",
            "Hi\n",
            "Hi\n",
            "Hi\n",
            "Hi\n",
            "Hi\n"
          ]
        },
        {
          "output_type": "stream",
          "name": "stderr",
          "text": [
            "INFO:root:Train Epoch: 5 [15360/60000 (26%)]\tLoss: 0.253825\n"
          ]
        },
        {
          "output_type": "stream",
          "name": "stdout",
          "text": [
            "Hi\n",
            "Hi\n",
            "Hi\n",
            "Hi\n",
            "Hi\n",
            "Hi\n",
            "Hi\n",
            "Hi\n",
            "Hi\n",
            "Hi\n"
          ]
        },
        {
          "output_type": "stream",
          "name": "stderr",
          "text": [
            "INFO:root:Train Epoch: 5 [16000/60000 (27%)]\tLoss: 0.197757\n"
          ]
        },
        {
          "output_type": "stream",
          "name": "stdout",
          "text": [
            "Hi\n",
            "Hi\n",
            "Hi\n",
            "Hi\n",
            "Hi\n",
            "Hi\n",
            "Hi\n",
            "Hi\n",
            "Hi\n"
          ]
        },
        {
          "output_type": "stream",
          "name": "stderr",
          "text": [
            "INFO:root:Train Epoch: 5 [16640/60000 (28%)]\tLoss: 0.218802\n"
          ]
        },
        {
          "output_type": "stream",
          "name": "stdout",
          "text": [
            "Hi\n",
            "Hi\n",
            "Hi\n",
            "Hi\n",
            "Hi\n",
            "Hi\n",
            "Hi\n",
            "Hi\n",
            "Hi\n"
          ]
        },
        {
          "output_type": "stream",
          "name": "stderr",
          "text": [
            "INFO:root:Train Epoch: 5 [17280/60000 (29%)]\tLoss: 0.172835\n"
          ]
        },
        {
          "output_type": "stream",
          "name": "stdout",
          "text": [
            "Hi\n",
            "Hi\n",
            "Hi\n",
            "Hi\n",
            "Hi\n",
            "Hi\n",
            "Hi\n",
            "Hi\n",
            "Hi\n",
            "Hi\n",
            "Hi\n",
            "Hi\n"
          ]
        },
        {
          "output_type": "stream",
          "name": "stderr",
          "text": [
            "INFO:root:Train Epoch: 5 [17920/60000 (30%)]\tLoss: 0.150602\n"
          ]
        },
        {
          "output_type": "stream",
          "name": "stdout",
          "text": [
            "Hi\n",
            "Hi\n",
            "Hi\n",
            "Hi\n",
            "Hi\n",
            "Hi\n",
            "Hi\n",
            "Hi\n",
            "Hi\n"
          ]
        },
        {
          "output_type": "stream",
          "name": "stderr",
          "text": [
            "INFO:root:Train Epoch: 5 [18560/60000 (31%)]\tLoss: 0.274739\n"
          ]
        },
        {
          "output_type": "stream",
          "name": "stdout",
          "text": [
            "Hi\n",
            "Hi\n",
            "Hi\n",
            "Hi\n",
            "Hi\n",
            "Hi\n",
            "Hi\n",
            "Hi\n",
            "Hi\n"
          ]
        },
        {
          "output_type": "stream",
          "name": "stderr",
          "text": [
            "INFO:root:Train Epoch: 5 [19200/60000 (32%)]\tLoss: 0.256339\n"
          ]
        },
        {
          "output_type": "stream",
          "name": "stdout",
          "text": [
            "Hi\n",
            "Hi\n",
            "Hi\n",
            "Hi\n",
            "Hi\n",
            "Hi\n",
            "Hi\n",
            "Hi\n",
            "Hi\n",
            "Hi\n",
            "Hi\n",
            "Hi\n"
          ]
        },
        {
          "output_type": "stream",
          "name": "stderr",
          "text": [
            "INFO:root:Train Epoch: 5 [19840/60000 (33%)]\tLoss: 0.465659\n"
          ]
        },
        {
          "output_type": "stream",
          "name": "stdout",
          "text": [
            "Hi\n",
            "Hi\n",
            "Hi\n",
            "Hi\n",
            "Hi\n",
            "Hi\n",
            "Hi\n",
            "Hi\n",
            "Hi\n"
          ]
        },
        {
          "output_type": "stream",
          "name": "stderr",
          "text": [
            "INFO:root:Train Epoch: 5 [20480/60000 (34%)]\tLoss: 0.491237\n"
          ]
        },
        {
          "output_type": "stream",
          "name": "stdout",
          "text": [
            "Hi\n",
            "Hi\n",
            "Hi\n",
            "Hi\n",
            "Hi\n",
            "Hi\n",
            "Hi\n",
            "Hi\n",
            "Hi\n"
          ]
        },
        {
          "output_type": "stream",
          "name": "stderr",
          "text": [
            "INFO:root:Train Epoch: 5 [21120/60000 (35%)]\tLoss: 0.187082\n"
          ]
        },
        {
          "output_type": "stream",
          "name": "stdout",
          "text": [
            "Hi\n",
            "Hi\n",
            "Hi\n",
            "Hi\n",
            "Hi\n",
            "Hi\n",
            "Hi\n",
            "Hi\n",
            "Hi\n",
            "Hi\n",
            "Hi\n",
            "Hi\n"
          ]
        },
        {
          "output_type": "stream",
          "name": "stderr",
          "text": [
            "INFO:root:Train Epoch: 5 [21760/60000 (36%)]\tLoss: 0.239973\n"
          ]
        },
        {
          "output_type": "stream",
          "name": "stdout",
          "text": [
            "Hi\n",
            "Hi\n",
            "Hi\n",
            "Hi\n",
            "Hi\n",
            "Hi\n",
            "Hi\n",
            "Hi\n",
            "Hi\n"
          ]
        },
        {
          "output_type": "stream",
          "name": "stderr",
          "text": [
            "INFO:root:Train Epoch: 5 [22400/60000 (37%)]\tLoss: 0.291722\n"
          ]
        },
        {
          "output_type": "stream",
          "name": "stdout",
          "text": [
            "Hi\n",
            "Hi\n",
            "Hi\n",
            "Hi\n",
            "Hi\n",
            "Hi\n",
            "Hi\n",
            "Hi\n",
            "Hi\n"
          ]
        },
        {
          "output_type": "stream",
          "name": "stderr",
          "text": [
            "INFO:root:Train Epoch: 5 [23040/60000 (38%)]\tLoss: 0.247545\n"
          ]
        },
        {
          "output_type": "stream",
          "name": "stdout",
          "text": [
            "Hi\n",
            "Hi\n",
            "Hi\n",
            "Hi\n",
            "Hi\n",
            "Hi\n",
            "Hi\n",
            "Hi\n",
            "Hi\n",
            "Hi\n",
            "Hi\n",
            "Hi\n"
          ]
        },
        {
          "output_type": "stream",
          "name": "stderr",
          "text": [
            "INFO:root:Train Epoch: 5 [23680/60000 (39%)]\tLoss: 0.305512\n"
          ]
        },
        {
          "output_type": "stream",
          "name": "stdout",
          "text": [
            "Hi\n",
            "Hi\n",
            "Hi\n",
            "Hi\n",
            "Hi\n",
            "Hi\n",
            "Hi\n",
            "Hi\n",
            "Hi\n"
          ]
        },
        {
          "output_type": "stream",
          "name": "stderr",
          "text": [
            "INFO:root:Train Epoch: 5 [24320/60000 (41%)]\tLoss: 0.276666\n"
          ]
        },
        {
          "output_type": "stream",
          "name": "stdout",
          "text": [
            "Hi\n",
            "Hi\n",
            "Hi\n",
            "Hi\n",
            "Hi\n",
            "Hi\n",
            "Hi\n",
            "Hi\n",
            "Hi\n"
          ]
        },
        {
          "output_type": "stream",
          "name": "stderr",
          "text": [
            "INFO:root:Train Epoch: 5 [24960/60000 (42%)]\tLoss: 0.243960\n"
          ]
        },
        {
          "output_type": "stream",
          "name": "stdout",
          "text": [
            "Hi\n",
            "Hi\n",
            "Hi\n",
            "Hi\n",
            "Hi\n",
            "Hi\n",
            "Hi\n",
            "Hi\n",
            "Hi\n",
            "Hi\n",
            "Hi\n",
            "Hi\n"
          ]
        },
        {
          "output_type": "stream",
          "name": "stderr",
          "text": [
            "INFO:root:Train Epoch: 5 [25600/60000 (43%)]\tLoss: 0.244857\n"
          ]
        },
        {
          "output_type": "stream",
          "name": "stdout",
          "text": [
            "Hi\n",
            "Hi\n",
            "Hi\n",
            "Hi\n",
            "Hi\n",
            "Hi\n",
            "Hi\n",
            "Hi\n",
            "Hi\n"
          ]
        },
        {
          "output_type": "stream",
          "name": "stderr",
          "text": [
            "INFO:root:Train Epoch: 5 [26240/60000 (44%)]\tLoss: 0.332364\n"
          ]
        },
        {
          "output_type": "stream",
          "name": "stdout",
          "text": [
            "Hi\n",
            "Hi\n",
            "Hi\n",
            "Hi\n",
            "Hi\n",
            "Hi\n",
            "Hi\n",
            "Hi\n",
            "Hi\n"
          ]
        },
        {
          "output_type": "stream",
          "name": "stderr",
          "text": [
            "INFO:root:Train Epoch: 5 [26880/60000 (45%)]\tLoss: 0.214981\n"
          ]
        },
        {
          "output_type": "stream",
          "name": "stdout",
          "text": [
            "Hi\n",
            "Hi\n",
            "Hi\n",
            "Hi\n",
            "Hi\n",
            "Hi\n",
            "Hi\n",
            "Hi\n",
            "Hi\n",
            "Hi\n",
            "Hi\n",
            "Hi\n"
          ]
        },
        {
          "output_type": "stream",
          "name": "stderr",
          "text": [
            "INFO:root:Train Epoch: 5 [27520/60000 (46%)]\tLoss: 0.174874\n"
          ]
        },
        {
          "output_type": "stream",
          "name": "stdout",
          "text": [
            "Hi\n",
            "Hi\n",
            "Hi\n",
            "Hi\n",
            "Hi\n",
            "Hi\n",
            "Hi\n",
            "Hi\n",
            "Hi\n"
          ]
        },
        {
          "output_type": "stream",
          "name": "stderr",
          "text": [
            "INFO:root:Train Epoch: 5 [28160/60000 (47%)]\tLoss: 0.412968\n"
          ]
        },
        {
          "output_type": "stream",
          "name": "stdout",
          "text": [
            "Hi\n",
            "Hi\n",
            "Hi\n",
            "Hi\n",
            "Hi\n",
            "Hi\n",
            "Hi\n",
            "Hi\n",
            "Hi\n"
          ]
        },
        {
          "output_type": "stream",
          "name": "stderr",
          "text": [
            "INFO:root:Train Epoch: 5 [28800/60000 (48%)]\tLoss: 0.250957\n"
          ]
        },
        {
          "output_type": "stream",
          "name": "stdout",
          "text": [
            "Hi\n",
            "Hi\n",
            "Hi\n",
            "Hi\n",
            "Hi\n",
            "Hi\n",
            "Hi\n",
            "Hi\n",
            "Hi\n",
            "Hi\n",
            "Hi\n",
            "Hi\n"
          ]
        },
        {
          "output_type": "stream",
          "name": "stderr",
          "text": [
            "INFO:root:Train Epoch: 5 [29440/60000 (49%)]\tLoss: 0.320245\n"
          ]
        },
        {
          "output_type": "stream",
          "name": "stdout",
          "text": [
            "Hi\n",
            "Hi\n",
            "Hi\n",
            "Hi\n",
            "Hi\n",
            "Hi\n",
            "Hi\n",
            "Hi\n",
            "Hi\n"
          ]
        },
        {
          "output_type": "stream",
          "name": "stderr",
          "text": [
            "INFO:root:Train Epoch: 5 [30080/60000 (50%)]\tLoss: 0.161721\n"
          ]
        },
        {
          "output_type": "stream",
          "name": "stdout",
          "text": [
            "Hi\n",
            "Hi\n",
            "Hi\n",
            "Hi\n",
            "Hi\n",
            "Hi\n",
            "Hi\n",
            "Hi\n",
            "Hi\n"
          ]
        },
        {
          "output_type": "stream",
          "name": "stderr",
          "text": [
            "INFO:root:Train Epoch: 5 [30720/60000 (51%)]\tLoss: 0.116814\n"
          ]
        },
        {
          "output_type": "stream",
          "name": "stdout",
          "text": [
            "Hi\n",
            "Hi\n",
            "Hi\n",
            "Hi\n",
            "Hi\n",
            "Hi\n",
            "Hi\n",
            "Hi\n",
            "Hi\n",
            "Hi\n",
            "Hi\n",
            "Hi\n"
          ]
        },
        {
          "output_type": "stream",
          "name": "stderr",
          "text": [
            "INFO:root:Train Epoch: 5 [31360/60000 (52%)]\tLoss: 0.128493\n"
          ]
        },
        {
          "output_type": "stream",
          "name": "stdout",
          "text": [
            "Hi\n",
            "Hi\n",
            "Hi\n",
            "Hi\n",
            "Hi\n",
            "Hi\n",
            "Hi\n",
            "Hi\n",
            "Hi\n"
          ]
        },
        {
          "output_type": "stream",
          "name": "stderr",
          "text": [
            "INFO:root:Train Epoch: 5 [32000/60000 (53%)]\tLoss: 0.185614\n"
          ]
        },
        {
          "output_type": "stream",
          "name": "stdout",
          "text": [
            "Hi\n",
            "Hi\n",
            "Hi\n",
            "Hi\n",
            "Hi\n",
            "Hi\n",
            "Hi\n",
            "Hi\n",
            "Hi\n"
          ]
        },
        {
          "output_type": "stream",
          "name": "stderr",
          "text": [
            "INFO:root:Train Epoch: 5 [32640/60000 (54%)]\tLoss: 0.250133\n"
          ]
        },
        {
          "output_type": "stream",
          "name": "stdout",
          "text": [
            "Hi\n",
            "Hi\n",
            "Hi\n",
            "Hi\n",
            "Hi\n",
            "Hi\n",
            "Hi\n",
            "Hi\n",
            "Hi\n",
            "Hi\n",
            "Hi\n",
            "Hi\n"
          ]
        },
        {
          "output_type": "stream",
          "name": "stderr",
          "text": [
            "INFO:root:Train Epoch: 5 [33280/60000 (55%)]\tLoss: 0.397808\n"
          ]
        },
        {
          "output_type": "stream",
          "name": "stdout",
          "text": [
            "Hi\n",
            "Hi\n",
            "Hi\n",
            "Hi\n",
            "Hi\n",
            "Hi\n",
            "Hi\n",
            "Hi\n",
            "Hi\n"
          ]
        },
        {
          "output_type": "stream",
          "name": "stderr",
          "text": [
            "INFO:root:Train Epoch: 5 [33920/60000 (57%)]\tLoss: 0.157419\n"
          ]
        },
        {
          "output_type": "stream",
          "name": "stdout",
          "text": [
            "Hi\n",
            "Hi\n",
            "Hi\n",
            "Hi\n",
            "Hi\n",
            "Hi\n",
            "Hi\n",
            "Hi\n",
            "Hi\n"
          ]
        },
        {
          "output_type": "stream",
          "name": "stderr",
          "text": [
            "INFO:root:Train Epoch: 5 [34560/60000 (58%)]\tLoss: 0.340416\n"
          ]
        },
        {
          "output_type": "stream",
          "name": "stdout",
          "text": [
            "Hi\n",
            "Hi\n",
            "Hi\n",
            "Hi\n",
            "Hi\n",
            "Hi\n",
            "Hi\n",
            "Hi\n",
            "Hi\n",
            "Hi\n",
            "Hi\n",
            "Hi\n"
          ]
        },
        {
          "output_type": "stream",
          "name": "stderr",
          "text": [
            "INFO:root:Train Epoch: 5 [35200/60000 (59%)]\tLoss: 0.330271\n"
          ]
        },
        {
          "output_type": "stream",
          "name": "stdout",
          "text": [
            "Hi\n",
            "Hi\n",
            "Hi\n",
            "Hi\n",
            "Hi\n",
            "Hi\n",
            "Hi\n",
            "Hi\n",
            "Hi\n"
          ]
        },
        {
          "output_type": "stream",
          "name": "stderr",
          "text": [
            "INFO:root:Train Epoch: 5 [35840/60000 (60%)]\tLoss: 0.315416\n"
          ]
        },
        {
          "output_type": "stream",
          "name": "stdout",
          "text": [
            "Hi\n",
            "Hi\n",
            "Hi\n",
            "Hi\n",
            "Hi\n",
            "Hi\n",
            "Hi\n",
            "Hi\n",
            "Hi\n"
          ]
        },
        {
          "output_type": "stream",
          "name": "stderr",
          "text": [
            "INFO:root:Train Epoch: 5 [36480/60000 (61%)]\tLoss: 0.353693\n"
          ]
        },
        {
          "output_type": "stream",
          "name": "stdout",
          "text": [
            "Hi\n",
            "Hi\n",
            "Hi\n",
            "Hi\n",
            "Hi\n",
            "Hi\n",
            "Hi\n",
            "Hi\n",
            "Hi\n",
            "Hi\n"
          ]
        },
        {
          "output_type": "stream",
          "name": "stderr",
          "text": [
            "INFO:root:Train Epoch: 5 [37120/60000 (62%)]\tLoss: 0.274814\n"
          ]
        },
        {
          "output_type": "stream",
          "name": "stdout",
          "text": [
            "Hi\n",
            "Hi\n",
            "Hi\n",
            "Hi\n",
            "Hi\n",
            "Hi\n",
            "Hi\n",
            "Hi\n",
            "Hi\n",
            "Hi\n",
            "Hi\n"
          ]
        },
        {
          "output_type": "stream",
          "name": "stderr",
          "text": [
            "INFO:root:Train Epoch: 5 [37760/60000 (63%)]\tLoss: 0.308639\n"
          ]
        },
        {
          "output_type": "stream",
          "name": "stdout",
          "text": [
            "Hi\n",
            "Hi\n",
            "Hi\n",
            "Hi\n",
            "Hi\n",
            "Hi\n",
            "Hi\n",
            "Hi\n",
            "Hi\n",
            "Hi\n"
          ]
        },
        {
          "output_type": "stream",
          "name": "stderr",
          "text": [
            "INFO:root:Train Epoch: 5 [38400/60000 (64%)]\tLoss: 0.262661\n"
          ]
        },
        {
          "output_type": "stream",
          "name": "stdout",
          "text": [
            "Hi\n",
            "Hi\n",
            "Hi\n",
            "Hi\n",
            "Hi\n",
            "Hi\n",
            "Hi\n",
            "Hi\n",
            "Hi\n",
            "Hi\n",
            "Hi\n"
          ]
        },
        {
          "output_type": "stream",
          "name": "stderr",
          "text": [
            "INFO:root:Train Epoch: 5 [39040/60000 (65%)]\tLoss: 0.142105\n"
          ]
        },
        {
          "output_type": "stream",
          "name": "stdout",
          "text": [
            "Hi\n",
            "Hi\n",
            "Hi\n",
            "Hi\n",
            "Hi\n",
            "Hi\n",
            "Hi\n",
            "Hi\n",
            "Hi\n"
          ]
        },
        {
          "output_type": "stream",
          "name": "stderr",
          "text": [
            "INFO:root:Train Epoch: 5 [39680/60000 (66%)]\tLoss: 0.162994\n"
          ]
        },
        {
          "output_type": "stream",
          "name": "stdout",
          "text": [
            "Hi\n",
            "Hi\n",
            "Hi\n",
            "Hi\n",
            "Hi\n",
            "Hi\n",
            "Hi\n",
            "Hi\n",
            "Hi\n"
          ]
        },
        {
          "output_type": "stream",
          "name": "stderr",
          "text": [
            "INFO:root:Train Epoch: 5 [40320/60000 (67%)]\tLoss: 0.417244\n"
          ]
        },
        {
          "output_type": "stream",
          "name": "stdout",
          "text": [
            "Hi\n",
            "Hi\n",
            "Hi\n",
            "Hi\n",
            "Hi\n",
            "Hi\n",
            "Hi\n",
            "Hi\n",
            "Hi\n",
            "Hi\n",
            "Hi\n",
            "Hi\n"
          ]
        },
        {
          "output_type": "stream",
          "name": "stderr",
          "text": [
            "INFO:root:Train Epoch: 5 [40960/60000 (68%)]\tLoss: 0.140742\n"
          ]
        },
        {
          "output_type": "stream",
          "name": "stdout",
          "text": [
            "Hi\n",
            "Hi\n",
            "Hi\n",
            "Hi\n",
            "Hi\n",
            "Hi\n",
            "Hi\n",
            "Hi\n",
            "Hi\n"
          ]
        },
        {
          "output_type": "stream",
          "name": "stderr",
          "text": [
            "INFO:root:Train Epoch: 5 [41600/60000 (69%)]\tLoss: 0.336018\n"
          ]
        },
        {
          "output_type": "stream",
          "name": "stdout",
          "text": [
            "Hi\n",
            "Hi\n",
            "Hi\n",
            "Hi\n",
            "Hi\n",
            "Hi\n",
            "Hi\n",
            "Hi\n",
            "Hi\n"
          ]
        },
        {
          "output_type": "stream",
          "name": "stderr",
          "text": [
            "INFO:root:Train Epoch: 5 [42240/60000 (70%)]\tLoss: 0.194535\n"
          ]
        },
        {
          "output_type": "stream",
          "name": "stdout",
          "text": [
            "Hi\n",
            "Hi\n",
            "Hi\n",
            "Hi\n",
            "Hi\n",
            "Hi\n",
            "Hi\n",
            "Hi\n",
            "Hi\n",
            "Hi\n",
            "Hi\n",
            "Hi\n"
          ]
        },
        {
          "output_type": "stream",
          "name": "stderr",
          "text": [
            "INFO:root:Train Epoch: 5 [42880/60000 (71%)]\tLoss: 0.235708\n"
          ]
        },
        {
          "output_type": "stream",
          "name": "stdout",
          "text": [
            "Hi\n",
            "Hi\n",
            "Hi\n",
            "Hi\n",
            "Hi\n",
            "Hi\n",
            "Hi\n",
            "Hi\n",
            "Hi\n"
          ]
        },
        {
          "output_type": "stream",
          "name": "stderr",
          "text": [
            "INFO:root:Train Epoch: 5 [43520/60000 (72%)]\tLoss: 0.370930\n"
          ]
        },
        {
          "output_type": "stream",
          "name": "stdout",
          "text": [
            "Hi\n",
            "Hi\n",
            "Hi\n",
            "Hi\n",
            "Hi\n",
            "Hi\n",
            "Hi\n",
            "Hi\n",
            "Hi\n"
          ]
        },
        {
          "output_type": "stream",
          "name": "stderr",
          "text": [
            "INFO:root:Train Epoch: 5 [44160/60000 (74%)]\tLoss: 0.190570\n"
          ]
        },
        {
          "output_type": "stream",
          "name": "stdout",
          "text": [
            "Hi\n",
            "Hi\n",
            "Hi\n"
          ]
        },
        {
          "output_type": "stream",
          "name": "stderr",
          "text": [
            "KeyboardInterrupt\n",
            "2022-05-05T17:47:19Z\n",
            "Process Process-1:\n"
          ]
        },
        {
          "output_type": "stream",
          "name": "stdout",
          "text": [
            "Hi\n",
            "Hi\n",
            "Hi\n"
          ]
        },
        {
          "output_type": "stream",
          "name": "stderr",
          "text": [
            "Traceback (most recent call last):\n",
            "  File \"/usr/lib/python3.7/multiprocessing/process.py\", line 297, in _bootstrap\n",
            "    self.run()\n",
            "  File \"/usr/lib/python3.7/multiprocessing/process.py\", line 99, in run\n",
            "    self._target(*self._args, **self._kwargs)\n",
            "  File \"/usr/local/lib/python3.7/dist-packages/bagua/torch_api/communication.py\", line 407, in run_flask_app\n",
            "    http_server.serve_forever()\n",
            "  File \"/usr/local/lib/python3.7/dist-packages/gevent/baseserver.py\", line 400, in serve_forever\n",
            "    self._stop_event.wait()\n",
            "  File \"src/gevent/event.py\", line 163, in gevent._gevent_cevent.Event.wait\n",
            "  File \"src/gevent/_abstract_linkable.py\", line 521, in gevent._gevent_c_abstract_linkable.AbstractLinkable._wait\n",
            "  File \"src/gevent/_abstract_linkable.py\", line 487, in gevent._gevent_c_abstract_linkable.AbstractLinkable._wait_core\n",
            "  File \"src/gevent/_abstract_linkable.py\", line 490, in gevent._gevent_c_abstract_linkable.AbstractLinkable._wait_core\n",
            "  File \"src/gevent/_abstract_linkable.py\", line 442, in gevent._gevent_c_abstract_linkable.AbstractLinkable._AbstractLinkable__wait_to_be_notified\n",
            "  File \"src/gevent/_abstract_linkable.py\", line 451, in gevent._gevent_c_abstract_linkable.AbstractLinkable._switch_to_hub\n",
            "  File \"src/gevent/_greenlet_primitives.py\", line 61, in gevent._gevent_c_greenlet_primitives.SwitchOutGreenletWithLoop.switch\n",
            "  File \"src/gevent/_greenlet_primitives.py\", line 65, in gevent._gevent_c_greenlet_primitives.SwitchOutGreenletWithLoop.switch\n",
            "  File \"src/gevent/_gevent_c_greenlet_primitives.pxd\", line 35, in gevent._gevent_c_greenlet_primitives._greenlet_switch\n",
            "KeyboardInterrupt\n"
          ]
        },
        {
          "output_type": "error",
          "ename": "KeyboardInterrupt",
          "evalue": "ignored",
          "traceback": [
            "\u001b[0;31m---------------------------------------------------------------------------\u001b[0m",
            "\u001b[0;31mKeyboardInterrupt\u001b[0m                         Traceback (most recent call last)",
            "\u001b[0;32m<ipython-input-5-50cf9e4a7a61>\u001b[0m in \u001b[0;36m<module>\u001b[0;34m()\u001b[0m\n\u001b[1;32m    360\u001b[0m \u001b[0;34m\u001b[0m\u001b[0m\n\u001b[1;32m    361\u001b[0m \u001b[0;32mif\u001b[0m \u001b[0m__name__\u001b[0m \u001b[0;34m==\u001b[0m \u001b[0;34m\"__main__\"\u001b[0m\u001b[0;34m:\u001b[0m\u001b[0;34m\u001b[0m\u001b[0;34m\u001b[0m\u001b[0m\n\u001b[0;32m--> 362\u001b[0;31m     \u001b[0mmain\u001b[0m\u001b[0;34m(\u001b[0m\u001b[0;34m)\u001b[0m\u001b[0;34m\u001b[0m\u001b[0;34m\u001b[0m\u001b[0m\n\u001b[0m",
            "\u001b[0;32m<ipython-input-5-50cf9e4a7a61>\u001b[0m in \u001b[0;36mmain\u001b[0;34m()\u001b[0m\n\u001b[1;32m    315\u001b[0m             \u001b[0mmodel\u001b[0m\u001b[0;34m.\u001b[0m\u001b[0mbagua_algorithm\u001b[0m\u001b[0;34m.\u001b[0m\u001b[0mresume\u001b[0m\u001b[0;34m(\u001b[0m\u001b[0mmodel\u001b[0m\u001b[0;34m)\u001b[0m\u001b[0;34m\u001b[0m\u001b[0;34m\u001b[0m\u001b[0m\n\u001b[1;32m    316\u001b[0m \u001b[0;34m\u001b[0m\u001b[0m\n\u001b[0;32m--> 317\u001b[0;31m         \u001b[0mtrain\u001b[0m\u001b[0;34m(\u001b[0m\u001b[0margs\u001b[0m\u001b[0;34m,\u001b[0m \u001b[0mmodel\u001b[0m\u001b[0;34m,\u001b[0m \u001b[0mtrain_loader\u001b[0m\u001b[0;34m,\u001b[0m \u001b[0moptimizer\u001b[0m\u001b[0;34m,\u001b[0m \u001b[0mepoch\u001b[0m\u001b[0;34m)\u001b[0m\u001b[0;34m\u001b[0m\u001b[0;34m\u001b[0m\u001b[0m\n\u001b[0m\u001b[1;32m    318\u001b[0m \u001b[0;34m\u001b[0m\u001b[0m\n\u001b[1;32m    319\u001b[0m         \u001b[0;32mif\u001b[0m \u001b[0margs\u001b[0m\u001b[0;34m.\u001b[0m\u001b[0malgorithm\u001b[0m \u001b[0;34m==\u001b[0m \u001b[0;34m\"async\"\u001b[0m\u001b[0;34m:\u001b[0m\u001b[0;34m\u001b[0m\u001b[0;34m\u001b[0m\u001b[0m\n",
            "\u001b[0;32m<ipython-input-5-50cf9e4a7a61>\u001b[0m in \u001b[0;36mtrain\u001b[0;34m(args, model, train_loader, optimizer, epoch)\u001b[0m\n\u001b[1;32m     64\u001b[0m             \u001b[0moptimizer\u001b[0m\u001b[0;34m.\u001b[0m\u001b[0mfuse_step\u001b[0m\u001b[0;34m(\u001b[0m\u001b[0;34m)\u001b[0m\u001b[0;34m\u001b[0m\u001b[0;34m\u001b[0m\u001b[0m\n\u001b[1;32m     65\u001b[0m         \u001b[0;32melse\u001b[0m\u001b[0;34m:\u001b[0m\u001b[0;34m\u001b[0m\u001b[0;34m\u001b[0m\u001b[0m\n\u001b[0;32m---> 66\u001b[0;31m             \u001b[0moptimizer\u001b[0m\u001b[0;34m.\u001b[0m\u001b[0mstep\u001b[0m\u001b[0;34m(\u001b[0m\u001b[0;34m)\u001b[0m\u001b[0;34m\u001b[0m\u001b[0;34m\u001b[0m\u001b[0m\n\u001b[0m\u001b[1;32m     67\u001b[0m         \u001b[0;32mif\u001b[0m \u001b[0mbatch_idx\u001b[0m \u001b[0;34m%\u001b[0m \u001b[0margs\u001b[0m\u001b[0;34m.\u001b[0m\u001b[0mlog_interval\u001b[0m \u001b[0;34m==\u001b[0m \u001b[0;36m0\u001b[0m\u001b[0;34m:\u001b[0m\u001b[0;34m\u001b[0m\u001b[0;34m\u001b[0m\u001b[0m\n\u001b[1;32m     68\u001b[0m             logging.info(\n",
            "\u001b[0;32m/usr/local/lib/python3.7/dist-packages/bagua/torch_api/data_parallel/bagua_distributed.py\u001b[0m in \u001b[0;36mnew_step\u001b[0;34m(self, *args, **kwargs)\u001b[0m\n\u001b[1;32m    472\u001b[0m             \u001b[0;32mdef\u001b[0m \u001b[0mnew_step_factory\u001b[0m\u001b[0;34m(\u001b[0m\u001b[0moptimizer\u001b[0m\u001b[0;34m)\u001b[0m\u001b[0;34m:\u001b[0m\u001b[0;34m\u001b[0m\u001b[0;34m\u001b[0m\u001b[0m\n\u001b[1;32m    473\u001b[0m                 \u001b[0;32mdef\u001b[0m \u001b[0mnew_step\u001b[0m\u001b[0;34m(\u001b[0m\u001b[0mself\u001b[0m\u001b[0;34m,\u001b[0m \u001b[0;34m*\u001b[0m\u001b[0margs\u001b[0m\u001b[0;34m,\u001b[0m \u001b[0;34m**\u001b[0m\u001b[0mkwargs\u001b[0m\u001b[0;34m)\u001b[0m\u001b[0;34m:\u001b[0m\u001b[0;34m\u001b[0m\u001b[0;34m\u001b[0m\u001b[0m\n\u001b[0;32m--> 474\u001b[0;31m                     \u001b[0mresult\u001b[0m \u001b[0;34m=\u001b[0m \u001b[0mself\u001b[0m\u001b[0;34m.\u001b[0m\u001b[0m_bagua_original_step\u001b[0m\u001b[0;34m(\u001b[0m\u001b[0;34m*\u001b[0m\u001b[0margs\u001b[0m\u001b[0;34m,\u001b[0m \u001b[0;34m**\u001b[0m\u001b[0mkwargs\u001b[0m\u001b[0;34m)\u001b[0m\u001b[0;34m\u001b[0m\u001b[0;34m\u001b[0m\u001b[0m\n\u001b[0m\u001b[1;32m    475\u001b[0m \u001b[0;34m\u001b[0m\u001b[0m\n\u001b[1;32m    476\u001b[0m                     \u001b[0moptimizer_hook\u001b[0m\u001b[0;34m(\u001b[0m\u001b[0mself\u001b[0m\u001b[0;34m)\u001b[0m\u001b[0;34m\u001b[0m\u001b[0;34m\u001b[0m\u001b[0m\n",
            "\u001b[0;32m/usr/local/lib/python3.7/dist-packages/torch/optim/optimizer.py\u001b[0m in \u001b[0;36mwrapper\u001b[0;34m(*args, **kwargs)\u001b[0m\n\u001b[1;32m     86\u001b[0m                 \u001b[0mprofile_name\u001b[0m \u001b[0;34m=\u001b[0m \u001b[0;34m\"Optimizer.step#{}.step\"\u001b[0m\u001b[0;34m.\u001b[0m\u001b[0mformat\u001b[0m\u001b[0;34m(\u001b[0m\u001b[0mobj\u001b[0m\u001b[0;34m.\u001b[0m\u001b[0m__class__\u001b[0m\u001b[0;34m.\u001b[0m\u001b[0m__name__\u001b[0m\u001b[0;34m)\u001b[0m\u001b[0;34m\u001b[0m\u001b[0;34m\u001b[0m\u001b[0m\n\u001b[1;32m     87\u001b[0m                 \u001b[0;32mwith\u001b[0m \u001b[0mtorch\u001b[0m\u001b[0;34m.\u001b[0m\u001b[0mautograd\u001b[0m\u001b[0;34m.\u001b[0m\u001b[0mprofiler\u001b[0m\u001b[0;34m.\u001b[0m\u001b[0mrecord_function\u001b[0m\u001b[0;34m(\u001b[0m\u001b[0mprofile_name\u001b[0m\u001b[0;34m)\u001b[0m\u001b[0;34m:\u001b[0m\u001b[0;34m\u001b[0m\u001b[0;34m\u001b[0m\u001b[0m\n\u001b[0;32m---> 88\u001b[0;31m                     \u001b[0;32mreturn\u001b[0m \u001b[0mfunc\u001b[0m\u001b[0;34m(\u001b[0m\u001b[0;34m*\u001b[0m\u001b[0margs\u001b[0m\u001b[0;34m,\u001b[0m \u001b[0;34m**\u001b[0m\u001b[0mkwargs\u001b[0m\u001b[0;34m)\u001b[0m\u001b[0;34m\u001b[0m\u001b[0;34m\u001b[0m\u001b[0m\n\u001b[0m\u001b[1;32m     89\u001b[0m             \u001b[0;32mreturn\u001b[0m \u001b[0mwrapper\u001b[0m\u001b[0;34m\u001b[0m\u001b[0;34m\u001b[0m\u001b[0m\n\u001b[1;32m     90\u001b[0m \u001b[0;34m\u001b[0m\u001b[0m\n",
            "\u001b[0;32m<ipython-input-4-cb04b56656b7>\u001b[0m in \u001b[0;36mstep\u001b[0;34m(self, closure)\u001b[0m\n\u001b[1;32m    202\u001b[0m                     \u001b[0;31m# No output, new values assigned inside the function\u001b[0m\u001b[0;34m\u001b[0m\u001b[0;34m\u001b[0m\u001b[0;34m\u001b[0m\u001b[0m\n\u001b[1;32m    203\u001b[0m                     qsl(param.data - state[\"global\"], state[\"memory\"],state[\"qsl_grad\"],\n\u001b[0;32m--> 204\u001b[0;31m                                                 topK_flag=top_k_sparsification, s=quantization_levels)\n\u001b[0m\u001b[1;32m    205\u001b[0m \u001b[0;34m\u001b[0m\u001b[0m\n\u001b[1;32m    206\u001b[0m \u001b[0;34m\u001b[0m\u001b[0m\n",
            "\u001b[0;32m<ipython-input-4-cb04b56656b7>\u001b[0m in \u001b[0;36mqsl\u001b[0;34m(eta_grad, memory, qsl_grad, topK_flag, s)\u001b[0m\n\u001b[1;32m    102\u001b[0m         \u001b[0mq\u001b[0m \u001b[0;34m=\u001b[0m \u001b[0mzero_tensor\u001b[0m\u001b[0;34m(\u001b[0m\u001b[0;34m)\u001b[0m\u001b[0;34m\u001b[0m\u001b[0;34m\u001b[0m\u001b[0m\n\u001b[1;32m    103\u001b[0m \u001b[0;34m\u001b[0m\u001b[0m\n\u001b[0;32m--> 104\u001b[0;31m     \u001b[0merr\u001b[0m \u001b[0;34m=\u001b[0m \u001b[0minput\u001b[0m \u001b[0;34m-\u001b[0m \u001b[0mq\u001b[0m\u001b[0;34m\u001b[0m\u001b[0;34m\u001b[0m\u001b[0m\n\u001b[0m\u001b[1;32m    105\u001b[0m \u001b[0;34m\u001b[0m\u001b[0m\n\u001b[1;32m    106\u001b[0m     \u001b[0;31m#print(\"\\n\\n input in qsl\",\"of shape\",input.size(),\"\\n\", torch.reshape(input, [-1])[:3])\u001b[0m\u001b[0;34m\u001b[0m\u001b[0;34m\u001b[0m\u001b[0;34m\u001b[0m\u001b[0m\n",
            "\u001b[0;31mKeyboardInterrupt\u001b[0m: "
          ]
        }
      ],
      "source": [
        "cc_list=[]\n",
        "loss_list=[]\n",
        "from __future__ import print_function\n",
        "import argparse\n",
        "import numpy as np\n",
        "import random\n",
        "import torch\n",
        "import torch.nn as nn\n",
        "import torch.nn.functional as F\n",
        "import torch.optim as optim\n",
        "from torchvision import datasets, transforms\n",
        "from torch.optim.lr_scheduler import StepLR\n",
        "import logging\n",
        "import bagua.torch_api as bagua\n",
        "import bagua_core \n",
        "import time\n",
        "\n",
        "bagua_core.install_deps()\n",
        "\n",
        "\n",
        "# Model for Neural Network\n",
        "class Net(nn.Module):\n",
        "    def __init__(self):\n",
        "        super(Net, self).__init__()\n",
        "        self.conv1 = nn.Conv2d(1, 32, 3, 1)\n",
        "        self.conv2 = nn.Conv2d(32, 64, 3, 1)\n",
        "        self.dropout1 = nn.Dropout(0.25)\n",
        "        self.dropout2 = nn.Dropout(0.5)\n",
        "        self.fc1 = nn.Linear(9216, 128)\n",
        "        self.fc2 = nn.Linear(128, 10)\n",
        "\n",
        "    def forward(self, x):\n",
        "        x = self.conv1(x)\n",
        "        x = F.relu(x)\n",
        "        x = self.conv2(x)\n",
        "        x = F.relu(x)\n",
        "        x = F.max_pool2d(x, 2)\n",
        "        x = self.dropout1(x)\n",
        "        x = torch.flatten(x, 1)\n",
        "        x = self.fc1(x)\n",
        "        x = F.relu(x)\n",
        "        x = self.dropout2(x)\n",
        "        x = self.fc2(x)\n",
        "        output = F.log_softmax(x, dim=1)\n",
        "        return output\n",
        "\n",
        "#------Training Model\n",
        "def train(args, model, train_loader, optimizer, epoch):\n",
        "    #??????? What does model.train() do exactly? Sets mode. \n",
        "    model.train()\n",
        "    for batch_idx, (data, target) in enumerate(train_loader):\n",
        "        #data: features , target: label\n",
        "        data, target = data.cuda(), target.cuda()\n",
        "        #Gradients are set back to zero here to avoid gradient accumulation\n",
        "        optimizer.zero_grad()\n",
        "        # Calculates predicted labels by using the model\n",
        "        output = model(data)\n",
        "        # Loss function using predicted labels and actual labels\n",
        "        loss = F.nll_loss(output, target)\n",
        "        # Backwards propagation    !!!calculates tensor loss gradient \n",
        "        loss.backward()\n",
        "        # Optimizer step selection\n",
        "        if args.fuse_optimizer:\n",
        "            optimizer.fuse_step()\n",
        "        else:\n",
        "            optimizer.step()\n",
        "        if batch_idx % args.log_interval == 0:\n",
        "            logging.info(\n",
        "                \"Train Epoch: {} [{}/{} ({:.0f}%)]\\tLoss: {:.6f}\".format(\n",
        "                    epoch,\n",
        "                    batch_idx * len(data),\n",
        "                    len(train_loader.dataset),\n",
        "                    100.0 * batch_idx / len(train_loader),\n",
        "                    loss.item(),\n",
        "                )\n",
        "            )\n",
        "\n",
        "\n",
        "def test(model, test_loader):\n",
        "    model.eval()\n",
        "    test_loss = 0\n",
        "    correct = 0\n",
        "    with torch.no_grad():\n",
        "        for data, target in test_loader:\n",
        "            data, target = data.cuda(), target.cuda()\n",
        "            output = model(data)\n",
        "            test_loss += F.nll_loss(\n",
        "                output, target, reduction=\"sum\"\n",
        "            ).item()  # sum up batch loss\n",
        "            pred = output.argmax(\n",
        "                dim=1, keepdim=True\n",
        "            )  # get the index of the max log-probability\n",
        "            correct += pred.eq(target.view_as(pred)).sum().item()\n",
        "\n",
        "    test_loss /= len(test_loader.dataset)\n",
        "\n",
        "    logging.info(\n",
        "        \"\\nTest set: Average loss: {:.4f}, Accuracy: {}/{} ({:.0f}%)\\n\".format(\n",
        "            test_loss,\n",
        "            correct,\n",
        "            len(test_loader.dataset),\n",
        "            100.0 * correct / len(test_loader.dataset),\n",
        "        )\n",
        "    )\n",
        "    return test_loss,correct\n",
        "\n",
        "\n",
        "def main():\n",
        "    # Training settings\n",
        "    parser = argparse.ArgumentParser(description=\"PyTorch MNIST Example\")\n",
        "    parser.add_argument(\n",
        "        \"--batch-size\",\n",
        "        type=int,\n",
        "        default=64,\n",
        "        metavar=\"N\",\n",
        "        help=\"input batch size for training (default: 64)\",\n",
        "    )\n",
        "    parser.add_argument(\n",
        "        \"--test-batch-size\",\n",
        "        type=int,\n",
        "        default=1000,\n",
        "        metavar=\"N\",\n",
        "        help=\"input batch size for testing (default: 1000)\",\n",
        "    )\n",
        "\n",
        "# set number of epochs here\n",
        "    parser.add_argument(\n",
        "        \"--epochs\",\n",
        "        type=int,\n",
        "        default=14,\n",
        "        metavar=\"N\",\n",
        "        help=\"number of epochs to train (default: 14)\",\n",
        "    )\n",
        "    parser.add_argument(\n",
        "        \"--lr\",\n",
        "        type=float,\n",
        "        default=1.0,\n",
        "        metavar=\"LR\",\n",
        "        help=\"learning rate (default: 1.0)\",\n",
        "    )\n",
        "    parser.add_argument(\n",
        "        \"--gamma\",\n",
        "        type=float,\n",
        "        default=0.7,\n",
        "        metavar=\"M\",\n",
        "        help=\"Learning rate step gamma (default: 0.7)\",\n",
        "    )\n",
        "    parser.add_argument(\n",
        "        \"--log-interval\",\n",
        "        type=int,\n",
        "        default=10,\n",
        "        metavar=\"N\",\n",
        "        help=\"how many batches to wait before logging training status\",\n",
        "    )\n",
        "    parser.add_argument(\n",
        "        \"--save-model\",\n",
        "        action=\"store_true\",\n",
        "        default=False,\n",
        "        help=\"For Saving the current Model\",\n",
        "    )\n",
        "\n",
        "    parser.add_argument(\n",
        "        \"--algorithm\",\n",
        "        type=str,\n",
        "        default=\"qsparselocal\",\n",
        "        help=\"gradient_allreduce, bytegrad, decentralized, low_precision_decentralized, qadam, async\",\n",
        "        #Add new algorithm for testing------------------\n",
        "    )\n",
        "\n",
        "\n",
        "\n",
        "    parser.add_argument(\n",
        "        \"--async-sync-interval\",\n",
        "        default=500,\n",
        "        type=int,\n",
        "        help=\"Model synchronization interval(ms) for async algorithm\",\n",
        "    )\n",
        "    parser.add_argument(\n",
        "        \"--set-deterministic\",\n",
        "        action=\"store_true\",\n",
        "        default=False,\n",
        "        help=\"set deterministic or not\",\n",
        "    )\n",
        "    parser.add_argument(\n",
        "        \"--fuse-optimizer\",\n",
        "        action=\"store_true\",\n",
        "        default=False,\n",
        "        help=\"fuse optimizer or not\",\n",
        "    )\n",
        "\n",
        "    #args = parser.parse_args() \n",
        "    # New line below solves ipykernel_launcher.py: error: unrecognized arguments\n",
        "    args, unknown = parser.parse_known_args()\n",
        "    \n",
        "    if args.set_deterministic:\n",
        "        print(\"set_deterministic: True\")\n",
        "        np.random.seed(666)\n",
        "        random.seed(666)\n",
        "        torch.backends.cudnn.benchmark = False\n",
        "        torch.backends.cudnn.deterministic = True\n",
        "        torch.manual_seed(666)\n",
        "        torch.cuda.manual_seed_all(666 + int(bagua.get_rank()))\n",
        "        torch.set_printoptions(precision=10)\n",
        "\n",
        "    torch.cuda.set_device(bagua.get_local_rank())\n",
        "    bagua.init_process_group()\n",
        "\n",
        "\n",
        "\n",
        "    logging.basicConfig(format=\"%(levelname)s:%(message)s\", level=logging.ERROR)\n",
        "    if bagua.get_rank() == 0:\n",
        "        logging.getLogger().setLevel(logging.INFO)\n",
        "\n",
        "    train_kwargs = {\"batch_size\": args.batch_size}\n",
        "    test_kwargs = {\"batch_size\": args.test_batch_size}\n",
        "    cuda_kwargs = {\"num_workers\": 1, \"pin_memory\": True, \"shuffle\": True}\n",
        "    train_kwargs.update(cuda_kwargs)\n",
        "    test_kwargs.update(cuda_kwargs)\n",
        "\n",
        "    transform = transforms.Compose(\n",
        "        [transforms.ToTensor(), transforms.Normalize((0.1307,), (0.3081,))]\n",
        "    )\n",
        "\n",
        "    if bagua.get_local_rank() == 0:\n",
        "        dataset1 = datasets.MNIST(\n",
        "            \"../data\", train=True, download=True, transform=transform\n",
        "        )\n",
        "        torch.distributed.barrier()\n",
        "    else:\n",
        "        torch.distributed.barrier()\n",
        "        dataset1 = datasets.MNIST(\n",
        "            \"../data\", train=True, download=True, transform=transform\n",
        "        )\n",
        "\n",
        "    dataset2 = datasets.MNIST(\"../data\", train=False, transform=transform)\n",
        "    train_sampler = torch.utils.data.distributed.DistributedSampler(\n",
        "        dataset1, num_replicas=bagua.get_world_size(), rank=bagua.get_rank()\n",
        "    )\n",
        "    train_kwargs.update(\n",
        "        {\n",
        "            \"sampler\": train_sampler,\n",
        "            \"batch_size\": args.batch_size // bagua.get_world_size(),\n",
        "            \"shuffle\": False,\n",
        "        }\n",
        "    )\n",
        "    # Train and Test dataset\n",
        "    train_loader = torch.utils.data.DataLoader(dataset1, **train_kwargs)\n",
        "    test_loader = torch.utils.data.DataLoader(dataset2, **test_kwargs)\n",
        "\n",
        "    # ??????????  Throw the instantiation of the network onto the cuda dvice\n",
        "    model = Net().cuda()\n",
        "    optimizer = optim.Adadelta(model.parameters(), lr=args.lr)\n",
        "\n",
        "\n",
        "    if args.algorithm == \"gradient_allreduce\":\n",
        "        from bagua.torch_api.algorithms import gradient_allreduce\n",
        "\n",
        "        algorithm = gradient_allreduce.GradientAllReduceAlgorithm()\n",
        "    elif args.algorithm == \"decentralized\":\n",
        "        from bagua.torch_api.algorithms import decentralized\n",
        "\n",
        "        algorithm = decentralized.DecentralizedAlgorithm()\n",
        "    elif args.algorithm == \"low_precision_decentralized\":\n",
        "        from bagua.torch_api.algorithms import decentralized\n",
        "\n",
        "        algorithm = decentralized.LowPrecisionDecentralizedAlgorithm()\n",
        "    elif args.algorithm == \"bytegrad\":\n",
        "        from bagua.torch_api.algorithms import bytegrad\n",
        "\n",
        "        algorithm = bytegrad.ByteGradAlgorithm()\n",
        "    elif args.algorithm == \"qadam\":\n",
        "        from bagua.torch_api.algorithms import q_adam\n",
        "\n",
        "        optimizer = q_adam.QAdamOptimizer(\n",
        "            model.parameters(), lr=args.lr, warmup_steps=100\n",
        "        )\n",
        "        algorithm = q_adam.QAdamAlgorithm(optimizer)\n",
        "    #################################################################    \n",
        "    elif args.algorithm == \"qsparselocal\":\n",
        "        learning_rate = 0.01\n",
        "        # Set lower learning rate, no convergence for lr = 1\n",
        "        optimizer = QSparseLocalOptimizer(\n",
        "            model.parameters(), lr=learning_rate, schedule = 2\n",
        "        )\n",
        "        algorithm = QSparseLocalAlgorithm(optimizer)\n",
        "    elif args.algorithm == \"async\":\n",
        "        from bagua.torch_api.algorithms import async_model_average\n",
        "\n",
        "        algorithm = async_model_average.AsyncModelAverageAlgorithm(\n",
        "            sync_interval_ms=args.async_sync_interval,\n",
        "        )\n",
        "    else:\n",
        "        raise NotImplementedError\n",
        "\n",
        "    #  Model von Bagua\n",
        "    model = model.with_bagua(\n",
        "        [optimizer],\n",
        "        algorithm,\n",
        "        do_flatten=not args.fuse_optimizer,\n",
        "    )\n",
        "\n",
        "    # Optimizer from Bagua if args.fuse_optimizer==True\n",
        "    if args.fuse_optimizer:\n",
        "        optimizer = bagua.contrib.fuse_optimizer(optimizer)\n",
        "\n",
        "    #------------ Loss, accuracy\n",
        "    loss_list =[]\n",
        "    acc_list = []\n",
        "\n",
        "    scheduler = StepLR(optimizer, step_size=1, gamma=args.gamma)\n",
        "    \n",
        "    start = time.time()\n",
        "    for epoch in range(1, args.epochs + 1):\n",
        "        if args.algorithm == \"async\":\n",
        "            model.bagua_algorithm.resume(model)\n",
        "\n",
        "        train(args, model, train_loader, optimizer, epoch)\n",
        "\n",
        "        if args.algorithm == \"async\":\n",
        "            model.bagua_algorithm.abort(model)\n",
        "\n",
        "        new_loss,new_acc =test(model, test_loader)\n",
        "        loss_list.append(new_loss)\n",
        "        acc_list.append(new_acc/100.0)\n",
        "        scheduler.step()\n",
        "        ####\n",
        "        torch.cuda.empty_cache()\n",
        "\n",
        "    if args.save_model:\n",
        "        torch.save(model.state_dict(), \"mnist_cnn.pt\")\n",
        "\n",
        "    # Used for measuring the time taken for the epochs themselves\n",
        "    end = time.time()\n",
        "    print(\"Elapsed time:\",end-start)\n",
        "\n",
        "    import matplotlib.pyplot as plt\n",
        "\n",
        "    ep =[]\n",
        "\n",
        "\n",
        "    for i in range(1, args.epochs + 1):\n",
        "      ep.append(i)\n",
        "\n",
        "    print(\"Current quantization method:\",quantization_scheme)\n",
        "    print(\"Learning rate:\",learning_rate)\n",
        "    print(\"Loss:\",loss_list)\n",
        "    print(\"Accuracy:\",acc_list)\n",
        "    \n",
        "     \n",
        "\n",
        "    plt.figure(1)\n",
        "    plt.subplot(211)\n",
        "    plt.plot(ep,loss_list)\n",
        "    plt.subplot(212)\n",
        "    plt.plot(ep,acc_list)\n",
        "\n",
        "    plt.show()  \n",
        "    \n",
        "\n",
        "\n",
        "if __name__ == \"__main__\":\n",
        "    main()"
      ]
    },
    {
      "cell_type": "code",
      "execution_count": null,
      "metadata": {
        "id": "8rSo-g6qDIvE"
      },
      "outputs": [],
      "source": [
        "%tb"
      ]
    }
  ],
  "metadata": {
    "accelerator": "GPU",
    "colab": {
      "collapsed_sections": [],
      "name": "QSparseLocal_MNIST_5_5_comp_step_clean.ipynb",
      "provenance": [],
      "authorship_tag": "ABX9TyPfNAXMOMeJKn989slA+k2G",
      "include_colab_link": true
    },
    "kernelspec": {
      "display_name": "Python 3",
      "name": "python3"
    },
    "language_info": {
      "name": "python"
    },
    "widgets": {
      "application/vnd.jupyter.widget-state+json": {
        "8ecdeaad9cbd47d8bac63aa12973650a": {
          "model_module": "@jupyter-widgets/controls",
          "model_name": "HBoxModel",
          "model_module_version": "1.5.0",
          "state": {
            "_dom_classes": [],
            "_model_module": "@jupyter-widgets/controls",
            "_model_module_version": "1.5.0",
            "_model_name": "HBoxModel",
            "_view_count": null,
            "_view_module": "@jupyter-widgets/controls",
            "_view_module_version": "1.5.0",
            "_view_name": "HBoxView",
            "box_style": "",
            "children": [
              "IPY_MODEL_f6c8c82deb934fc183bbc98fef171f03",
              "IPY_MODEL_1378e227658448be97b4e4dcbadbb29a",
              "IPY_MODEL_31c139333f164a73a9bab091b29c9e2e"
            ],
            "layout": "IPY_MODEL_b78c1ffe481d4e5d97596252c5c8ce51"
          }
        },
        "f6c8c82deb934fc183bbc98fef171f03": {
          "model_module": "@jupyter-widgets/controls",
          "model_name": "HTMLModel",
          "model_module_version": "1.5.0",
          "state": {
            "_dom_classes": [],
            "_model_module": "@jupyter-widgets/controls",
            "_model_module_version": "1.5.0",
            "_model_name": "HTMLModel",
            "_view_count": null,
            "_view_module": "@jupyter-widgets/controls",
            "_view_module_version": "1.5.0",
            "_view_name": "HTMLView",
            "description": "",
            "description_tooltip": null,
            "layout": "IPY_MODEL_42b3a1bf3ddd4aa79a45f85bb5b5b8da",
            "placeholder": "​",
            "style": "IPY_MODEL_766be618dddd4f2d9b0f4178237f73ec",
            "value": ""
          }
        },
        "1378e227658448be97b4e4dcbadbb29a": {
          "model_module": "@jupyter-widgets/controls",
          "model_name": "FloatProgressModel",
          "model_module_version": "1.5.0",
          "state": {
            "_dom_classes": [],
            "_model_module": "@jupyter-widgets/controls",
            "_model_module_version": "1.5.0",
            "_model_name": "FloatProgressModel",
            "_view_count": null,
            "_view_module": "@jupyter-widgets/controls",
            "_view_module_version": "1.5.0",
            "_view_name": "ProgressView",
            "bar_style": "success",
            "description": "",
            "description_tooltip": null,
            "layout": "IPY_MODEL_3127a1cda3fa43c98483767fdabd33f6",
            "max": 9912422,
            "min": 0,
            "orientation": "horizontal",
            "style": "IPY_MODEL_bb3bc87eb4c44d5896bb6f85f17059a0",
            "value": 9912422
          }
        },
        "31c139333f164a73a9bab091b29c9e2e": {
          "model_module": "@jupyter-widgets/controls",
          "model_name": "HTMLModel",
          "model_module_version": "1.5.0",
          "state": {
            "_dom_classes": [],
            "_model_module": "@jupyter-widgets/controls",
            "_model_module_version": "1.5.0",
            "_model_name": "HTMLModel",
            "_view_count": null,
            "_view_module": "@jupyter-widgets/controls",
            "_view_module_version": "1.5.0",
            "_view_name": "HTMLView",
            "description": "",
            "description_tooltip": null,
            "layout": "IPY_MODEL_c597ebe29bd5469a8e4051174224b654",
            "placeholder": "​",
            "style": "IPY_MODEL_224d77424c3b425b92a325ef4da8bc0b",
            "value": " 9913344/? [00:00&lt;00:00, 53845499.18it/s]"
          }
        },
        "b78c1ffe481d4e5d97596252c5c8ce51": {
          "model_module": "@jupyter-widgets/base",
          "model_name": "LayoutModel",
          "model_module_version": "1.2.0",
          "state": {
            "_model_module": "@jupyter-widgets/base",
            "_model_module_version": "1.2.0",
            "_model_name": "LayoutModel",
            "_view_count": null,
            "_view_module": "@jupyter-widgets/base",
            "_view_module_version": "1.2.0",
            "_view_name": "LayoutView",
            "align_content": null,
            "align_items": null,
            "align_self": null,
            "border": null,
            "bottom": null,
            "display": null,
            "flex": null,
            "flex_flow": null,
            "grid_area": null,
            "grid_auto_columns": null,
            "grid_auto_flow": null,
            "grid_auto_rows": null,
            "grid_column": null,
            "grid_gap": null,
            "grid_row": null,
            "grid_template_areas": null,
            "grid_template_columns": null,
            "grid_template_rows": null,
            "height": null,
            "justify_content": null,
            "justify_items": null,
            "left": null,
            "margin": null,
            "max_height": null,
            "max_width": null,
            "min_height": null,
            "min_width": null,
            "object_fit": null,
            "object_position": null,
            "order": null,
            "overflow": null,
            "overflow_x": null,
            "overflow_y": null,
            "padding": null,
            "right": null,
            "top": null,
            "visibility": null,
            "width": null
          }
        },
        "42b3a1bf3ddd4aa79a45f85bb5b5b8da": {
          "model_module": "@jupyter-widgets/base",
          "model_name": "LayoutModel",
          "model_module_version": "1.2.0",
          "state": {
            "_model_module": "@jupyter-widgets/base",
            "_model_module_version": "1.2.0",
            "_model_name": "LayoutModel",
            "_view_count": null,
            "_view_module": "@jupyter-widgets/base",
            "_view_module_version": "1.2.0",
            "_view_name": "LayoutView",
            "align_content": null,
            "align_items": null,
            "align_self": null,
            "border": null,
            "bottom": null,
            "display": null,
            "flex": null,
            "flex_flow": null,
            "grid_area": null,
            "grid_auto_columns": null,
            "grid_auto_flow": null,
            "grid_auto_rows": null,
            "grid_column": null,
            "grid_gap": null,
            "grid_row": null,
            "grid_template_areas": null,
            "grid_template_columns": null,
            "grid_template_rows": null,
            "height": null,
            "justify_content": null,
            "justify_items": null,
            "left": null,
            "margin": null,
            "max_height": null,
            "max_width": null,
            "min_height": null,
            "min_width": null,
            "object_fit": null,
            "object_position": null,
            "order": null,
            "overflow": null,
            "overflow_x": null,
            "overflow_y": null,
            "padding": null,
            "right": null,
            "top": null,
            "visibility": null,
            "width": null
          }
        },
        "766be618dddd4f2d9b0f4178237f73ec": {
          "model_module": "@jupyter-widgets/controls",
          "model_name": "DescriptionStyleModel",
          "model_module_version": "1.5.0",
          "state": {
            "_model_module": "@jupyter-widgets/controls",
            "_model_module_version": "1.5.0",
            "_model_name": "DescriptionStyleModel",
            "_view_count": null,
            "_view_module": "@jupyter-widgets/base",
            "_view_module_version": "1.2.0",
            "_view_name": "StyleView",
            "description_width": ""
          }
        },
        "3127a1cda3fa43c98483767fdabd33f6": {
          "model_module": "@jupyter-widgets/base",
          "model_name": "LayoutModel",
          "model_module_version": "1.2.0",
          "state": {
            "_model_module": "@jupyter-widgets/base",
            "_model_module_version": "1.2.0",
            "_model_name": "LayoutModel",
            "_view_count": null,
            "_view_module": "@jupyter-widgets/base",
            "_view_module_version": "1.2.0",
            "_view_name": "LayoutView",
            "align_content": null,
            "align_items": null,
            "align_self": null,
            "border": null,
            "bottom": null,
            "display": null,
            "flex": null,
            "flex_flow": null,
            "grid_area": null,
            "grid_auto_columns": null,
            "grid_auto_flow": null,
            "grid_auto_rows": null,
            "grid_column": null,
            "grid_gap": null,
            "grid_row": null,
            "grid_template_areas": null,
            "grid_template_columns": null,
            "grid_template_rows": null,
            "height": null,
            "justify_content": null,
            "justify_items": null,
            "left": null,
            "margin": null,
            "max_height": null,
            "max_width": null,
            "min_height": null,
            "min_width": null,
            "object_fit": null,
            "object_position": null,
            "order": null,
            "overflow": null,
            "overflow_x": null,
            "overflow_y": null,
            "padding": null,
            "right": null,
            "top": null,
            "visibility": null,
            "width": null
          }
        },
        "bb3bc87eb4c44d5896bb6f85f17059a0": {
          "model_module": "@jupyter-widgets/controls",
          "model_name": "ProgressStyleModel",
          "model_module_version": "1.5.0",
          "state": {
            "_model_module": "@jupyter-widgets/controls",
            "_model_module_version": "1.5.0",
            "_model_name": "ProgressStyleModel",
            "_view_count": null,
            "_view_module": "@jupyter-widgets/base",
            "_view_module_version": "1.2.0",
            "_view_name": "StyleView",
            "bar_color": null,
            "description_width": ""
          }
        },
        "c597ebe29bd5469a8e4051174224b654": {
          "model_module": "@jupyter-widgets/base",
          "model_name": "LayoutModel",
          "model_module_version": "1.2.0",
          "state": {
            "_model_module": "@jupyter-widgets/base",
            "_model_module_version": "1.2.0",
            "_model_name": "LayoutModel",
            "_view_count": null,
            "_view_module": "@jupyter-widgets/base",
            "_view_module_version": "1.2.0",
            "_view_name": "LayoutView",
            "align_content": null,
            "align_items": null,
            "align_self": null,
            "border": null,
            "bottom": null,
            "display": null,
            "flex": null,
            "flex_flow": null,
            "grid_area": null,
            "grid_auto_columns": null,
            "grid_auto_flow": null,
            "grid_auto_rows": null,
            "grid_column": null,
            "grid_gap": null,
            "grid_row": null,
            "grid_template_areas": null,
            "grid_template_columns": null,
            "grid_template_rows": null,
            "height": null,
            "justify_content": null,
            "justify_items": null,
            "left": null,
            "margin": null,
            "max_height": null,
            "max_width": null,
            "min_height": null,
            "min_width": null,
            "object_fit": null,
            "object_position": null,
            "order": null,
            "overflow": null,
            "overflow_x": null,
            "overflow_y": null,
            "padding": null,
            "right": null,
            "top": null,
            "visibility": null,
            "width": null
          }
        },
        "224d77424c3b425b92a325ef4da8bc0b": {
          "model_module": "@jupyter-widgets/controls",
          "model_name": "DescriptionStyleModel",
          "model_module_version": "1.5.0",
          "state": {
            "_model_module": "@jupyter-widgets/controls",
            "_model_module_version": "1.5.0",
            "_model_name": "DescriptionStyleModel",
            "_view_count": null,
            "_view_module": "@jupyter-widgets/base",
            "_view_module_version": "1.2.0",
            "_view_name": "StyleView",
            "description_width": ""
          }
        },
        "184d8103f1db4e8eb1b6221c8e47e7ae": {
          "model_module": "@jupyter-widgets/controls",
          "model_name": "HBoxModel",
          "model_module_version": "1.5.0",
          "state": {
            "_dom_classes": [],
            "_model_module": "@jupyter-widgets/controls",
            "_model_module_version": "1.5.0",
            "_model_name": "HBoxModel",
            "_view_count": null,
            "_view_module": "@jupyter-widgets/controls",
            "_view_module_version": "1.5.0",
            "_view_name": "HBoxView",
            "box_style": "",
            "children": [
              "IPY_MODEL_6e9287ae0090442a935058a3c23cb3bb",
              "IPY_MODEL_63c9189207cc4b979a7299a442961eda",
              "IPY_MODEL_dbb7c7d48fd14c71927cc5e3bc28408e"
            ],
            "layout": "IPY_MODEL_51506abd8d1947abb72036c1aa1ce6c2"
          }
        },
        "6e9287ae0090442a935058a3c23cb3bb": {
          "model_module": "@jupyter-widgets/controls",
          "model_name": "HTMLModel",
          "model_module_version": "1.5.0",
          "state": {
            "_dom_classes": [],
            "_model_module": "@jupyter-widgets/controls",
            "_model_module_version": "1.5.0",
            "_model_name": "HTMLModel",
            "_view_count": null,
            "_view_module": "@jupyter-widgets/controls",
            "_view_module_version": "1.5.0",
            "_view_name": "HTMLView",
            "description": "",
            "description_tooltip": null,
            "layout": "IPY_MODEL_a78f7c00f3dc49cdb23c2f9d908200ed",
            "placeholder": "​",
            "style": "IPY_MODEL_b48810b65eda4dceb6b5ec7465e270ea",
            "value": ""
          }
        },
        "63c9189207cc4b979a7299a442961eda": {
          "model_module": "@jupyter-widgets/controls",
          "model_name": "FloatProgressModel",
          "model_module_version": "1.5.0",
          "state": {
            "_dom_classes": [],
            "_model_module": "@jupyter-widgets/controls",
            "_model_module_version": "1.5.0",
            "_model_name": "FloatProgressModel",
            "_view_count": null,
            "_view_module": "@jupyter-widgets/controls",
            "_view_module_version": "1.5.0",
            "_view_name": "ProgressView",
            "bar_style": "success",
            "description": "",
            "description_tooltip": null,
            "layout": "IPY_MODEL_0533eb5ca00b4f109bd0b7280a308a4f",
            "max": 28881,
            "min": 0,
            "orientation": "horizontal",
            "style": "IPY_MODEL_7e81415d9543463295c3da0a548c875a",
            "value": 28881
          }
        },
        "dbb7c7d48fd14c71927cc5e3bc28408e": {
          "model_module": "@jupyter-widgets/controls",
          "model_name": "HTMLModel",
          "model_module_version": "1.5.0",
          "state": {
            "_dom_classes": [],
            "_model_module": "@jupyter-widgets/controls",
            "_model_module_version": "1.5.0",
            "_model_name": "HTMLModel",
            "_view_count": null,
            "_view_module": "@jupyter-widgets/controls",
            "_view_module_version": "1.5.0",
            "_view_name": "HTMLView",
            "description": "",
            "description_tooltip": null,
            "layout": "IPY_MODEL_e87a448c3733454782bb84cd18fcf58f",
            "placeholder": "​",
            "style": "IPY_MODEL_bb15ae32a1574a17b6b4cb43a7fa702f",
            "value": " 29696/? [00:00&lt;00:00, 721935.29it/s]"
          }
        },
        "51506abd8d1947abb72036c1aa1ce6c2": {
          "model_module": "@jupyter-widgets/base",
          "model_name": "LayoutModel",
          "model_module_version": "1.2.0",
          "state": {
            "_model_module": "@jupyter-widgets/base",
            "_model_module_version": "1.2.0",
            "_model_name": "LayoutModel",
            "_view_count": null,
            "_view_module": "@jupyter-widgets/base",
            "_view_module_version": "1.2.0",
            "_view_name": "LayoutView",
            "align_content": null,
            "align_items": null,
            "align_self": null,
            "border": null,
            "bottom": null,
            "display": null,
            "flex": null,
            "flex_flow": null,
            "grid_area": null,
            "grid_auto_columns": null,
            "grid_auto_flow": null,
            "grid_auto_rows": null,
            "grid_column": null,
            "grid_gap": null,
            "grid_row": null,
            "grid_template_areas": null,
            "grid_template_columns": null,
            "grid_template_rows": null,
            "height": null,
            "justify_content": null,
            "justify_items": null,
            "left": null,
            "margin": null,
            "max_height": null,
            "max_width": null,
            "min_height": null,
            "min_width": null,
            "object_fit": null,
            "object_position": null,
            "order": null,
            "overflow": null,
            "overflow_x": null,
            "overflow_y": null,
            "padding": null,
            "right": null,
            "top": null,
            "visibility": null,
            "width": null
          }
        },
        "a78f7c00f3dc49cdb23c2f9d908200ed": {
          "model_module": "@jupyter-widgets/base",
          "model_name": "LayoutModel",
          "model_module_version": "1.2.0",
          "state": {
            "_model_module": "@jupyter-widgets/base",
            "_model_module_version": "1.2.0",
            "_model_name": "LayoutModel",
            "_view_count": null,
            "_view_module": "@jupyter-widgets/base",
            "_view_module_version": "1.2.0",
            "_view_name": "LayoutView",
            "align_content": null,
            "align_items": null,
            "align_self": null,
            "border": null,
            "bottom": null,
            "display": null,
            "flex": null,
            "flex_flow": null,
            "grid_area": null,
            "grid_auto_columns": null,
            "grid_auto_flow": null,
            "grid_auto_rows": null,
            "grid_column": null,
            "grid_gap": null,
            "grid_row": null,
            "grid_template_areas": null,
            "grid_template_columns": null,
            "grid_template_rows": null,
            "height": null,
            "justify_content": null,
            "justify_items": null,
            "left": null,
            "margin": null,
            "max_height": null,
            "max_width": null,
            "min_height": null,
            "min_width": null,
            "object_fit": null,
            "object_position": null,
            "order": null,
            "overflow": null,
            "overflow_x": null,
            "overflow_y": null,
            "padding": null,
            "right": null,
            "top": null,
            "visibility": null,
            "width": null
          }
        },
        "b48810b65eda4dceb6b5ec7465e270ea": {
          "model_module": "@jupyter-widgets/controls",
          "model_name": "DescriptionStyleModel",
          "model_module_version": "1.5.0",
          "state": {
            "_model_module": "@jupyter-widgets/controls",
            "_model_module_version": "1.5.0",
            "_model_name": "DescriptionStyleModel",
            "_view_count": null,
            "_view_module": "@jupyter-widgets/base",
            "_view_module_version": "1.2.0",
            "_view_name": "StyleView",
            "description_width": ""
          }
        },
        "0533eb5ca00b4f109bd0b7280a308a4f": {
          "model_module": "@jupyter-widgets/base",
          "model_name": "LayoutModel",
          "model_module_version": "1.2.0",
          "state": {
            "_model_module": "@jupyter-widgets/base",
            "_model_module_version": "1.2.0",
            "_model_name": "LayoutModel",
            "_view_count": null,
            "_view_module": "@jupyter-widgets/base",
            "_view_module_version": "1.2.0",
            "_view_name": "LayoutView",
            "align_content": null,
            "align_items": null,
            "align_self": null,
            "border": null,
            "bottom": null,
            "display": null,
            "flex": null,
            "flex_flow": null,
            "grid_area": null,
            "grid_auto_columns": null,
            "grid_auto_flow": null,
            "grid_auto_rows": null,
            "grid_column": null,
            "grid_gap": null,
            "grid_row": null,
            "grid_template_areas": null,
            "grid_template_columns": null,
            "grid_template_rows": null,
            "height": null,
            "justify_content": null,
            "justify_items": null,
            "left": null,
            "margin": null,
            "max_height": null,
            "max_width": null,
            "min_height": null,
            "min_width": null,
            "object_fit": null,
            "object_position": null,
            "order": null,
            "overflow": null,
            "overflow_x": null,
            "overflow_y": null,
            "padding": null,
            "right": null,
            "top": null,
            "visibility": null,
            "width": null
          }
        },
        "7e81415d9543463295c3da0a548c875a": {
          "model_module": "@jupyter-widgets/controls",
          "model_name": "ProgressStyleModel",
          "model_module_version": "1.5.0",
          "state": {
            "_model_module": "@jupyter-widgets/controls",
            "_model_module_version": "1.5.0",
            "_model_name": "ProgressStyleModel",
            "_view_count": null,
            "_view_module": "@jupyter-widgets/base",
            "_view_module_version": "1.2.0",
            "_view_name": "StyleView",
            "bar_color": null,
            "description_width": ""
          }
        },
        "e87a448c3733454782bb84cd18fcf58f": {
          "model_module": "@jupyter-widgets/base",
          "model_name": "LayoutModel",
          "model_module_version": "1.2.0",
          "state": {
            "_model_module": "@jupyter-widgets/base",
            "_model_module_version": "1.2.0",
            "_model_name": "LayoutModel",
            "_view_count": null,
            "_view_module": "@jupyter-widgets/base",
            "_view_module_version": "1.2.0",
            "_view_name": "LayoutView",
            "align_content": null,
            "align_items": null,
            "align_self": null,
            "border": null,
            "bottom": null,
            "display": null,
            "flex": null,
            "flex_flow": null,
            "grid_area": null,
            "grid_auto_columns": null,
            "grid_auto_flow": null,
            "grid_auto_rows": null,
            "grid_column": null,
            "grid_gap": null,
            "grid_row": null,
            "grid_template_areas": null,
            "grid_template_columns": null,
            "grid_template_rows": null,
            "height": null,
            "justify_content": null,
            "justify_items": null,
            "left": null,
            "margin": null,
            "max_height": null,
            "max_width": null,
            "min_height": null,
            "min_width": null,
            "object_fit": null,
            "object_position": null,
            "order": null,
            "overflow": null,
            "overflow_x": null,
            "overflow_y": null,
            "padding": null,
            "right": null,
            "top": null,
            "visibility": null,
            "width": null
          }
        },
        "bb15ae32a1574a17b6b4cb43a7fa702f": {
          "model_module": "@jupyter-widgets/controls",
          "model_name": "DescriptionStyleModel",
          "model_module_version": "1.5.0",
          "state": {
            "_model_module": "@jupyter-widgets/controls",
            "_model_module_version": "1.5.0",
            "_model_name": "DescriptionStyleModel",
            "_view_count": null,
            "_view_module": "@jupyter-widgets/base",
            "_view_module_version": "1.2.0",
            "_view_name": "StyleView",
            "description_width": ""
          }
        },
        "a80393f1641648898eb0617851ed2c09": {
          "model_module": "@jupyter-widgets/controls",
          "model_name": "HBoxModel",
          "model_module_version": "1.5.0",
          "state": {
            "_dom_classes": [],
            "_model_module": "@jupyter-widgets/controls",
            "_model_module_version": "1.5.0",
            "_model_name": "HBoxModel",
            "_view_count": null,
            "_view_module": "@jupyter-widgets/controls",
            "_view_module_version": "1.5.0",
            "_view_name": "HBoxView",
            "box_style": "",
            "children": [
              "IPY_MODEL_a528f891ef3d4836b09659a18efc4d53",
              "IPY_MODEL_50bd5672e8474f6c90f59e987000afaa",
              "IPY_MODEL_3ba0b0c5f7964f19acb9fef9f5b336b6"
            ],
            "layout": "IPY_MODEL_7ff0fb4728e24468b762bda4a4efad9f"
          }
        },
        "a528f891ef3d4836b09659a18efc4d53": {
          "model_module": "@jupyter-widgets/controls",
          "model_name": "HTMLModel",
          "model_module_version": "1.5.0",
          "state": {
            "_dom_classes": [],
            "_model_module": "@jupyter-widgets/controls",
            "_model_module_version": "1.5.0",
            "_model_name": "HTMLModel",
            "_view_count": null,
            "_view_module": "@jupyter-widgets/controls",
            "_view_module_version": "1.5.0",
            "_view_name": "HTMLView",
            "description": "",
            "description_tooltip": null,
            "layout": "IPY_MODEL_7d585d5b600f4f82a95c5f616e0438d2",
            "placeholder": "​",
            "style": "IPY_MODEL_c58817a9c5694d888a9fa1d855eea1c9",
            "value": ""
          }
        },
        "50bd5672e8474f6c90f59e987000afaa": {
          "model_module": "@jupyter-widgets/controls",
          "model_name": "FloatProgressModel",
          "model_module_version": "1.5.0",
          "state": {
            "_dom_classes": [],
            "_model_module": "@jupyter-widgets/controls",
            "_model_module_version": "1.5.0",
            "_model_name": "FloatProgressModel",
            "_view_count": null,
            "_view_module": "@jupyter-widgets/controls",
            "_view_module_version": "1.5.0",
            "_view_name": "ProgressView",
            "bar_style": "success",
            "description": "",
            "description_tooltip": null,
            "layout": "IPY_MODEL_c4034cbe6045455cb5fe9ab5a51d8e53",
            "max": 1648877,
            "min": 0,
            "orientation": "horizontal",
            "style": "IPY_MODEL_08ecabe870e945c0990ef2830a52d817",
            "value": 1648877
          }
        },
        "3ba0b0c5f7964f19acb9fef9f5b336b6": {
          "model_module": "@jupyter-widgets/controls",
          "model_name": "HTMLModel",
          "model_module_version": "1.5.0",
          "state": {
            "_dom_classes": [],
            "_model_module": "@jupyter-widgets/controls",
            "_model_module_version": "1.5.0",
            "_model_name": "HTMLModel",
            "_view_count": null,
            "_view_module": "@jupyter-widgets/controls",
            "_view_module_version": "1.5.0",
            "_view_name": "HTMLView",
            "description": "",
            "description_tooltip": null,
            "layout": "IPY_MODEL_658b9f78439c457384258165fa968c3c",
            "placeholder": "​",
            "style": "IPY_MODEL_2d8a78183df046238d892e6b0910d69d",
            "value": " 1649664/? [00:00&lt;00:00, 18015821.18it/s]"
          }
        },
        "7ff0fb4728e24468b762bda4a4efad9f": {
          "model_module": "@jupyter-widgets/base",
          "model_name": "LayoutModel",
          "model_module_version": "1.2.0",
          "state": {
            "_model_module": "@jupyter-widgets/base",
            "_model_module_version": "1.2.0",
            "_model_name": "LayoutModel",
            "_view_count": null,
            "_view_module": "@jupyter-widgets/base",
            "_view_module_version": "1.2.0",
            "_view_name": "LayoutView",
            "align_content": null,
            "align_items": null,
            "align_self": null,
            "border": null,
            "bottom": null,
            "display": null,
            "flex": null,
            "flex_flow": null,
            "grid_area": null,
            "grid_auto_columns": null,
            "grid_auto_flow": null,
            "grid_auto_rows": null,
            "grid_column": null,
            "grid_gap": null,
            "grid_row": null,
            "grid_template_areas": null,
            "grid_template_columns": null,
            "grid_template_rows": null,
            "height": null,
            "justify_content": null,
            "justify_items": null,
            "left": null,
            "margin": null,
            "max_height": null,
            "max_width": null,
            "min_height": null,
            "min_width": null,
            "object_fit": null,
            "object_position": null,
            "order": null,
            "overflow": null,
            "overflow_x": null,
            "overflow_y": null,
            "padding": null,
            "right": null,
            "top": null,
            "visibility": null,
            "width": null
          }
        },
        "7d585d5b600f4f82a95c5f616e0438d2": {
          "model_module": "@jupyter-widgets/base",
          "model_name": "LayoutModel",
          "model_module_version": "1.2.0",
          "state": {
            "_model_module": "@jupyter-widgets/base",
            "_model_module_version": "1.2.0",
            "_model_name": "LayoutModel",
            "_view_count": null,
            "_view_module": "@jupyter-widgets/base",
            "_view_module_version": "1.2.0",
            "_view_name": "LayoutView",
            "align_content": null,
            "align_items": null,
            "align_self": null,
            "border": null,
            "bottom": null,
            "display": null,
            "flex": null,
            "flex_flow": null,
            "grid_area": null,
            "grid_auto_columns": null,
            "grid_auto_flow": null,
            "grid_auto_rows": null,
            "grid_column": null,
            "grid_gap": null,
            "grid_row": null,
            "grid_template_areas": null,
            "grid_template_columns": null,
            "grid_template_rows": null,
            "height": null,
            "justify_content": null,
            "justify_items": null,
            "left": null,
            "margin": null,
            "max_height": null,
            "max_width": null,
            "min_height": null,
            "min_width": null,
            "object_fit": null,
            "object_position": null,
            "order": null,
            "overflow": null,
            "overflow_x": null,
            "overflow_y": null,
            "padding": null,
            "right": null,
            "top": null,
            "visibility": null,
            "width": null
          }
        },
        "c58817a9c5694d888a9fa1d855eea1c9": {
          "model_module": "@jupyter-widgets/controls",
          "model_name": "DescriptionStyleModel",
          "model_module_version": "1.5.0",
          "state": {
            "_model_module": "@jupyter-widgets/controls",
            "_model_module_version": "1.5.0",
            "_model_name": "DescriptionStyleModel",
            "_view_count": null,
            "_view_module": "@jupyter-widgets/base",
            "_view_module_version": "1.2.0",
            "_view_name": "StyleView",
            "description_width": ""
          }
        },
        "c4034cbe6045455cb5fe9ab5a51d8e53": {
          "model_module": "@jupyter-widgets/base",
          "model_name": "LayoutModel",
          "model_module_version": "1.2.0",
          "state": {
            "_model_module": "@jupyter-widgets/base",
            "_model_module_version": "1.2.0",
            "_model_name": "LayoutModel",
            "_view_count": null,
            "_view_module": "@jupyter-widgets/base",
            "_view_module_version": "1.2.0",
            "_view_name": "LayoutView",
            "align_content": null,
            "align_items": null,
            "align_self": null,
            "border": null,
            "bottom": null,
            "display": null,
            "flex": null,
            "flex_flow": null,
            "grid_area": null,
            "grid_auto_columns": null,
            "grid_auto_flow": null,
            "grid_auto_rows": null,
            "grid_column": null,
            "grid_gap": null,
            "grid_row": null,
            "grid_template_areas": null,
            "grid_template_columns": null,
            "grid_template_rows": null,
            "height": null,
            "justify_content": null,
            "justify_items": null,
            "left": null,
            "margin": null,
            "max_height": null,
            "max_width": null,
            "min_height": null,
            "min_width": null,
            "object_fit": null,
            "object_position": null,
            "order": null,
            "overflow": null,
            "overflow_x": null,
            "overflow_y": null,
            "padding": null,
            "right": null,
            "top": null,
            "visibility": null,
            "width": null
          }
        },
        "08ecabe870e945c0990ef2830a52d817": {
          "model_module": "@jupyter-widgets/controls",
          "model_name": "ProgressStyleModel",
          "model_module_version": "1.5.0",
          "state": {
            "_model_module": "@jupyter-widgets/controls",
            "_model_module_version": "1.5.0",
            "_model_name": "ProgressStyleModel",
            "_view_count": null,
            "_view_module": "@jupyter-widgets/base",
            "_view_module_version": "1.2.0",
            "_view_name": "StyleView",
            "bar_color": null,
            "description_width": ""
          }
        },
        "658b9f78439c457384258165fa968c3c": {
          "model_module": "@jupyter-widgets/base",
          "model_name": "LayoutModel",
          "model_module_version": "1.2.0",
          "state": {
            "_model_module": "@jupyter-widgets/base",
            "_model_module_version": "1.2.0",
            "_model_name": "LayoutModel",
            "_view_count": null,
            "_view_module": "@jupyter-widgets/base",
            "_view_module_version": "1.2.0",
            "_view_name": "LayoutView",
            "align_content": null,
            "align_items": null,
            "align_self": null,
            "border": null,
            "bottom": null,
            "display": null,
            "flex": null,
            "flex_flow": null,
            "grid_area": null,
            "grid_auto_columns": null,
            "grid_auto_flow": null,
            "grid_auto_rows": null,
            "grid_column": null,
            "grid_gap": null,
            "grid_row": null,
            "grid_template_areas": null,
            "grid_template_columns": null,
            "grid_template_rows": null,
            "height": null,
            "justify_content": null,
            "justify_items": null,
            "left": null,
            "margin": null,
            "max_height": null,
            "max_width": null,
            "min_height": null,
            "min_width": null,
            "object_fit": null,
            "object_position": null,
            "order": null,
            "overflow": null,
            "overflow_x": null,
            "overflow_y": null,
            "padding": null,
            "right": null,
            "top": null,
            "visibility": null,
            "width": null
          }
        },
        "2d8a78183df046238d892e6b0910d69d": {
          "model_module": "@jupyter-widgets/controls",
          "model_name": "DescriptionStyleModel",
          "model_module_version": "1.5.0",
          "state": {
            "_model_module": "@jupyter-widgets/controls",
            "_model_module_version": "1.5.0",
            "_model_name": "DescriptionStyleModel",
            "_view_count": null,
            "_view_module": "@jupyter-widgets/base",
            "_view_module_version": "1.2.0",
            "_view_name": "StyleView",
            "description_width": ""
          }
        },
        "b826775e72e249acafe0a668c5edf14a": {
          "model_module": "@jupyter-widgets/controls",
          "model_name": "HBoxModel",
          "model_module_version": "1.5.0",
          "state": {
            "_dom_classes": [],
            "_model_module": "@jupyter-widgets/controls",
            "_model_module_version": "1.5.0",
            "_model_name": "HBoxModel",
            "_view_count": null,
            "_view_module": "@jupyter-widgets/controls",
            "_view_module_version": "1.5.0",
            "_view_name": "HBoxView",
            "box_style": "",
            "children": [
              "IPY_MODEL_a2a94f9f76594bfcb8ed89a517ee2a51",
              "IPY_MODEL_37b3b003929b496faa467bb4ed8b8296",
              "IPY_MODEL_093cb865f64d40c98395611385ca3186"
            ],
            "layout": "IPY_MODEL_8cab8f8ba9234adea3a6121c1d99be9d"
          }
        },
        "a2a94f9f76594bfcb8ed89a517ee2a51": {
          "model_module": "@jupyter-widgets/controls",
          "model_name": "HTMLModel",
          "model_module_version": "1.5.0",
          "state": {
            "_dom_classes": [],
            "_model_module": "@jupyter-widgets/controls",
            "_model_module_version": "1.5.0",
            "_model_name": "HTMLModel",
            "_view_count": null,
            "_view_module": "@jupyter-widgets/controls",
            "_view_module_version": "1.5.0",
            "_view_name": "HTMLView",
            "description": "",
            "description_tooltip": null,
            "layout": "IPY_MODEL_1ec0e44391d74f7083bbf08f352a0961",
            "placeholder": "​",
            "style": "IPY_MODEL_aad61096bdf443d6b56bf20d6f486fd1",
            "value": ""
          }
        },
        "37b3b003929b496faa467bb4ed8b8296": {
          "model_module": "@jupyter-widgets/controls",
          "model_name": "FloatProgressModel",
          "model_module_version": "1.5.0",
          "state": {
            "_dom_classes": [],
            "_model_module": "@jupyter-widgets/controls",
            "_model_module_version": "1.5.0",
            "_model_name": "FloatProgressModel",
            "_view_count": null,
            "_view_module": "@jupyter-widgets/controls",
            "_view_module_version": "1.5.0",
            "_view_name": "ProgressView",
            "bar_style": "success",
            "description": "",
            "description_tooltip": null,
            "layout": "IPY_MODEL_7436e68a0e3643dc96cfb76f9f3bac19",
            "max": 4542,
            "min": 0,
            "orientation": "horizontal",
            "style": "IPY_MODEL_cb48784a8d0841a791e4a1f58571b973",
            "value": 4542
          }
        },
        "093cb865f64d40c98395611385ca3186": {
          "model_module": "@jupyter-widgets/controls",
          "model_name": "HTMLModel",
          "model_module_version": "1.5.0",
          "state": {
            "_dom_classes": [],
            "_model_module": "@jupyter-widgets/controls",
            "_model_module_version": "1.5.0",
            "_model_name": "HTMLModel",
            "_view_count": null,
            "_view_module": "@jupyter-widgets/controls",
            "_view_module_version": "1.5.0",
            "_view_name": "HTMLView",
            "description": "",
            "description_tooltip": null,
            "layout": "IPY_MODEL_710dee6beed04908ae694bacd084d6c4",
            "placeholder": "​",
            "style": "IPY_MODEL_5584948198894e0a807865d0b959cbd5",
            "value": " 5120/? [00:00&lt;00:00, 140604.70it/s]"
          }
        },
        "8cab8f8ba9234adea3a6121c1d99be9d": {
          "model_module": "@jupyter-widgets/base",
          "model_name": "LayoutModel",
          "model_module_version": "1.2.0",
          "state": {
            "_model_module": "@jupyter-widgets/base",
            "_model_module_version": "1.2.0",
            "_model_name": "LayoutModel",
            "_view_count": null,
            "_view_module": "@jupyter-widgets/base",
            "_view_module_version": "1.2.0",
            "_view_name": "LayoutView",
            "align_content": null,
            "align_items": null,
            "align_self": null,
            "border": null,
            "bottom": null,
            "display": null,
            "flex": null,
            "flex_flow": null,
            "grid_area": null,
            "grid_auto_columns": null,
            "grid_auto_flow": null,
            "grid_auto_rows": null,
            "grid_column": null,
            "grid_gap": null,
            "grid_row": null,
            "grid_template_areas": null,
            "grid_template_columns": null,
            "grid_template_rows": null,
            "height": null,
            "justify_content": null,
            "justify_items": null,
            "left": null,
            "margin": null,
            "max_height": null,
            "max_width": null,
            "min_height": null,
            "min_width": null,
            "object_fit": null,
            "object_position": null,
            "order": null,
            "overflow": null,
            "overflow_x": null,
            "overflow_y": null,
            "padding": null,
            "right": null,
            "top": null,
            "visibility": null,
            "width": null
          }
        },
        "1ec0e44391d74f7083bbf08f352a0961": {
          "model_module": "@jupyter-widgets/base",
          "model_name": "LayoutModel",
          "model_module_version": "1.2.0",
          "state": {
            "_model_module": "@jupyter-widgets/base",
            "_model_module_version": "1.2.0",
            "_model_name": "LayoutModel",
            "_view_count": null,
            "_view_module": "@jupyter-widgets/base",
            "_view_module_version": "1.2.0",
            "_view_name": "LayoutView",
            "align_content": null,
            "align_items": null,
            "align_self": null,
            "border": null,
            "bottom": null,
            "display": null,
            "flex": null,
            "flex_flow": null,
            "grid_area": null,
            "grid_auto_columns": null,
            "grid_auto_flow": null,
            "grid_auto_rows": null,
            "grid_column": null,
            "grid_gap": null,
            "grid_row": null,
            "grid_template_areas": null,
            "grid_template_columns": null,
            "grid_template_rows": null,
            "height": null,
            "justify_content": null,
            "justify_items": null,
            "left": null,
            "margin": null,
            "max_height": null,
            "max_width": null,
            "min_height": null,
            "min_width": null,
            "object_fit": null,
            "object_position": null,
            "order": null,
            "overflow": null,
            "overflow_x": null,
            "overflow_y": null,
            "padding": null,
            "right": null,
            "top": null,
            "visibility": null,
            "width": null
          }
        },
        "aad61096bdf443d6b56bf20d6f486fd1": {
          "model_module": "@jupyter-widgets/controls",
          "model_name": "DescriptionStyleModel",
          "model_module_version": "1.5.0",
          "state": {
            "_model_module": "@jupyter-widgets/controls",
            "_model_module_version": "1.5.0",
            "_model_name": "DescriptionStyleModel",
            "_view_count": null,
            "_view_module": "@jupyter-widgets/base",
            "_view_module_version": "1.2.0",
            "_view_name": "StyleView",
            "description_width": ""
          }
        },
        "7436e68a0e3643dc96cfb76f9f3bac19": {
          "model_module": "@jupyter-widgets/base",
          "model_name": "LayoutModel",
          "model_module_version": "1.2.0",
          "state": {
            "_model_module": "@jupyter-widgets/base",
            "_model_module_version": "1.2.0",
            "_model_name": "LayoutModel",
            "_view_count": null,
            "_view_module": "@jupyter-widgets/base",
            "_view_module_version": "1.2.0",
            "_view_name": "LayoutView",
            "align_content": null,
            "align_items": null,
            "align_self": null,
            "border": null,
            "bottom": null,
            "display": null,
            "flex": null,
            "flex_flow": null,
            "grid_area": null,
            "grid_auto_columns": null,
            "grid_auto_flow": null,
            "grid_auto_rows": null,
            "grid_column": null,
            "grid_gap": null,
            "grid_row": null,
            "grid_template_areas": null,
            "grid_template_columns": null,
            "grid_template_rows": null,
            "height": null,
            "justify_content": null,
            "justify_items": null,
            "left": null,
            "margin": null,
            "max_height": null,
            "max_width": null,
            "min_height": null,
            "min_width": null,
            "object_fit": null,
            "object_position": null,
            "order": null,
            "overflow": null,
            "overflow_x": null,
            "overflow_y": null,
            "padding": null,
            "right": null,
            "top": null,
            "visibility": null,
            "width": null
          }
        },
        "cb48784a8d0841a791e4a1f58571b973": {
          "model_module": "@jupyter-widgets/controls",
          "model_name": "ProgressStyleModel",
          "model_module_version": "1.5.0",
          "state": {
            "_model_module": "@jupyter-widgets/controls",
            "_model_module_version": "1.5.0",
            "_model_name": "ProgressStyleModel",
            "_view_count": null,
            "_view_module": "@jupyter-widgets/base",
            "_view_module_version": "1.2.0",
            "_view_name": "StyleView",
            "bar_color": null,
            "description_width": ""
          }
        },
        "710dee6beed04908ae694bacd084d6c4": {
          "model_module": "@jupyter-widgets/base",
          "model_name": "LayoutModel",
          "model_module_version": "1.2.0",
          "state": {
            "_model_module": "@jupyter-widgets/base",
            "_model_module_version": "1.2.0",
            "_model_name": "LayoutModel",
            "_view_count": null,
            "_view_module": "@jupyter-widgets/base",
            "_view_module_version": "1.2.0",
            "_view_name": "LayoutView",
            "align_content": null,
            "align_items": null,
            "align_self": null,
            "border": null,
            "bottom": null,
            "display": null,
            "flex": null,
            "flex_flow": null,
            "grid_area": null,
            "grid_auto_columns": null,
            "grid_auto_flow": null,
            "grid_auto_rows": null,
            "grid_column": null,
            "grid_gap": null,
            "grid_row": null,
            "grid_template_areas": null,
            "grid_template_columns": null,
            "grid_template_rows": null,
            "height": null,
            "justify_content": null,
            "justify_items": null,
            "left": null,
            "margin": null,
            "max_height": null,
            "max_width": null,
            "min_height": null,
            "min_width": null,
            "object_fit": null,
            "object_position": null,
            "order": null,
            "overflow": null,
            "overflow_x": null,
            "overflow_y": null,
            "padding": null,
            "right": null,
            "top": null,
            "visibility": null,
            "width": null
          }
        },
        "5584948198894e0a807865d0b959cbd5": {
          "model_module": "@jupyter-widgets/controls",
          "model_name": "DescriptionStyleModel",
          "model_module_version": "1.5.0",
          "state": {
            "_model_module": "@jupyter-widgets/controls",
            "_model_module_version": "1.5.0",
            "_model_name": "DescriptionStyleModel",
            "_view_count": null,
            "_view_module": "@jupyter-widgets/base",
            "_view_module_version": "1.2.0",
            "_view_name": "StyleView",
            "description_width": ""
          }
        }
      }
    }
  },
  "nbformat": 4,
  "nbformat_minor": 0
}